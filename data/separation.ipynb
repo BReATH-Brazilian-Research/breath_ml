{
 "cells": [
  {
   "cell_type": "markdown",
   "metadata": {},
   "source": [
    "# Pré-processamento e separação\n",
    "\n",
    "Esse notebook irá pré-processar e separar os dados.\n",
    "\n",
    "Entrada: banco de dados \"breath.db\"\n",
    "Saída: arquivos com os dados processados e separados, em DataFrames serializados e arquivos CSV"
   ]
  },
  {
   "cell_type": "markdown",
   "metadata": {},
   "source": [
    "Antes de começar, verifique se você possui todas as bibliotecas necessárias no segundo conjunto da próxima célula.\n",
    "\n",
    "Caso não possua, instale utilizando `python -m pip install <nome_da_biblioteca>` (Windows) ou `pip3 install <nome_da_biblioteca>` (Linux)."
   ]
  },
  {
   "cell_type": "code",
   "execution_count": 1,
   "metadata": {},
   "outputs": [],
   "source": [
    "import sqlite3\n",
    "import json\n",
    "import pickle\n",
    "\n",
    "import pandas as pd\n",
    "import numpy as np\n",
    "from geopy.distance import distance as geodist"
   ]
  },
  {
   "cell_type": "markdown",
   "metadata": {},
   "source": [
    "## Leitura do banco de dados\n",
    "\n",
    "O banco de dados será lido, e será extraído metadados (nomes das tabelas, esquemas das tabelas)."
   ]
  },
  {
   "cell_type": "code",
   "execution_count": 2,
   "metadata": {},
   "outputs": [],
   "source": [
    "conn = sqlite3.connect('breath.db')\n",
    "cursor = conn.cursor()"
   ]
  },
  {
   "cell_type": "code",
   "execution_count": 3,
   "metadata": {},
   "outputs": [
    {
     "data": {
      "text/plain": [
       "<sqlite3.Cursor at 0x20bfbdb5c00>"
      ]
     },
     "execution_count": 3,
     "metadata": {},
     "output_type": "execute_result"
    }
   ],
   "source": [
    "cursor.execute(\"CREATE TABLE IF NOT EXISTS Workflow( Nome TEXT PRIMARY KEY, Executado BOOL NOT NULL DEFAULT '0')\")"
   ]
  },
  {
   "cell_type": "code",
   "execution_count": 4,
   "metadata": {},
   "outputs": [
    {
     "data": {
      "text/plain": [
       "['Sintomas',\n",
       " 'Cidades',\n",
       " 'Estacoes',\n",
       " 'Clima',\n",
       " 'SRAG',\n",
       " 'Estacao_Cidade',\n",
       " 'Workflow']"
      ]
     },
     "execution_count": 4,
     "metadata": {},
     "output_type": "execute_result"
    }
   ],
   "source": [
    "data = cursor.execute(\"SELECT name FROM sqlite_master WHERE type='table';\")\n",
    "\n",
    "table_names = []\n",
    "\n",
    "for i in data.fetchall():\n",
    "    if i[0] != \"sqlite_sequence\":\n",
    "        table_names.append(i[0])\n",
    "\n",
    "table_names"
   ]
  },
  {
   "cell_type": "code",
   "execution_count": 5,
   "metadata": {},
   "outputs": [],
   "source": [
    "table_columns = {}\n",
    "\n",
    "for name in table_names:\n",
    "    data = cursor.execute(\"SELECT * FROM {0}\".format(name))\n",
    "    table_columns[name] = []\n",
    "\n",
    "    for column in data.description:\n",
    "        table_columns[name].append(column[0])"
   ]
  },
  {
   "cell_type": "code",
   "execution_count": 6,
   "metadata": {},
   "outputs": [],
   "source": [
    "table_schemas = {}\n",
    "\n",
    "for name in table_columns:\n",
    "    schema = name+\"(\"\n",
    "\n",
    "    for column in table_columns[name]:\n",
    "        schema += column + \", \"\n",
    "    schema += \")\"\n",
    "\n",
    "    table_schemas[name] = schema"
   ]
  },
  {
   "cell_type": "code",
   "execution_count": 7,
   "metadata": {},
   "outputs": [
    {
     "name": "stdout",
     "output_type": "stream",
     "text": [
      "Sintomas(Id, Tipo, Ano, Mês, Dia, Cidade, )\n",
      "\n",
      "Cidades(Id, UF, Nome_UF, Mesorregiao_geografica, Nome_mesorregiao, Microrregiao_geografica, Nome_microrregiao, Municipio, Cod_municipio, Nome_municipio, Pop_estimada, lat, lon, )\n",
      "\n",
      "Estacoes(Id, Estacao, Regiao, UF, Codigo, Prim_data, alt, lon, lat, )\n",
      "\n",
      "Clima(id, date, station, precipitacao, pressao_at_max, pressao_at_min, radiacao, temp_max, temp_min, umidade, max_vent, velocidade_vent, region, state, lat, lon, elvt, )\n",
      "\n",
      "SRAG(id, DT_NOTIFIC, ID_MUNICIP, SEM_NOT, SG_UF_NOT, DT_SIN_PRI, DT_NASC, NU_IDADE_N, CS_SEXO, CS_GESTANT, CS_RACA, CS_ESCOL_N, SG_UF, ID_MN_RESI, ID_OCUPA_N, VACINA, FEBRE, TOSSE, CALAFRIO, DISPNEIA, GARGANTA, ARTRALGIA, MIALGIA, CONJUNTIV, CORIZA, DIARREIA, OUTRO_SIN, OUTRO_DES, CARDIOPATI, PNEUMOPATI, RENAL, HEMOGLOBI, IMUNODEPRE, TABAGISMO, METABOLICA, OUT_MORBI, MORB_DESC, HOSPITAL, DT_INTERNA, CO_UF_INTE, CO_MU_INTE, DT_PCR, PCR_AMOSTR, PCR_OUT, PCR_RES, PCR_ETIOL, PCR_TIPO_H, PCR_TIPO_N, DT_CULTURA, CULT_AMOST, CULT_OUT, CULT_RES, DT_HEMAGLU, HEMA_RES, HEMA_ETIOL, HEM_TIPO_H, HEM_TIPO_N, DT_RAIOX, RAIOX_RES, RAIOX_OUT, CLASSI_FIN, CLASSI_OUT, CRITERIO, TPAUTOCTO, DOENCA_TRA, EVOLUCAO, DT_OBITO, DT_ENCERRA, DT_DIGITA, SRAG2013FINAL, OBES_IMC, OUT_AMOST, DS_OAGEETI, DS_OUTMET, DS_OUTSUB, OUT_ANTIV, DT_COLETA, DT_ENTUTI, DT_ANTIVIR, DT_IFI, DT_OUTMET, DT_PCR_1, DT_SAIDUTI, RES_ADNO, AMOSTRA, HEPATICA, NEUROLOGIC, OBESIDADE, PUERPERA, SIND_DOWN, RES_FLUA, RES_FLUB, UTI, IFI, PCR, RES_OUTRO, OUT_METODO, RES_PARA1, RES_PARA2, RES_PARA3, DESC_RESP, SATURACAO, ST_TIPOFI, TIPO_PCR, ANTIVIRAL, SUPORT_VEN, RES_VSR, RES_FLUASU, DT_UT_DOSE, )\n",
      "\n",
      "Estacao_Cidade(Id_Cidade, Id_Estacao, )\n",
      "\n",
      "Workflow(Nome, Executado, )\n",
      "\n"
     ]
    }
   ],
   "source": [
    "for name in table_schemas:\n",
    "    print(table_schemas[name])\n",
    "    print()"
   ]
  },
  {
   "cell_type": "markdown",
   "metadata": {},
   "source": [
    "## Processamento de dados\n",
    "\n",
    "Aqui, os dados do banco serão transformados e aglomerados em visões até obtemos a tabela final desejada para o dataset"
   ]
  },
  {
   "cell_type": "markdown",
   "metadata": {},
   "source": [
    "### Processamento de dados climáticos\n",
    "\n",
    "Nessa seção, os dados climáticos serão processados, realizando as seguintes operações:\n",
    "\n",
    "- Será criado uma tabela relacionando as estações climáticas com as cidades. Uma estação é associada a uma cidade se ela está até 25 km da posição geográfica registrada para a cidade\n",
    "- Será criado uma visão com os dados climáticos associados com o dia desde a epoch\n",
    "- A tabela de dados climáticos é associada com as cidades, utilizando a tabela que relaciona as estações com as cidades criada anteriormente. O dado climático de uma cidade é definido como a média dos dados das estações associadas."
   ]
  },
  {
   "cell_type": "code",
   "execution_count": 8,
   "metadata": {},
   "outputs": [],
   "source": [
    "# Carrega e salva posições e nomes das estações climáticas e cidades\n",
    "\n",
    "data = cursor.execute(\"SELECT lat, lon FROM Estacoes\")\n",
    "data = data.fetchall()\n",
    "pos_estacoes = data \n",
    "\n",
    "data = cursor.execute(\"SELECT Estacao FROM Estacoes\")\n",
    "data = data.fetchall()\n",
    "nome_estacoes = np.asarray(data).flatten()\n",
    "\n",
    "data = cursor.execute(\"SELECT Id FROM Estacoes\")\n",
    "data = data.fetchall()\n",
    "id_estacoes = np.asarray(data).flatten()\n",
    "\n",
    "data = cursor.execute(\"SELECT lat, lon FROM Cidades\")\n",
    "data = data.fetchall()\n",
    "pos_cidades = data\n",
    "\n",
    "data = cursor.execute(\"SELECT Nome_municipio FROM Cidades\")\n",
    "data = data.fetchall()\n",
    "nome_cidades = np.asarray(data).flatten()\n",
    "\n",
    "data = cursor.execute(\"SELECT Id FROM Cidades\")\n",
    "data = data.fetchall()\n",
    "id_cidades = np.asarray(data).flatten()"
   ]
  },
  {
   "cell_type": "code",
   "execution_count": 9,
   "metadata": {},
   "outputs": [
    {
     "data": {
      "text/plain": [
       "<sqlite3.Cursor at 0x22a418bc8f0>"
      ]
     },
     "execution_count": 9,
     "metadata": {},
     "output_type": "execute_result"
    }
   ],
   "source": [
    "# Cria tabela que relaciona estações climáticas com cidades\n",
    "\n",
    "query = \"CREATE TABLE IF NOT EXISTS Estacao_Cidade(Id_Cidade INTEGER, Id_Estacao INTEGER, \"\n",
    "query += \"FOREIGN KEY (Id_Cidade) REFERENCES Cidades(Id), FOREIGN KEY (Id_Estacao) REFERENCES Estacoes(Id)\"\n",
    "query += \")\"\n",
    "cursor.execute(query)"
   ]
  },
  {
   "cell_type": "code",
   "execution_count": 10,
   "metadata": {},
   "outputs": [],
   "source": [
    "# Procura as estações climáticas mais próximas (distancia < 25 km)\n",
    "\n",
    "for i in range(len(pos_cidades)):\n",
    "\n",
    "    distances = np.ndarray(len(pos_estacoes), np.float32)\n",
    "\n",
    "    for j in range(len(pos_estacoes)):\n",
    "        distances[j] = geodist(pos_cidades[i], pos_estacoes[j]).km\n",
    "\n",
    "    indexes = np.argwhere(distances < 25.0).flatten()\n",
    "\n",
    "    id_cidade_to_insert = id_cidades[i]\n",
    "    id_estacoes_to_insert = id_estacoes[indexes]\n",
    "\n",
    "    for id_estacao in id_estacoes_to_insert:\n",
    "        query = \"INSERT INTO Estacao_Cidade(Id_Cidade, Id_Estacao) VALUES('{0}', '{1}')\".format(id_cidade_to_insert, id_estacao)\n",
    "        cursor.execute(query)\n",
    "    \n",
    "conn.commit()"
   ]
  },
  {
   "cell_type": "code",
   "execution_count": 22,
   "metadata": {},
   "outputs": [
    {
     "data": {
      "text/plain": [
       "<sqlite3.Cursor at 0x22a418bc8f0>"
      ]
     },
     "execution_count": 22,
     "metadata": {},
     "output_type": "execute_result"
    }
   ],
   "source": [
    "# Cria view com dia desde a epoch para a tabela de dados climáticos\n",
    "\n",
    "query = \"CREATE VIEW IF NOT EXISTS Clima_Data  AS SELECT *, \"\n",
    "query += \"(strftime('%s', substr(date, 7, 8) ||'-'|| substr(substr(date, 4, 6),1,2) ||'-'|| substr(date, 1, 2) )/86400) AS DIA \"\n",
    "query += \"FROM Clima\"\n",
    "\n",
    "cursor.execute(query)"
   ]
  },
  {
   "cell_type": "code",
   "execution_count": 55,
   "metadata": {},
   "outputs": [],
   "source": [
    "# View com o clima e as cidades\n",
    "\n",
    "query = \"CREATE VIEW IF NOT EXISTS Clima_Cidade AS \" \n",
    "query += \"SELECT Nome_municipio, Cidades.Pop_estimada, Clima_Data.DIA, \"\n",
    "query += \"Avg(precipitacao) AS Precipitacao, Avg(pressao_at_max) AS Pressao_at_max, Avg(pressao_at_min) AS Pressao_at_min, Avg(radiacao) AS Radiacao, Avg(temp_max) AS Temp_max, Avg(temp_min) AS Temp_min, Avg(umidade) AS Umidade, Avg(max_vent) AS Max_vent, Avg(velocidade_vent) AS Velocidade_vent \"\n",
    "query += \"FROM Cidades, Estacao_Cidade, Estacoes, Clima_Data \" \n",
    "query += \"WHERE Estacao_Cidade.Id_Cidade=Cidades.Id AND Estacoes.Id = Estacao_Cidade.Id_Estacao AND Estacoes.Estacao = Clima_Data.station \"\n",
    "query += \"GROUP BY Nome_municipio, DIA\"\n",
    "\n",
    "cursor.execute(query)\n",
    "conn.commit()"
   ]
  },
  {
   "cell_type": "markdown",
   "metadata": {},
   "source": [
    "### Processamento de dados médicos\n",
    "\n",
    "Aqui, os dados do SRAG serão processados, realizando as seguintes operações:\n",
    "\n",
    "- As datas dos dados serão transformadas para o formato de dia desde a epoch\n",
    "- Os casos por cidade por dia serão aglomerados, considerando um caso todas as entradas da tabela que possuem febre, tosse ou dor de garganta. A quantidade de casos pela população da cidade também é calculada."
   ]
  },
  {
   "cell_type": "code",
   "execution_count": 12,
   "metadata": {},
   "outputs": [
    {
     "data": {
      "text/plain": [
       "<sqlite3.Cursor at 0x22a418bc8f0>"
      ]
     },
     "execution_count": 12,
     "metadata": {},
     "output_type": "execute_result"
    }
   ],
   "source": [
    "# Cria view com dia desde epoch para a tabela de dados de sintoma\n",
    "\n",
    "query = \"CREATE VIEW IF NOT EXISTS SRAG_Data AS SELECT *, \"\n",
    "query += \"(strftime('%s', substr(DT_NOTIFIC, 7, 8) ||'-'|| substr(substr(DT_NOTIFIC, 4, 6),1,2) ||'-'|| substr(DT_NOTIFIC, 1, 2) )/86400) AS DIA \"\n",
    "query += \"FROM SRAG\"\n",
    "\n",
    "\n",
    "cursor.execute(query)"
   ]
  },
  {
   "cell_type": "code",
   "execution_count": 15,
   "metadata": {},
   "outputs": [
    {
     "data": {
      "text/plain": [
       "<sqlite3.Cursor at 0x22a418bc8f0>"
      ]
     },
     "execution_count": 15,
     "metadata": {},
     "output_type": "execute_result"
    }
   ],
   "source": [
    "# Cria view de casos por cidade e dia\n",
    "\n",
    "query = \"CREATE VIEW IF NOT EXISTS Casos_Dia AS \"\n",
    "query += \"SELECT ID_MUNICIP, DIA, Count(*) AS Casos, Count(*)/Pop_estimada as Casos_pela_pop, Pop_estimada \"\n",
    "query += \"FROM SRAG_Data, Cidades \"\n",
    "query += \"WHERE SRAG_Data.ID_MUNICIP = Cidades.Nome_municipio AND(FEBRE='1.0' OR TOSSE='1.0' OR GARGANTA='1.0') \"\n",
    "query += \"GROUP BY ID_MUNICIP, DIA\"\n",
    "cursor.execute(query)"
   ]
  },
  {
   "cell_type": "markdown",
   "metadata": {},
   "source": [
    "### Geração da tabela final\n",
    "\n",
    "A tabela final do dataset relacionando o clima aos casos é criada e lida do banco de dados."
   ]
  },
  {
   "cell_type": "code",
   "execution_count": 62,
   "metadata": {},
   "outputs": [],
   "source": [
    "# Cria tabela final que relaciona o clima com os casos\n",
    "\n",
    "query = \"CREATE VIEW IF NOT EXISTS Clima_Casos AS \"\n",
    "query += \"SELECT Clima_Cidade.Nome_municipio, Clima_Cidade.DIA as Dia, Precipitacao,  \"\n",
    "query += \"Pressao_at_max, Pressao_at_min, Radiacao, Temp_max, Temp_min, Umidade, Max_vent, Velocidade_vent, \"\n",
    "query += \"Clima_Cidade.Pop_estimada, IFNULL(Casos, 0) as Casos, IFNULL(Casos_pela_pop, 0) AS Casos_pela_pop \"\n",
    "query += \"FROM Clima_Cidade LEFT JOIN Casos_Dia \"\n",
    "query += \"ON Clima_Cidade.Nome_municipio = Casos_Dia.ID_MUNICIP AND Clima_Cidade.DIA = Casos_Dia.DIA \"\n",
    "query += \"ORDER BY Nome_municipio, Clima_Cidade.DIA \"\n",
    "\n",
    "data = cursor.execute(query)\n",
    "data = data.fetchall()\n",
    "\n",
    "conn.commit()"
   ]
  },
  {
   "cell_type": "code",
   "execution_count": 65,
   "metadata": {},
   "outputs": [],
   "source": [
    "# Solicita todos os dados\n",
    "\n",
    "data_execution = cursor.execute(\"SELECT * FROM Clima_Casos\")\n",
    "data = data_execution.fetchall()\n",
    "\n",
    "final_data = data"
   ]
  },
  {
   "cell_type": "code",
   "execution_count": 68,
   "metadata": {},
   "outputs": [
    {
     "data": {
      "text/plain": [
       "['Nome_municipio',\n",
       " 'Dia',\n",
       " 'Precipitacao',\n",
       " 'Pressao_at_max',\n",
       " 'Pressao_at_min',\n",
       " 'Radiacao',\n",
       " 'Temp_max',\n",
       " 'Temp_min',\n",
       " 'Umidade',\n",
       " 'Max_vent',\n",
       " 'Velocidade_vent',\n",
       " 'Pop_estimada',\n",
       " 'Casos',\n",
       " 'Casos_pela_pop']"
      ]
     },
     "execution_count": 68,
     "metadata": {},
     "output_type": "execute_result"
    }
   ],
   "source": [
    "# Pega a sequência das colunas\n",
    "\n",
    "final_column_names = []\n",
    "\n",
    "for column in data_execution.description:\n",
    "    final_column_names.append(column[0])\n",
    "\n",
    "final_column_names"
   ]
  },
  {
   "cell_type": "markdown",
   "metadata": {},
   "source": [
    "## Separação e exportação dos dados\n",
    "\n",
    "Aqui os dados são separados nos conjuntos de treino, validação e teste, para treino dos modelos e do ensemble.\n",
    "\n",
    "### Estratégia de separação\n",
    "\n",
    "Seguimos a seguinte proporção de divisão:\n",
    "\n",
    "- 10% Teste\n",
    "- 70% Para os modelos\n",
    "- 20% Para o ensemble\n",
    "  \n",
    "Os dados para os modelos e para o ensemble são divididos em:\n",
    "\n",
    "- 80% Treino\n",
    "- 20% Validação\n",
    "\n",
    "Portanto, a divisão final é:\n",
    "\n",
    "- 10% Teste\n",
    "- 56% Treino dos modelos\n",
    "- 14% Validação dos modelos\n",
    "- 16% Treino do ensemble\n",
    "-  4% Validação do ensemble"
   ]
  },
  {
   "cell_type": "code",
   "execution_count": 70,
   "metadata": {},
   "outputs": [
    {
     "data": {
      "text/html": [
       "<div>\n",
       "<style scoped>\n",
       "    .dataframe tbody tr th:only-of-type {\n",
       "        vertical-align: middle;\n",
       "    }\n",
       "\n",
       "    .dataframe tbody tr th {\n",
       "        vertical-align: top;\n",
       "    }\n",
       "\n",
       "    .dataframe thead th {\n",
       "        text-align: right;\n",
       "    }\n",
       "</style>\n",
       "<table border=\"1\" class=\"dataframe\">\n",
       "  <thead>\n",
       "    <tr style=\"text-align: right;\">\n",
       "      <th></th>\n",
       "      <th>Dia</th>\n",
       "      <th>Precipitacao</th>\n",
       "      <th>Pressao_at_max</th>\n",
       "      <th>Pressao_at_min</th>\n",
       "      <th>Radiacao</th>\n",
       "      <th>Temp_max</th>\n",
       "      <th>Temp_min</th>\n",
       "      <th>Umidade</th>\n",
       "      <th>Max_vent</th>\n",
       "      <th>Velocidade_vent</th>\n",
       "      <th>Casos</th>\n",
       "      <th>Casos_pela_pop</th>\n",
       "    </tr>\n",
       "  </thead>\n",
       "  <tbody>\n",
       "    <tr>\n",
       "      <th>count</th>\n",
       "      <td>6.597097e+06</td>\n",
       "      <td>6.597097e+06</td>\n",
       "      <td>6.597097e+06</td>\n",
       "      <td>6.597097e+06</td>\n",
       "      <td>6.597097e+06</td>\n",
       "      <td>6.597097e+06</td>\n",
       "      <td>6.597097e+06</td>\n",
       "      <td>6.597097e+06</td>\n",
       "      <td>6.597097e+06</td>\n",
       "      <td>6.597097e+06</td>\n",
       "      <td>6.597097e+06</td>\n",
       "      <td>6.597097e+06</td>\n",
       "    </tr>\n",
       "    <tr>\n",
       "      <th>mean</th>\n",
       "      <td>1.615627e+04</td>\n",
       "      <td>2.295044e+00</td>\n",
       "      <td>9.631145e+02</td>\n",
       "      <td>9.625248e+02</td>\n",
       "      <td>1.483463e+03</td>\n",
       "      <td>2.859422e+01</td>\n",
       "      <td>1.845028e+01</td>\n",
       "      <td>6.579338e+01</td>\n",
       "      <td>8.806669e+00</td>\n",
       "      <td>2.432381e+00</td>\n",
       "      <td>1.987723e-02</td>\n",
       "      <td>4.874491e-03</td>\n",
       "    </tr>\n",
       "    <tr>\n",
       "      <th>std</th>\n",
       "      <td>1.570813e+03</td>\n",
       "      <td>7.498920e+00</td>\n",
       "      <td>3.760641e+01</td>\n",
       "      <td>3.758300e+01</td>\n",
       "      <td>1.612715e+03</td>\n",
       "      <td>5.032088e+00</td>\n",
       "      <td>4.562282e+00</td>\n",
       "      <td>1.535542e+01</td>\n",
       "      <td>2.985992e+00</td>\n",
       "      <td>1.308411e+00</td>\n",
       "      <td>4.686740e-01</td>\n",
       "      <td>1.577920e-01</td>\n",
       "    </tr>\n",
       "    <tr>\n",
       "      <th>min</th>\n",
       "      <td>1.108400e+04</td>\n",
       "      <td>0.000000e+00</td>\n",
       "      <td>7.498000e+02</td>\n",
       "      <td>7.487000e+02</td>\n",
       "      <td>0.000000e+00</td>\n",
       "      <td>-4.700000e+00</td>\n",
       "      <td>-9.000000e+00</td>\n",
       "      <td>7.000000e+00</td>\n",
       "      <td>0.000000e+00</td>\n",
       "      <td>0.000000e+00</td>\n",
       "      <td>0.000000e+00</td>\n",
       "      <td>0.000000e+00</td>\n",
       "    </tr>\n",
       "    <tr>\n",
       "      <th>25%</th>\n",
       "      <td>1.491600e+04</td>\n",
       "      <td>0.000000e+00</td>\n",
       "      <td>9.338786e+02</td>\n",
       "      <td>9.333154e+02</td>\n",
       "      <td>1.025692e+03</td>\n",
       "      <td>2.570000e+01</td>\n",
       "      <td>1.590000e+01</td>\n",
       "      <td>5.575000e+01</td>\n",
       "      <td>6.900000e+00</td>\n",
       "      <td>1.538462e+00</td>\n",
       "      <td>0.000000e+00</td>\n",
       "      <td>0.000000e+00</td>\n",
       "    </tr>\n",
       "    <tr>\n",
       "      <th>50%</th>\n",
       "      <td>1.623800e+04</td>\n",
       "      <td>0.000000e+00</td>\n",
       "      <td>9.641333e+02</td>\n",
       "      <td>9.635364e+02</td>\n",
       "      <td>1.416083e+03</td>\n",
       "      <td>2.930000e+01</td>\n",
       "      <td>1.920000e+01</td>\n",
       "      <td>6.692308e+01</td>\n",
       "      <td>8.600000e+00</td>\n",
       "      <td>2.242857e+00</td>\n",
       "      <td>0.000000e+00</td>\n",
       "      <td>0.000000e+00</td>\n",
       "    </tr>\n",
       "    <tr>\n",
       "      <th>75%</th>\n",
       "      <td>1.750300e+04</td>\n",
       "      <td>4.000000e-01</td>\n",
       "      <td>9.969308e+02</td>\n",
       "      <td>9.962818e+02</td>\n",
       "      <td>1.730667e+03</td>\n",
       "      <td>3.210000e+01</td>\n",
       "      <td>2.170000e+01</td>\n",
       "      <td>7.700000e+01</td>\n",
       "      <td>1.050000e+01</td>\n",
       "      <td>3.150000e+00</td>\n",
       "      <td>0.000000e+00</td>\n",
       "      <td>0.000000e+00</td>\n",
       "    </tr>\n",
       "    <tr>\n",
       "      <th>max</th>\n",
       "      <td>1.874700e+04</td>\n",
       "      <td>2.990000e+02</td>\n",
       "      <td>1.050000e+03</td>\n",
       "      <td>1.049600e+03</td>\n",
       "      <td>4.426500e+04</td>\n",
       "      <td>4.500000e+01</td>\n",
       "      <td>4.480000e+01</td>\n",
       "      <td>1.000000e+02</td>\n",
       "      <td>8.840000e+01</td>\n",
       "      <td>2.379231e+01</td>\n",
       "      <td>1.910000e+02</td>\n",
       "      <td>3.217158e+01</td>\n",
       "    </tr>\n",
       "  </tbody>\n",
       "</table>\n",
       "</div>"
      ],
      "text/plain": [
       "                Dia  Precipitacao  Pressao_at_max  Pressao_at_min  \\\n",
       "count  6.597097e+06  6.597097e+06    6.597097e+06    6.597097e+06   \n",
       "mean   1.615627e+04  2.295044e+00    9.631145e+02    9.625248e+02   \n",
       "std    1.570813e+03  7.498920e+00    3.760641e+01    3.758300e+01   \n",
       "min    1.108400e+04  0.000000e+00    7.498000e+02    7.487000e+02   \n",
       "25%    1.491600e+04  0.000000e+00    9.338786e+02    9.333154e+02   \n",
       "50%    1.623800e+04  0.000000e+00    9.641333e+02    9.635364e+02   \n",
       "75%    1.750300e+04  4.000000e-01    9.969308e+02    9.962818e+02   \n",
       "max    1.874700e+04  2.990000e+02    1.050000e+03    1.049600e+03   \n",
       "\n",
       "           Radiacao      Temp_max      Temp_min       Umidade      Max_vent  \\\n",
       "count  6.597097e+06  6.597097e+06  6.597097e+06  6.597097e+06  6.597097e+06   \n",
       "mean   1.483463e+03  2.859422e+01  1.845028e+01  6.579338e+01  8.806669e+00   \n",
       "std    1.612715e+03  5.032088e+00  4.562282e+00  1.535542e+01  2.985992e+00   \n",
       "min    0.000000e+00 -4.700000e+00 -9.000000e+00  7.000000e+00  0.000000e+00   \n",
       "25%    1.025692e+03  2.570000e+01  1.590000e+01  5.575000e+01  6.900000e+00   \n",
       "50%    1.416083e+03  2.930000e+01  1.920000e+01  6.692308e+01  8.600000e+00   \n",
       "75%    1.730667e+03  3.210000e+01  2.170000e+01  7.700000e+01  1.050000e+01   \n",
       "max    4.426500e+04  4.500000e+01  4.480000e+01  1.000000e+02  8.840000e+01   \n",
       "\n",
       "       Velocidade_vent         Casos  Casos_pela_pop  \n",
       "count     6.597097e+06  6.597097e+06    6.597097e+06  \n",
       "mean      2.432381e+00  1.987723e-02    4.874491e-03  \n",
       "std       1.308411e+00  4.686740e-01    1.577920e-01  \n",
       "min       0.000000e+00  0.000000e+00    0.000000e+00  \n",
       "25%       1.538462e+00  0.000000e+00    0.000000e+00  \n",
       "50%       2.242857e+00  0.000000e+00    0.000000e+00  \n",
       "75%       3.150000e+00  0.000000e+00    0.000000e+00  \n",
       "max       2.379231e+01  1.910000e+02    3.217158e+01  "
      ]
     },
     "execution_count": 70,
     "metadata": {},
     "output_type": "execute_result"
    }
   ],
   "source": [
    "# Cria um DataFrame com os dados\n",
    "\n",
    "final_dataframe = pd.DataFrame(final_data, columns = final_column_names)\n",
    "\n",
    "final_dataframe.describe()"
   ]
  },
  {
   "cell_type": "code",
   "execution_count": 90,
   "metadata": {},
   "outputs": [],
   "source": [
    "# Separa os dados\n",
    "\n",
    "n = len(final_dataframe)\n",
    "\n",
    "test_df = final_dataframe[0:int(0.1*n)]\n",
    "train_df = final_dataframe[int(0.1*n):int(0.66*n)]\n",
    "val_df = final_dataframe[int(0.66*n):int(0.8*n)]\n",
    "ens_train_df = final_dataframe[int(0.8*n):int(0.96*n)]\n",
    "ens_val_df = final_dataframe[int(0.96*n):]"
   ]
  },
  {
   "cell_type": "code",
   "execution_count": 117,
   "metadata": {},
   "outputs": [],
   "source": [
    "# Cria um dicionário com os dados para facilitar a exportação\n",
    "\n",
    "df_dict = {}\n",
    "df_dict[\"test_df\"] = test_df\n",
    "df_dict[\"train_df\"] = train_df\n",
    "df_dict[\"val_df\"] = val_df\n",
    "df_dict[\"ens_train_df\"] = ens_train_df\n",
    "df_dict[\"ens_val_df\"] = ens_val_df"
   ]
  },
  {
   "cell_type": "code",
   "execution_count": 119,
   "metadata": {},
   "outputs": [],
   "source": [
    "# Exporta os dados usando o pickle\n",
    "\n",
    "for df_name in df_dict:\n",
    "    file = open(df_name, 'wb')\n",
    "    pickle.dump(df_dict[df_name], file)\n",
    "    file.close()\n",
    "\n",
    "file = open(\"dataset\", 'wb')\n",
    "pickle.dump(df_dict, file)\n",
    "file.close()"
   ]
  },
  {
   "cell_type": "code",
   "execution_count": 131,
   "metadata": {},
   "outputs": [],
   "source": [
    "# Exporta os dados para CSV\n",
    "\n",
    "for df_name in df_dict:\n",
    "    df_dict[df_name].to_csv(df_name+\".csv\")"
   ]
  },
  {
   "cell_type": "code",
   "execution_count": 129,
   "metadata": {},
   "outputs": [],
   "source": [
    "# Exporta um arquivo descrevendo o dataset\n",
    "\n",
    "info_dict = {}\n",
    "info_dict[\"column_names\"] = final_column_names\n",
    "info_dict[\"feature_names\"] = final_column_names[:-2]\n",
    "info_dict[\"target_names\"] = final_column_names[-2:]\n",
    "info_dict[\"data_count\"] = n\n",
    "info_dict[\"train_count\"] = len(train_df)\n",
    "info_dict[\"test_count\"] = len(test_df)\n",
    "info_dict[\"val_count\"] = len(val_df)\n",
    "info_dict[\"ensemble_train_count\"] = len(ens_train_df)\n",
    "info_dict[\"ensemble_val_count\"] = len(ens_val_df)\n",
    "\n",
    "file = open(\"info.json\", \"w\")\n",
    "json.dump(info_dict, file)\n",
    "file.close()"
   ]
  },
  {
   "cell_type": "code",
   "execution_count": 120,
   "metadata": {},
   "outputs": [
    {
     "data": {
      "text/html": [
       "<div>\n",
       "<style scoped>\n",
       "    .dataframe tbody tr th:only-of-type {\n",
       "        vertical-align: middle;\n",
       "    }\n",
       "\n",
       "    .dataframe tbody tr th {\n",
       "        vertical-align: top;\n",
       "    }\n",
       "\n",
       "    .dataframe thead th {\n",
       "        text-align: right;\n",
       "    }\n",
       "</style>\n",
       "<table border=\"1\" class=\"dataframe\">\n",
       "  <thead>\n",
       "    <tr style=\"text-align: right;\">\n",
       "      <th></th>\n",
       "      <th>Nome_municipio</th>\n",
       "      <th>Dia</th>\n",
       "      <th>Precipitacao</th>\n",
       "      <th>Pressao_at_max</th>\n",
       "      <th>Pressao_at_min</th>\n",
       "      <th>Radiacao</th>\n",
       "      <th>Temp_max</th>\n",
       "      <th>Temp_min</th>\n",
       "      <th>Umidade</th>\n",
       "      <th>Max_vent</th>\n",
       "      <th>Velocidade_vent</th>\n",
       "      <th>Pop_estimada</th>\n",
       "      <th>Casos</th>\n",
       "      <th>Casos_pela_pop</th>\n",
       "    </tr>\n",
       "  </thead>\n",
       "  <tbody>\n",
       "    <tr>\n",
       "      <th>0</th>\n",
       "      <td>abaira</td>\n",
       "      <td>14004</td>\n",
       "      <td>0.0</td>\n",
       "      <td>874.530000</td>\n",
       "      <td>874.060000</td>\n",
       "      <td>2098.900000</td>\n",
       "      <td>27.0</td>\n",
       "      <td>19.3</td>\n",
       "      <td>47.100000</td>\n",
       "      <td>6.9</td>\n",
       "      <td>1.900000</td>\n",
       "      <td>8.681</td>\n",
       "      <td>0</td>\n",
       "      <td>0.0</td>\n",
       "    </tr>\n",
       "    <tr>\n",
       "      <th>1</th>\n",
       "      <td>abaira</td>\n",
       "      <td>14005</td>\n",
       "      <td>0.0</td>\n",
       "      <td>873.525000</td>\n",
       "      <td>873.066667</td>\n",
       "      <td>1822.916667</td>\n",
       "      <td>28.1</td>\n",
       "      <td>15.8</td>\n",
       "      <td>50.250000</td>\n",
       "      <td>8.0</td>\n",
       "      <td>2.383333</td>\n",
       "      <td>8.681</td>\n",
       "      <td>0</td>\n",
       "      <td>0.0</td>\n",
       "    </tr>\n",
       "    <tr>\n",
       "      <th>2</th>\n",
       "      <td>abaira</td>\n",
       "      <td>14006</td>\n",
       "      <td>0.0</td>\n",
       "      <td>873.841667</td>\n",
       "      <td>873.375000</td>\n",
       "      <td>1385.833333</td>\n",
       "      <td>26.2</td>\n",
       "      <td>18.7</td>\n",
       "      <td>60.250000</td>\n",
       "      <td>7.1</td>\n",
       "      <td>2.600000</td>\n",
       "      <td>8.681</td>\n",
       "      <td>0</td>\n",
       "      <td>0.0</td>\n",
       "    </tr>\n",
       "    <tr>\n",
       "      <th>3</th>\n",
       "      <td>abaira</td>\n",
       "      <td>14007</td>\n",
       "      <td>0.2</td>\n",
       "      <td>874.016667</td>\n",
       "      <td>873.516667</td>\n",
       "      <td>1137.250000</td>\n",
       "      <td>23.3</td>\n",
       "      <td>17.6</td>\n",
       "      <td>76.083333</td>\n",
       "      <td>7.6</td>\n",
       "      <td>2.275000</td>\n",
       "      <td>8.681</td>\n",
       "      <td>0</td>\n",
       "      <td>0.0</td>\n",
       "    </tr>\n",
       "    <tr>\n",
       "      <th>4</th>\n",
       "      <td>abaira</td>\n",
       "      <td>14008</td>\n",
       "      <td>0.0</td>\n",
       "      <td>873.816667</td>\n",
       "      <td>873.400000</td>\n",
       "      <td>926.666667</td>\n",
       "      <td>21.9</td>\n",
       "      <td>16.9</td>\n",
       "      <td>77.750000</td>\n",
       "      <td>6.0</td>\n",
       "      <td>1.625000</td>\n",
       "      <td>8.681</td>\n",
       "      <td>0</td>\n",
       "      <td>0.0</td>\n",
       "    </tr>\n",
       "    <tr>\n",
       "      <th>...</th>\n",
       "      <td>...</td>\n",
       "      <td>...</td>\n",
       "      <td>...</td>\n",
       "      <td>...</td>\n",
       "      <td>...</td>\n",
       "      <td>...</td>\n",
       "      <td>...</td>\n",
       "      <td>...</td>\n",
       "      <td>...</td>\n",
       "      <td>...</td>\n",
       "      <td>...</td>\n",
       "      <td>...</td>\n",
       "      <td>...</td>\n",
       "      <td>...</td>\n",
       "    </tr>\n",
       "    <tr>\n",
       "      <th>659704</th>\n",
       "      <td>bela cruz</td>\n",
       "      <td>18184</td>\n",
       "      <td>0.0</td>\n",
       "      <td>1005.030769</td>\n",
       "      <td>1004.453846</td>\n",
       "      <td>1734.307692</td>\n",
       "      <td>33.3</td>\n",
       "      <td>23.4</td>\n",
       "      <td>63.307692</td>\n",
       "      <td>11.8</td>\n",
       "      <td>5.084615</td>\n",
       "      <td>32.851</td>\n",
       "      <td>0</td>\n",
       "      <td>0.0</td>\n",
       "    </tr>\n",
       "    <tr>\n",
       "      <th>659705</th>\n",
       "      <td>bela cruz</td>\n",
       "      <td>18185</td>\n",
       "      <td>0.0</td>\n",
       "      <td>1005.161538</td>\n",
       "      <td>1004.476923</td>\n",
       "      <td>1561.923077</td>\n",
       "      <td>32.6</td>\n",
       "      <td>24.3</td>\n",
       "      <td>64.846154</td>\n",
       "      <td>13.1</td>\n",
       "      <td>5.315385</td>\n",
       "      <td>32.851</td>\n",
       "      <td>0</td>\n",
       "      <td>0.0</td>\n",
       "    </tr>\n",
       "    <tr>\n",
       "      <th>659706</th>\n",
       "      <td>bela cruz</td>\n",
       "      <td>18186</td>\n",
       "      <td>0.0</td>\n",
       "      <td>1005.323077</td>\n",
       "      <td>1004.638462</td>\n",
       "      <td>1783.923077</td>\n",
       "      <td>34.8</td>\n",
       "      <td>23.0</td>\n",
       "      <td>54.846154</td>\n",
       "      <td>13.1</td>\n",
       "      <td>5.576923</td>\n",
       "      <td>32.851</td>\n",
       "      <td>0</td>\n",
       "      <td>0.0</td>\n",
       "    </tr>\n",
       "    <tr>\n",
       "      <th>659707</th>\n",
       "      <td>bela cruz</td>\n",
       "      <td>18187</td>\n",
       "      <td>0.0</td>\n",
       "      <td>1005.307692</td>\n",
       "      <td>1004.661538</td>\n",
       "      <td>1617.076923</td>\n",
       "      <td>33.7</td>\n",
       "      <td>24.0</td>\n",
       "      <td>61.076923</td>\n",
       "      <td>12.7</td>\n",
       "      <td>5.530769</td>\n",
       "      <td>32.851</td>\n",
       "      <td>0</td>\n",
       "      <td>0.0</td>\n",
       "    </tr>\n",
       "    <tr>\n",
       "      <th>659708</th>\n",
       "      <td>bela cruz</td>\n",
       "      <td>18188</td>\n",
       "      <td>0.0</td>\n",
       "      <td>1004.338462</td>\n",
       "      <td>1003.676923</td>\n",
       "      <td>1726.230769</td>\n",
       "      <td>34.4</td>\n",
       "      <td>23.0</td>\n",
       "      <td>63.846154</td>\n",
       "      <td>10.2</td>\n",
       "      <td>4.707692</td>\n",
       "      <td>32.851</td>\n",
       "      <td>0</td>\n",
       "      <td>0.0</td>\n",
       "    </tr>\n",
       "  </tbody>\n",
       "</table>\n",
       "<p>659709 rows × 14 columns</p>\n",
       "</div>"
      ],
      "text/plain": [
       "       Nome_municipio    Dia  Precipitacao  Pressao_at_max  Pressao_at_min  \\\n",
       "0              abaira  14004           0.0      874.530000      874.060000   \n",
       "1              abaira  14005           0.0      873.525000      873.066667   \n",
       "2              abaira  14006           0.0      873.841667      873.375000   \n",
       "3              abaira  14007           0.2      874.016667      873.516667   \n",
       "4              abaira  14008           0.0      873.816667      873.400000   \n",
       "...               ...    ...           ...             ...             ...   \n",
       "659704      bela cruz  18184           0.0     1005.030769     1004.453846   \n",
       "659705      bela cruz  18185           0.0     1005.161538     1004.476923   \n",
       "659706      bela cruz  18186           0.0     1005.323077     1004.638462   \n",
       "659707      bela cruz  18187           0.0     1005.307692     1004.661538   \n",
       "659708      bela cruz  18188           0.0     1004.338462     1003.676923   \n",
       "\n",
       "           Radiacao  Temp_max  Temp_min    Umidade  Max_vent  Velocidade_vent  \\\n",
       "0       2098.900000      27.0      19.3  47.100000       6.9         1.900000   \n",
       "1       1822.916667      28.1      15.8  50.250000       8.0         2.383333   \n",
       "2       1385.833333      26.2      18.7  60.250000       7.1         2.600000   \n",
       "3       1137.250000      23.3      17.6  76.083333       7.6         2.275000   \n",
       "4        926.666667      21.9      16.9  77.750000       6.0         1.625000   \n",
       "...             ...       ...       ...        ...       ...              ...   \n",
       "659704  1734.307692      33.3      23.4  63.307692      11.8         5.084615   \n",
       "659705  1561.923077      32.6      24.3  64.846154      13.1         5.315385   \n",
       "659706  1783.923077      34.8      23.0  54.846154      13.1         5.576923   \n",
       "659707  1617.076923      33.7      24.0  61.076923      12.7         5.530769   \n",
       "659708  1726.230769      34.4      23.0  63.846154      10.2         4.707692   \n",
       "\n",
       "       Pop_estimada  Casos  Casos_pela_pop  \n",
       "0             8.681      0             0.0  \n",
       "1             8.681      0             0.0  \n",
       "2             8.681      0             0.0  \n",
       "3             8.681      0             0.0  \n",
       "4             8.681      0             0.0  \n",
       "...             ...    ...             ...  \n",
       "659704       32.851      0             0.0  \n",
       "659705       32.851      0             0.0  \n",
       "659706       32.851      0             0.0  \n",
       "659707       32.851      0             0.0  \n",
       "659708       32.851      0             0.0  \n",
       "\n",
       "[659709 rows x 14 columns]"
      ]
     },
     "execution_count": 120,
     "metadata": {},
     "output_type": "execute_result"
    }
   ],
   "source": [
    "# Exemplo de importação\n",
    "\n",
    "file = open(\"test_df\", 'rb')\n",
    "pickle.load(file)\n",
    "file.close()"
   ]
  }
 ],
 "metadata": {
  "interpreter": {
   "hash": "2db524e06e9f5f4ffedc911c917cb75e12dbc923643829bf417064a77eb14d37"
  },
  "kernelspec": {
   "display_name": "Python 3.8.5 64-bit",
   "language": "python",
   "name": "python3"
  },
  "language_info": {
   "codemirror_mode": {
    "name": "ipython",
    "version": 3
   },
   "file_extension": ".py",
   "mimetype": "text/x-python",
   "name": "python",
   "nbconvert_exporter": "python",
   "pygments_lexer": "ipython3",
   "version": "3.8.5"
  },
  "orig_nbformat": 4
 },
 "nbformat": 4,
 "nbformat_minor": 2
}
