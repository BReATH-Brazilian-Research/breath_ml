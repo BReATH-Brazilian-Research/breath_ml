{
 "cells": [
  {
   "cell_type": "code",
   "execution_count": 1,
   "metadata": {},
   "outputs": [],
   "source": [
    "import sqlite3\n",
    "import json\n",
    "import unicodedata\n",
    "import pandas as pd\n",
    "import numpy as np"
   ]
  },
  {
   "cell_type": "code",
   "execution_count": 2,
   "metadata": {},
   "outputs": [],
   "source": [
    "IBGE = pd.read_csv('IBGE_Municipios.csv')\n",
    "geo = pd.read_csv('cidades_geo.csv')\n",
    "pop_br = pd.read_csv('pop_brasil.csv')\n",
    "pop_estados = pd.read_csv('pop_estados.csv')"
   ]
  },
  {
   "cell_type": "code",
   "execution_count": 3,
   "metadata": {},
   "outputs": [
    {
     "data": {
      "text/plain": [
       "Index(['UF', 'Nome_UF', 'Mesorregião Geográfica', 'Nome_Mesorregião',\n",
       "       'Microrregião Geográfica', 'Nome_Microrregião', 'Município',\n",
       "       'Código Município Completo', 'cidade', ' POPULAÇÃO ESTIMADA ', 'lat',\n",
       "       'lng'],\n",
       "      dtype='object')"
      ]
     },
     "execution_count": 3,
     "metadata": {},
     "output_type": "execute_result"
    }
   ],
   "source": [
    "def normalize_names(s):\n",
    "\ts = ''.join(c for c in unicodedata.normalize('NFD', s) if unicodedata.category(c) != 'Mn')\n",
    "\treturn s.replace(\"'\", \"\").replace(\"  \", \" \").lower()\n",
    "\n",
    "pop_br['NOME DO MUNICÍPIO'] = pop_br['NOME DO MUNICÍPIO'].map(normalize_names)\n",
    "geo['ID_MUNICIP'] = geo['ID_MUNICIP'].map(normalize_names)\n",
    "IBGE['Nome_Município'] = IBGE['Nome_Município'].map(normalize_names)\n",
    "\n",
    "pop_br.rename(columns = {'NOME DO MUNICÍPIO':'cidade'}, inplace = True)\n",
    "geo.rename(columns = {'ID_MUNICIP':'cidade'}, inplace = True)\n",
    "IBGE.rename(columns = {'Nome_Município':'cidade'}, inplace = True)\n",
    "\n",
    "pop_br.drop(['UF','COD. UF','COD. MUNIC'], axis=1, inplace=True)\n",
    "geo.drop(['index','UF'], axis=1, inplace=True)\n",
    "\n",
    "df = pd.merge(IBGE, pop_br, on='cidade', how='left')\n",
    "df = pd.merge(df, geo, on='cidade', how='left')\n",
    "df = df.drop_duplicates(subset=['cidade'], keep='first')\n",
    "\n",
    "df.columns\n",
    "df.to_csv('normalized_cities.csv')"
   ]
  }
 ],
 "metadata": {
  "interpreter": {
   "hash": "a77d8c3dd7e6e972e019be1540f4ebd7fa9e3c66783be27443f83372c691781e"
  },
  "kernelspec": {
   "display_name": "Python 3.8.8 64-bit ('base': conda)",
   "language": "python",
   "name": "python3"
  },
  "language_info": {
   "codemirror_mode": {
    "name": "ipython",
    "version": 3
   },
   "file_extension": ".py",
   "mimetype": "text/x-python",
   "name": "python",
   "nbconvert_exporter": "python",
   "pygments_lexer": "ipython3",
   "version": "3.8.8"
  },
  "orig_nbformat": 4
 },
 "nbformat": 4,
 "nbformat_minor": 2
}
