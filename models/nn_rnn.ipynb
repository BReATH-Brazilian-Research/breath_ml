{
 "cells": [
  {
   "cell_type": "markdown",
   "metadata": {},
   "source": [
    "# NN e RNN\n",
    "\n",
    "Nesse notebook, vamos treinar os modelos baseados em redes neurais."
   ]
  },
  {
   "cell_type": "code",
   "execution_count": 1,
   "metadata": {},
   "outputs": [],
   "source": [
    "import pickle\n",
    "import json\n",
    "from typing import Dict\n",
    "\n",
    "import pandas as pd\n",
    "import numpy as np\n",
    "from matplotlib import pyplot as plt\n",
    "import tensorflow as tf\n",
    "from tensorflow import keras\n"
   ]
  },
  {
   "cell_type": "markdown",
   "metadata": {},
   "source": [
    "## Preparação dos dados\n",
    "\n",
    "Precisamos primeiramente preparar os dados.\n",
    "\n",
    "Vamos carregar os conjuntos de validação e treino, separar as features e o target, e normalizá-los."
   ]
  },
  {
   "cell_type": "markdown",
   "metadata": {},
   "source": [
    "### Carregar\n",
    "\n",
    "Carregamos os conjuntos separados anteriormente, junto com a descrição."
   ]
  },
  {
   "cell_type": "code",
   "execution_count": 2,
   "metadata": {},
   "outputs": [],
   "source": [
    "dataset_folder = \"..\\\\data\""
   ]
  },
  {
   "cell_type": "code",
   "execution_count": 3,
   "metadata": {},
   "outputs": [],
   "source": [
    "file = open(dataset_folder+\"\\\\train_df\", 'rb')\n",
    "train_df = pickle.load(file)\n",
    "file.close()\n",
    "\n",
    "file = open(dataset_folder+\"\\\\val_df\", 'rb')\n",
    "val_df = pickle.load(file)\n",
    "file.close()\n",
    "\n",
    "file = open(dataset_folder+\"\\\\info.json\", 'r')\n",
    "info_dict = json.load(file)\n",
    "file.close()"
   ]
  },
  {
   "cell_type": "code",
   "execution_count": 5,
   "metadata": {},
   "outputs": [
    {
     "data": {
      "text/plain": [
       "['Nome_municipio',\n",
       " 'Dia',\n",
       " 'Precipitacao',\n",
       " 'Pressao_at_max',\n",
       " 'Pressao_at_min',\n",
       " 'Radiacao',\n",
       " 'Temp_max',\n",
       " 'Temp_min',\n",
       " 'Umidade',\n",
       " 'Max_vent',\n",
       " 'Velocidade_vent',\n",
       " 'Pop_estimada']"
      ]
     },
     "execution_count": 5,
     "metadata": {},
     "output_type": "execute_result"
    }
   ],
   "source": [
    "features_names = info_dict[\"feature_names\"]\n",
    "\n",
    "features_names"
   ]
  },
  {
   "cell_type": "markdown",
   "metadata": {},
   "source": [
    "### Verificação\n",
    "\n",
    "Verifica se existe algum problema com os dados."
   ]
  },
  {
   "cell_type": "code",
   "execution_count": 6,
   "metadata": {},
   "outputs": [
    {
     "data": {
      "text/plain": [
       "Nome_municipio     0\n",
       "Dia                0\n",
       "Precipitacao       0\n",
       "Pressao_at_max     0\n",
       "Pressao_at_min     0\n",
       "Radiacao           0\n",
       "Temp_max           0\n",
       "Temp_min           0\n",
       "Umidade            0\n",
       "Max_vent           0\n",
       "Velocidade_vent    0\n",
       "Pop_estimada       0\n",
       "Casos              0\n",
       "Casos_pela_pop     0\n",
       "dtype: int64"
      ]
     },
     "execution_count": 6,
     "metadata": {},
     "output_type": "execute_result"
    }
   ],
   "source": [
    "train_df.isna().sum()"
   ]
  },
  {
   "cell_type": "code",
   "execution_count": 7,
   "metadata": {},
   "outputs": [
    {
     "data": {
      "text/plain": [
       "Nome_municipio     0\n",
       "Dia                0\n",
       "Precipitacao       0\n",
       "Pressao_at_max     0\n",
       "Pressao_at_min     0\n",
       "Radiacao           0\n",
       "Temp_max           0\n",
       "Temp_min           0\n",
       "Umidade            0\n",
       "Max_vent           0\n",
       "Velocidade_vent    0\n",
       "Pop_estimada       0\n",
       "Casos              0\n",
       "Casos_pela_pop     0\n",
       "dtype: int64"
      ]
     },
     "execution_count": 7,
     "metadata": {},
     "output_type": "execute_result"
    }
   ],
   "source": [
    "val_df.isna().sum()"
   ]
  },
  {
   "cell_type": "markdown",
   "metadata": {},
   "source": [
    "### Separação\n",
    "\n",
    "Separamos os conjuntos de treino e validação."
   ]
  },
  {
   "cell_type": "code",
   "execution_count": 8,
   "metadata": {},
   "outputs": [
    {
     "name": "stderr",
     "output_type": "stream",
     "text": [
      "C:\\Python38\\lib\\site-packages\\pandas\\core\\frame.py:4167: SettingWithCopyWarning: \n",
      "A value is trying to be set on a copy of a slice from a DataFrame\n",
      "\n",
      "See the caveats in the documentation: https://pandas.pydata.org/pandas-docs/stable/user_guide/indexing.html#returning-a-view-versus-a-copy\n",
      "  return super().drop(\n"
     ]
    }
   ],
   "source": [
    "train_features = train_df[features_names]\n",
    "val_features = val_df[features_names]\n",
    "\n",
    "drop_columns = [\"Nome_municipio\", \"Dia\"]\n",
    "\n",
    "for column in drop_columns:\n",
    "    train_features.drop(column, axis=\"columns\", inplace=True)\n",
    "    val_features.drop(column, axis=\"columns\", inplace=True)\n",
    "\n",
    "train_target = train_df[\"Casos_pela_pop\"]\n",
    "val_target = val_df[\"Casos_pela_pop\"]"
   ]
  },
  {
   "cell_type": "code",
   "execution_count": 9,
   "metadata": {},
   "outputs": [],
   "source": [
    "n_features = train_features.shape[1]\n",
    "n_target = 1"
   ]
  },
  {
   "cell_type": "markdown",
   "metadata": {},
   "source": [
    "### Normalização\n",
    "\n",
    "Normalizamos os dados, e salvamos as distribuições para podermos normalizar posteriormente os outros conjuntos."
   ]
  },
  {
   "cell_type": "markdown",
   "metadata": {},
   "source": [
    "Calculamos e salvamos as distribições das features"
   ]
  },
  {
   "cell_type": "code",
   "execution_count": 10,
   "metadata": {},
   "outputs": [],
   "source": [
    "description = train_features.describe()"
   ]
  },
  {
   "cell_type": "code",
   "execution_count": 11,
   "metadata": {},
   "outputs": [],
   "source": [
    "train_dist = {}\n",
    "\n",
    "for column in train_features.columns:\n",
    "    train_dist[column] = {}\n",
    "    train_dist[column][\"mean\"] = description[column][\"mean\"]\n",
    "    train_dist[column][\"std\"] = description[column][\"std\"]"
   ]
  },
  {
   "cell_type": "code",
   "execution_count": 12,
   "metadata": {},
   "outputs": [],
   "source": [
    "file = open(\"train_dist.json\", \"w\")\n",
    "json.dump(train_dist, file)\n",
    "file.close()"
   ]
  },
  {
   "cell_type": "markdown",
   "metadata": {},
   "source": [
    "Normalizamos as features"
   ]
  },
  {
   "cell_type": "code",
   "execution_count": 13,
   "metadata": {},
   "outputs": [
    {
     "name": "stderr",
     "output_type": "stream",
     "text": [
      "C:\\Python38\\lib\\site-packages\\pandas\\core\\indexing.py:1781: SettingWithCopyWarning: \n",
      "A value is trying to be set on a copy of a slice from a DataFrame.\n",
      "Try using .loc[row_indexer,col_indexer] = value instead\n",
      "\n",
      "See the caveats in the documentation: https://pandas.pydata.org/pandas-docs/stable/user_guide/indexing.html#returning-a-view-versus-a-copy\n",
      "  self.obj[item_labels[indexer[info_axis]]] = value\n"
     ]
    }
   ],
   "source": [
    "for df in [train_features, val_features]:\n",
    "    for column in train_features:\n",
    "        df.loc[:, column] = (df[column]-train_dist[column][\"mean\"])/train_dist[column][\"std\"]"
   ]
  },
  {
   "cell_type": "markdown",
   "metadata": {},
   "source": [
    "Verificamos se estão corretamente normalizadas"
   ]
  },
  {
   "cell_type": "code",
   "execution_count": 14,
   "metadata": {},
   "outputs": [
    {
     "data": {
      "text/html": [
       "<div>\n",
       "<style scoped>\n",
       "    .dataframe tbody tr th:only-of-type {\n",
       "        vertical-align: middle;\n",
       "    }\n",
       "\n",
       "    .dataframe tbody tr th {\n",
       "        vertical-align: top;\n",
       "    }\n",
       "\n",
       "    .dataframe thead th {\n",
       "        text-align: right;\n",
       "    }\n",
       "</style>\n",
       "<table border=\"1\" class=\"dataframe\">\n",
       "  <thead>\n",
       "    <tr style=\"text-align: right;\">\n",
       "      <th></th>\n",
       "      <th>Precipitacao</th>\n",
       "      <th>Pressao_at_max</th>\n",
       "      <th>Pressao_at_min</th>\n",
       "      <th>Radiacao</th>\n",
       "      <th>Temp_max</th>\n",
       "      <th>Temp_min</th>\n",
       "      <th>Umidade</th>\n",
       "      <th>Max_vent</th>\n",
       "      <th>Velocidade_vent</th>\n",
       "      <th>Pop_estimada</th>\n",
       "    </tr>\n",
       "  </thead>\n",
       "  <tbody>\n",
       "    <tr>\n",
       "      <th>count</th>\n",
       "      <td>1.784139e+06</td>\n",
       "      <td>1.784139e+06</td>\n",
       "      <td>1.784139e+06</td>\n",
       "      <td>1.784139e+06</td>\n",
       "      <td>1.784139e+06</td>\n",
       "      <td>1.784139e+06</td>\n",
       "      <td>1.784139e+06</td>\n",
       "      <td>1.784139e+06</td>\n",
       "      <td>1.784139e+06</td>\n",
       "      <td>1.784139e+06</td>\n",
       "    </tr>\n",
       "    <tr>\n",
       "      <th>mean</th>\n",
       "      <td>-2.245522e-16</td>\n",
       "      <td>-1.432445e-15</td>\n",
       "      <td>2.329507e-14</td>\n",
       "      <td>-1.473959e-15</td>\n",
       "      <td>-1.436714e-15</td>\n",
       "      <td>1.905683e-15</td>\n",
       "      <td>5.725955e-16</td>\n",
       "      <td>-1.154622e-16</td>\n",
       "      <td>-9.053457e-16</td>\n",
       "      <td>-1.784184e-18</td>\n",
       "    </tr>\n",
       "    <tr>\n",
       "      <th>std</th>\n",
       "      <td>1.000000e+00</td>\n",
       "      <td>1.000000e+00</td>\n",
       "      <td>1.000000e+00</td>\n",
       "      <td>1.000000e+00</td>\n",
       "      <td>1.000000e+00</td>\n",
       "      <td>1.000000e+00</td>\n",
       "      <td>1.000000e+00</td>\n",
       "      <td>1.000000e+00</td>\n",
       "      <td>1.000000e+00</td>\n",
       "      <td>1.000000e+00</td>\n",
       "    </tr>\n",
       "    <tr>\n",
       "      <th>min</th>\n",
       "      <td>-3.060475e-01</td>\n",
       "      <td>-3.754402e+00</td>\n",
       "      <td>-3.763698e+00</td>\n",
       "      <td>-2.740855e+00</td>\n",
       "      <td>-5.989725e+00</td>\n",
       "      <td>-6.060539e+00</td>\n",
       "      <td>-3.623111e+00</td>\n",
       "      <td>-2.937551e+00</td>\n",
       "      <td>-1.826297e+00</td>\n",
       "      <td>-3.112124e-01</td>\n",
       "    </tr>\n",
       "    <tr>\n",
       "      <th>25%</th>\n",
       "      <td>-3.060475e-01</td>\n",
       "      <td>-7.682675e-01</td>\n",
       "      <td>-7.684687e-01</td>\n",
       "      <td>-6.173573e-01</td>\n",
       "      <td>-5.796011e-01</td>\n",
       "      <td>-5.648660e-01</td>\n",
       "      <td>-6.524339e-01</td>\n",
       "      <td>-6.598478e-01</td>\n",
       "      <td>-6.869443e-01</td>\n",
       "      <td>-2.882414e-01</td>\n",
       "    </tr>\n",
       "    <tr>\n",
       "      <th>50%</th>\n",
       "      <td>-3.060475e-01</td>\n",
       "      <td>2.465197e-02</td>\n",
       "      <td>2.413291e-02</td>\n",
       "      <td>1.036241e-01</td>\n",
       "      <td>1.490688e-01</td>\n",
       "      <td>1.825455e-01</td>\n",
       "      <td>6.375657e-02</td>\n",
       "      <td>-7.367400e-02</td>\n",
       "      <td>-1.347116e-01</td>\n",
       "      <td>-2.394346e-01</td>\n",
       "    </tr>\n",
       "    <tr>\n",
       "      <th>75%</th>\n",
       "      <td>-2.515670e-01</td>\n",
       "      <td>9.055588e-01</td>\n",
       "      <td>9.042712e-01</td>\n",
       "      <td>7.030119e-01</td>\n",
       "      <td>6.980666e-01</td>\n",
       "      <td>7.321128e-01</td>\n",
       "      <td>7.206848e-01</td>\n",
       "      <td>5.459954e-01</td>\n",
       "      <td>5.740864e-01</td>\n",
       "      <td>-1.117164e-01</td>\n",
       "    </tr>\n",
       "    <tr>\n",
       "      <th>max</th>\n",
       "      <td>2.892274e+01</td>\n",
       "      <td>2.317003e+00</td>\n",
       "      <td>2.323264e+00</td>\n",
       "      <td>7.149043e+00</td>\n",
       "      <td>3.233438e+00</td>\n",
       "      <td>4.557101e+00</td>\n",
       "      <td>2.277895e+00</td>\n",
       "      <td>2.342352e+01</td>\n",
       "      <td>1.335032e+01</td>\n",
       "      <td>1.216895e+01</td>\n",
       "    </tr>\n",
       "  </tbody>\n",
       "</table>\n",
       "</div>"
      ],
      "text/plain": [
       "       Precipitacao  Pressao_at_max  Pressao_at_min      Radiacao  \\\n",
       "count  1.784139e+06    1.784139e+06    1.784139e+06  1.784139e+06   \n",
       "mean  -2.245522e-16   -1.432445e-15    2.329507e-14 -1.473959e-15   \n",
       "std    1.000000e+00    1.000000e+00    1.000000e+00  1.000000e+00   \n",
       "min   -3.060475e-01   -3.754402e+00   -3.763698e+00 -2.740855e+00   \n",
       "25%   -3.060475e-01   -7.682675e-01   -7.684687e-01 -6.173573e-01   \n",
       "50%   -3.060475e-01    2.465197e-02    2.413291e-02  1.036241e-01   \n",
       "75%   -2.515670e-01    9.055588e-01    9.042712e-01  7.030119e-01   \n",
       "max    2.892274e+01    2.317003e+00    2.323264e+00  7.149043e+00   \n",
       "\n",
       "           Temp_max      Temp_min       Umidade      Max_vent  \\\n",
       "count  1.784139e+06  1.784139e+06  1.784139e+06  1.784139e+06   \n",
       "mean  -1.436714e-15  1.905683e-15  5.725955e-16 -1.154622e-16   \n",
       "std    1.000000e+00  1.000000e+00  1.000000e+00  1.000000e+00   \n",
       "min   -5.989725e+00 -6.060539e+00 -3.623111e+00 -2.937551e+00   \n",
       "25%   -5.796011e-01 -5.648660e-01 -6.524339e-01 -6.598478e-01   \n",
       "50%    1.490688e-01  1.825455e-01  6.375657e-02 -7.367400e-02   \n",
       "75%    6.980666e-01  7.321128e-01  7.206848e-01  5.459954e-01   \n",
       "max    3.233438e+00  4.557101e+00  2.277895e+00  2.342352e+01   \n",
       "\n",
       "       Velocidade_vent  Pop_estimada  \n",
       "count     1.784139e+06  1.784139e+06  \n",
       "mean     -9.053457e-16 -1.784184e-18  \n",
       "std       1.000000e+00  1.000000e+00  \n",
       "min      -1.826297e+00 -3.112124e-01  \n",
       "25%      -6.869443e-01 -2.882414e-01  \n",
       "50%      -1.347116e-01 -2.394346e-01  \n",
       "75%       5.740864e-01 -1.117164e-01  \n",
       "max       1.335032e+01  1.216895e+01  "
      ]
     },
     "execution_count": 14,
     "metadata": {},
     "output_type": "execute_result"
    }
   ],
   "source": [
    "train_features.describe()"
   ]
  },
  {
   "cell_type": "markdown",
   "metadata": {},
   "source": [
    "Realizamos o mesmo processo com o target"
   ]
  },
  {
   "cell_type": "code",
   "execution_count": 15,
   "metadata": {},
   "outputs": [],
   "source": [
    "target_dist = {}\n",
    "target_dist[\"mean\"] = train_target.mean()\n",
    "target_dist[\"std\"] = train_target.std()"
   ]
  },
  {
   "cell_type": "code",
   "execution_count": 16,
   "metadata": {},
   "outputs": [],
   "source": [
    "file = open(\"target_dist.json\", \"w\")\n",
    "json.dump(target_dist, file)\n",
    "file.close()"
   ]
  },
  {
   "cell_type": "markdown",
   "metadata": {},
   "source": [
    "OBS: Só descobrimos posteriormente que a normalização do target não é realizada corretamente nessa célula. Portanto, em todos os momentos, o target utilizado é o target não normalizado."
   ]
  },
  {
   "cell_type": "code",
   "execution_count": 17,
   "metadata": {},
   "outputs": [],
   "source": [
    "for df in [train_target, val_target]:\n",
    "    df = (df-target_dist[\"mean\"])/target_dist[\"std\"]"
   ]
  },
  {
   "cell_type": "markdown",
   "metadata": {},
   "source": [
    "## Infraestrutura para treino\n",
    "\n",
    "Aqui, preparamos a estrutura básica para gerenciar os modelos que serão treinados.\n",
    "\n",
    "Para o logging das métricas e pesos, decidimos utilizar a ferramenta \"Weights and Biases\". Os loggings obtidos estão públicos nos nossos projetos:\n",
    "\n",
    "Parte do projeto | Link\n",
    "-|-\n",
    "Modelos treinados com dados diários | https://wandb.ai/breath/BReATH-%20Day/overview\n",
    "Modelos treinados com dados semanais | https://wandb.ai/breath/BReATH/overview?workspace=user-eltoncn\n",
    "AGs utilizados para otimizar os modelos semanais | https://wandb.ai/breath/BReATH_AG/overview?workspace=user-eltoncn\n",
    "Ensemble treinados para utilizar os outros modelos (Disponível em outro notebook) | https://wandb.ai/breath/BReATH_Ensemble/overview?workspace=user-eltoncn"
   ]
  },
  {
   "cell_type": "code",
   "execution_count": 18,
   "metadata": {},
   "outputs": [
    {
     "name": "stderr",
     "output_type": "stream",
     "text": [
      "Failed to detect the name of this notebook, you can set it manually with the WANDB_NOTEBOOK_NAME environment variable to enable code saving.\n",
      "wandb: Currently logged in as: eltoncn (use `wandb login --relogin` to force relogin)\n"
     ]
    },
    {
     "data": {
      "text/plain": [
       "True"
      ]
     },
     "execution_count": 18,
     "metadata": {},
     "output_type": "execute_result"
    }
   ],
   "source": [
    "import wandb\n",
    "from wandb.keras import WandbCallback\n",
    "\n",
    "wandb.login()"
   ]
  },
  {
   "cell_type": "markdown",
   "metadata": {},
   "source": [
    "Tamanho do batch"
   ]
  },
  {
   "cell_type": "code",
   "execution_count": 19,
   "metadata": {},
   "outputs": [
    {
     "data": {
      "text/plain": [
       "21"
      ]
     },
     "execution_count": 19,
     "metadata": {},
     "output_type": "execute_result"
    }
   ],
   "source": [
    "BATCH_SIZE = 84959\n",
    "STEPS_PER_EPOCH = int(len(train_features)/BATCH_SIZE)\n",
    "STEPS_PER_EPOCH"
   ]
  },
  {
   "cell_type": "code",
   "execution_count": 20,
   "metadata": {},
   "outputs": [],
   "source": [
    "from typing import Dict\n",
    "\n",
    "class ModelManager:\n",
    "    '''\n",
    "        Gerencia os modelos criados\n",
    "    '''\n",
    "\n",
    "    def __init__(self, project_name, train_features, train_target, val_features, val_target, save_dir=\".\"):\n",
    "        '''\n",
    "            Construtor do ModelManager.\n",
    "\n",
    "            Parâmetros:\n",
    "                project_name: Nome do projeto. Utilizado para logar no wandb.\n",
    "                train_features: Features do conjunto de treino.\n",
    "                train_target: Coluna objetivo do conjunto de treino.\n",
    "                val_features: Features do conjunto de validação.\n",
    "                val_target: Coluna objetivo do conjunto de validação.\n",
    "                save_dir: Diretório para salvar os modelos.\n",
    "        \n",
    "        '''\n",
    "        self._project_name = project_name\n",
    "\n",
    "        self._save_dir = save_dir\n",
    "        self._model_save_dir = self._save_dir+\"\\\\models\"\n",
    "        self._log_dir = self._save_dir+\"\\\\log\"\n",
    "        \n",
    "        self._models : Dict[str, keras.Model] = {}\n",
    "        self._current_model = \"\"\n",
    "\n",
    "        self._architectures = {}\n",
    "        self._hist = {}\n",
    "\n",
    "        self._data = {}\n",
    "        self._data[\"train_features\"] = np.asarray(train_features)\n",
    "        self._data[\"train_target\"] = np.asarray(train_target)\n",
    "        self._data[\"val_features\"] = np.asarray(val_features)\n",
    "        self._data[\"val_target\"] = np.asarray(val_target)\n",
    "\n",
    "        self._sample_features = self._data[\"train_features\"][:10000]\n",
    "        self._sample_target = self._data[\"train_target\"][:10000]\n",
    "        self._sample_x = train_df[\"Dia\"][:10000]\n",
    "\n",
    "    def set_sample(self, sample_features, sample_target, sample_x):\n",
    "        '''\n",
    "            Define os dados para plotar o gráfico exemplo.\n",
    "\n",
    "            Parâmetros:\n",
    "                sample_features: Features para plotar o gráfico.\n",
    "                sapmle_target: Ground truth\n",
    "                sample_x: Dados para utilizar no eixo x do gráfico.\n",
    "        '''\n",
    "        self._sample_features = sample_features\n",
    "        self._sample_target = sample_target\n",
    "        self._sample_x = sample_x\n",
    "\n",
    "    def register_model(self, model, model_name, architecture_name):\n",
    "        '''\n",
    "            Registra um modelo para ser treinado.\n",
    "\n",
    "            Parâmetros:\n",
    "                model: Modelo a ser treinado.\n",
    "                model_name: Nome do modelo.\n",
    "                architecture_name: Nome da arquitetura que o modelo utiliza.\n",
    "        '''\n",
    "\n",
    "        self._current_model = model_name\n",
    "\n",
    "        self._models[model_name] = model\n",
    "        self._architectures[model_name] = architecture_name\n",
    "\n",
    "    def compile_fit_save(self, epochs, optimizer, model_name=None, batch_size=BATCH_SIZE, patience=None, verbose='auto', loss=\"mean_squared_error\", group=None):\n",
    "        '''\n",
    "            Compila, treina e salva o modelo.\n",
    "\n",
    "            Parâmetros:\n",
    "                epochs: Quantidade de epochs que o modelo será treinado.\n",
    "                optimizer: Otimizador que será utilizado.\n",
    "                model_name: Nome do modelo que será treinado. None treina o último modelo registrado.\n",
    "                batch_size: Tamanho do batch.\n",
    "                patience: Paciência do treino. None treina o modelo até a última epoch.\n",
    "                verbose: Verbose do treino.\n",
    "                loss: Função de perda utilizada para o treino.\n",
    "                group: Nome do grupo do modelo (utilizado pelo wandb).\n",
    "        '''\n",
    "        \n",
    "        if model_name is None:\n",
    "            model_name = self._current_model\n",
    "        else:\n",
    "            self._current_model = model_name\n",
    "\n",
    "        learning_rate = optimizer.learning_rate.numpy()\n",
    "        \n",
    "        config = {}\n",
    "        config[\"leaning_rate\"] = learning_rate\n",
    "        config[\"epochs\"] = epochs\n",
    "        config[\"architecture\"] = self._architectures[model_name]\n",
    "        config[\"batch_size\"] = batch_size\n",
    "        config[\"optimizer\"] = optimizer._name\n",
    "        config[\"loss\"] = loss\n",
    "        config[\"patience\"] = patience\n",
    "\n",
    "        run = wandb.init(project=self._project_name, entity=\"breath\",\n",
    "                           config = config, group=group)\n",
    "        \n",
    "        run.name = model_name\n",
    "\n",
    "        metrics = [tf.keras.losses.mean_absolute_error, tf.keras.losses.mean_squared_error]\n",
    "\n",
    "        model = self._models[model_name]\n",
    "        model.compile(optimizer=optimizer, \n",
    "                        loss= tf.keras.losses.get(loss),\n",
    "                        metrics=metrics)\n",
    "        \n",
    "        callbacks = []\n",
    "        callbacks.append(WandbCallback(\"val_mean_squared_error\" ))\n",
    "        #callbacks.append(keras.callbacks.TensorBoard(log_dir=self._log_dir, histogram_freq=1))\n",
    "        \n",
    "        if patience is not None:\n",
    "            callbacks.append(keras.callbacks.EarlyStopping(monitor=\"val_mean_squared_error\", patience=patience))\n",
    "\n",
    "        self._hist[model_name] = model.fit(x=self._data[\"train_features\"], y=self._data[\"train_target\"], \n",
    "                                    validation_data=(self._data[\"val_features\"], self._data[\"val_target\"]),\n",
    "                                    epochs=epochs, batch_size=batch_size,\n",
    "                                    callbacks= callbacks, verbose=verbose)\n",
    "\n",
    "        \n",
    "        self.plot_sample()\n",
    "        wandb.log({\"predictions\":plt})\n",
    "        plt.show()\n",
    "\n",
    "        wandb.finish()\n",
    "\n",
    "    def plot_sample(self, show=False):\n",
    "        '''\n",
    "            Plota o modelo atual com os dados de exemplo.\n",
    "\n",
    "            Parâmetros:\n",
    "                show: Se o gráfico deverá ser mostrado na tela.\n",
    "        '''\n",
    "        model  = self._models[self._current_model]\n",
    "\n",
    "        predictions = model.predict(self._sample_features).flatten()\n",
    "        plt.plot(self._sample_x, self._sample_target)\n",
    "        plt.plot(self._sample_x, predictions)\n",
    "        plt.ylabel(\"Casos/População\")\n",
    "        plt.legend([\"GT\", \"Predito\"])\n",
    "\n",
    "        if show:\n",
    "            plt.show()\n",
    "\n",
    "\n",
    "    def save(self, model_name):\n",
    "        '''\n",
    "            Salva um modelo.\n",
    "\n",
    "            Parâmetros:\n",
    "                model_name: Nome do modelo que vai ser salvo.\n",
    "        '''\n",
    "        self._models[model_name].save(self._model_save_dir+\"\\\\\"+model_name)\n",
    "\n",
    "        try:\n",
    "            keras.models.load_model(self._model_save_dir)\n",
    "        except Exception as e:\n",
    "            print(e)\n",
    "            print(\"ERRO AO SALVAR O MODELO\")\n",
    "    \n",
    "    def load(self, model_name):\n",
    "        '''\n",
    "            Carrega um modelo.\n",
    "\n",
    "            Parâmetros:\n",
    "                model_name: Nome do modelo que vai ser carregado.\n",
    "        '''\n",
    "        self._models[model_name] = keras.models.load_model(self._model_save_dir)\n",
    "\n",
    "        self._current_model = model_name"
   ]
  },
  {
   "cell_type": "code",
   "execution_count": 21,
   "metadata": {},
   "outputs": [],
   "source": [
    "manager = ModelManager(\"BReATH\", train_features.to_numpy(), train_target.to_numpy(), val_features.to_numpy(), val_target.to_numpy(), save_dir=\".\\\\save\")"
   ]
  },
  {
   "cell_type": "markdown",
   "metadata": {},
   "source": [
    "Nos certificamos que estamos utilizado a GPU"
   ]
  },
  {
   "cell_type": "code",
   "execution_count": 22,
   "metadata": {},
   "outputs": [],
   "source": [
    "physical_device = tf.config.experimental.list_physical_devices('GPU')\n",
    "tf.config.experimental.set_memory_growth(physical_device[0],True)\n"
   ]
  },
  {
   "cell_type": "markdown",
   "metadata": {},
   "source": [
    "Aqui, lançamos uma exceção, visto que tivemos que re-executar os passos acima muitas vezes"
   ]
  },
  {
   "cell_type": "code",
   "execution_count": 23,
   "metadata": {},
   "outputs": [
    {
     "ename": "Exception",
     "evalue": "",
     "output_type": "error",
     "traceback": [
      "\u001b[1;31m---------------------------------------------------------------------------\u001b[0m",
      "\u001b[1;31mException\u001b[0m                                 Traceback (most recent call last)",
      "\u001b[1;32m<ipython-input-23-8b4075ef66e1>\u001b[0m in \u001b[0;36m<module>\u001b[1;34m\u001b[0m\n\u001b[0;32m      1\u001b[0m \u001b[1;31m# Lança exceção (útil para executar todo o notebook até este ponto após falha do tf enquanto treinava algum modelo)\u001b[0m\u001b[1;33m\u001b[0m\u001b[1;33m\u001b[0m\u001b[1;33m\u001b[0m\u001b[0m\n\u001b[0;32m      2\u001b[0m \u001b[1;33m\u001b[0m\u001b[0m\n\u001b[1;32m----> 3\u001b[1;33m \u001b[1;32mraise\u001b[0m \u001b[0mException\u001b[0m\u001b[1;33m(\u001b[0m\u001b[1;33m)\u001b[0m\u001b[1;33m\u001b[0m\u001b[1;33m\u001b[0m\u001b[0m\n\u001b[0m",
      "\u001b[1;31mException\u001b[0m: "
     ]
    }
   ],
   "source": [
    "# Lança exceção (útil para executar todo o notebook até este ponto após falha do tf enquanto treinava algum modelo)\n",
    "\n",
    "raise Exception()"
   ]
  },
  {
   "cell_type": "markdown",
   "metadata": {},
   "source": [
    "## Modelos parte 1\n",
    "\n",
    "Treinamos alguns modelos com os dados disponíveis. Percebemos posteriormente que utilizar dados diários não forneceu bons modelos, então nenhum modelo treinado aqui foi utilizado, porém as arquiteturas foram retreinadas com os dados semanais posteriormente. Veja a subseção de conclusões no fim dessa seção."
   ]
  },
  {
   "cell_type": "markdown",
   "metadata": {},
   "source": [
    "### NN\n",
    "\n",
    "Algumas redes neurais treinadas."
   ]
  },
  {
   "cell_type": "code",
   "execution_count": 1,
   "metadata": {},
   "outputs": [],
   "source": [
    "# Primeiro modelo treinado\n",
    "def create_first():\n",
    "    input = keras.Input(shape=(n_features), name=\"input\")\n",
    "    \n",
    "    x = keras.layers.Dense(100, activation=\"relu\")(input)\n",
    "    x = keras.layers.Dense(100, activation=\"relu\")(x)\n",
    "\n",
    "    out = keras.layers.Dense(1, activation=\"relu\")(x)\n",
    "\n",
    "    model = keras.Model(inputs=[input], outputs=[out])\n",
    "\n",
    "    return model"
   ]
  },
  {
   "cell_type": "code",
   "execution_count": null,
   "metadata": {},
   "outputs": [],
   "source": [
    "first_model = create_first()\n",
    "\n",
    "manager.register_model(first_model, \"first\", \"first\")\n",
    "manager.compile_fit_save(optimizer=keras.optimizers.Adam(), epochs=200)"
   ]
  },
  {
   "cell_type": "code",
   "execution_count": null,
   "metadata": {},
   "outputs": [],
   "source": [
    "# Tentamos aumentar o modelo\n",
    "\n",
    "def create_larger():\n",
    "    input = keras.Input(shape=(n_features), name=\"input\")\n",
    "    \n",
    "    x = keras.layers.Dense(1000, activation=\"relu\")(input)\n",
    "    x = keras.layers.Dense(1000, activation=\"relu\")(x)\n",
    "\n",
    "    out = keras.layers.Dense(1, activation=\"relu\")(x)\n",
    "\n",
    "    model = keras.Model(inputs=[input], outputs=[out])\n",
    "\n",
    "    return model"
   ]
  },
  {
   "cell_type": "code",
   "execution_count": null,
   "metadata": {},
   "outputs": [],
   "source": [
    "larger_model = create_larger()\n",
    "manager.register_model(larger_model, \"larger\", \"larger\")\n",
    "manager.compile_fit_save(optimizer=keras.optimizers.Adam(), epochs=200)"
   ]
  },
  {
   "cell_type": "code",
   "execution_count": null,
   "metadata": {},
   "outputs": [],
   "source": [
    "# Diminuir o modelo para diminuir o overfitting\n",
    "\n",
    "def create_small():\n",
    "    input = keras.Input(shape=(n_features), name=\"input\")\n",
    "    \n",
    "    x = keras.layers.Dense(100, activation=\"relu\")(input)\n",
    "\n",
    "    out = keras.layers.Dense(1, activation=\"relu\")(x)\n",
    "\n",
    "    model = keras.Model(inputs=[input], outputs=[out])\n",
    "\n",
    "    return model\n",
    "\n",
    "small_model = create_small()\n",
    "manager.register_model(small_model, \"small\", \"small\")\n",
    "manager.compile_fit_save(optimizer=keras.optimizers.Adam(), epochs=200)"
   ]
  },
  {
   "cell_type": "markdown",
   "metadata": {},
   "source": [
    "### RNN\n",
    "\n",
    "Testamos alguns modelos utilizando LSTMs.\n",
    "\n",
    "É interessante observar que tivemos alguns problemas criando os modelos com LSTM, já que foram os únicos que chegaram a utilizar mais memória que disponível. Tivemos que aumentar a quantidade de batchs na célula anterior para conseguir treinar alguns modelos."
   ]
  },
  {
   "cell_type": "code",
   "execution_count": null,
   "metadata": {},
   "outputs": [],
   "source": [
    "# Uma camada com unidades LSTM\n",
    "def create_first_lstm():\n",
    "    input = keras.Input(shape=(n_features,1), name=\"input\")\n",
    "    \n",
    "    x = keras.layers.LSTM(32)(input)\n",
    "\n",
    "    out = keras.layers.Dense(1, activation=\"relu\")(x)\n",
    "\n",
    "    model = keras.Model(inputs=[input], outputs=[out])\n",
    "\n",
    "    return model"
   ]
  },
  {
   "cell_type": "code",
   "execution_count": null,
   "metadata": {},
   "outputs": [],
   "source": [
    "model = create_first_lstm()\n",
    "manager.register_model(model, \"first_lstm\", \"first_lstm\")\n",
    "manager.compile_fit_save(optimizer=keras.optimizers.Adam(), epochs=100)"
   ]
  },
  {
   "cell_type": "code",
   "execution_count": null,
   "metadata": {},
   "outputs": [],
   "source": [
    "# Descobrindo o uso de return_sequences (gera erro :)\n",
    "def create_lstm2():\n",
    "    input = keras.Input(shape=(n_features,1), name=\"input\")\n",
    "    \n",
    "    x = keras.layers.LSTM(32, return_sequences=True)(input)\n",
    "\n",
    "    out = keras.layers.Dense(1, activation=\"relu\")(x)\n",
    "\n",
    "    model = keras.Model(inputs=[input], outputs=[out])\n",
    "\n",
    "    return model\n",
    "\n",
    "model = create_lstm2()\n",
    "manager.register_model(model, \"lstm2\", \"lstm2\")\n",
    "manager.compile_fit_save(optimizer=keras.optimizers.Adam(), epochs=100)"
   ]
  },
  {
   "cell_type": "code",
   "execution_count": null,
   "metadata": {},
   "outputs": [],
   "source": [
    "# Duas camadas\n",
    "def create_lstm3():\n",
    "    input = keras.Input(shape=(n_features,1), name=\"input\")\n",
    "    \n",
    "    x = keras.layers.LSTM(32, return_sequences=True)(input)\n",
    "    x = keras.layers.LSTM(32)(x)\n",
    "\n",
    "    out = keras.layers.Dense(1, activation=\"relu\")(x)\n",
    "\n",
    "    model = keras.Model(inputs=[input], outputs=[out])\n",
    "\n",
    "    return model\n"
   ]
  },
  {
   "cell_type": "code",
   "execution_count": null,
   "metadata": {},
   "outputs": [],
   "source": [
    "\n",
    "model = create_lstm3()\n",
    "manager.register_model(model, \"lstm3\", \"lstm3\")\n",
    "manager.compile_fit_save(optimizer=keras.optimizers.Adam(), epochs=100)"
   ]
  },
  {
   "cell_type": "code",
   "execution_count": null,
   "metadata": {},
   "outputs": [],
   "source": [
    "# CNN (gera erro tb :), não tínhamos ideia do pq o modelo parecia tão ruim\n",
    "def create_cnn():\n",
    "    input = keras.Input(shape=(n_features,1), name=\"input\")\n",
    "    \n",
    "    x = keras.layers.Conv1D(32, kernel_size=(3, ))(input)\n",
    "\n",
    "    out = keras.layers.Dense(1, activation=\"relu\")(x)\n",
    "\n",
    "    model = keras.Model(inputs=[input], outputs=[out])\n",
    "\n",
    "    return model\n",
    "\n",
    "model = create_cnn()\n",
    "manager.register_model(model, \"cnn1\", \"cnn1\")\n",
    "manager.compile_fit_save(optimizer=keras.optimizers.Adam(), epochs=100)"
   ]
  },
  {
   "cell_type": "markdown",
   "metadata": {},
   "source": [
    "### Outros testes\n",
    "Tentamos trocar o otimizador, função de ativação, a perda e os dados."
   ]
  },
  {
   "cell_type": "code",
   "execution_count": null,
   "metadata": {},
   "outputs": [],
   "source": [
    "# Utilizando o SGD\n",
    "model = create_first()\n",
    "manager.register_model(model, \"first_sgd\", \"first\")\n",
    "manager.compile_fit_save(optimizer=keras.optimizers.SGD(learning_rate=0.0005), epochs=100)"
   ]
  },
  {
   "cell_type": "code",
   "execution_count": null,
   "metadata": {},
   "outputs": [],
   "source": [
    "# Tentamos trocar a função de ativação para a sigmoide. Não melhorou os resultados.\n",
    "def create_first_sigmoid():\n",
    "    input = keras.Input(shape=(n_features), name=\"input\")\n",
    "    \n",
    "    x = keras.layers.Dense(100, activation=\"sigmoid\")(input)\n",
    "    x = keras.layers.Dense(100, activation=\"sigmoid\")(x)\n",
    "\n",
    "    out = keras.layers.Dense(1, activation=\"sigmoid\")(x)\n",
    "\n",
    "    model = keras.Model(inputs=[input], outputs=[out])\n",
    "\n",
    "    return model\n",
    "\n",
    "model = create_first_sigmoid()\n",
    "manager.register_model(model, \"first_sigmoid\", \"first_sigmoid\")\n",
    "manager.compile_fit_save(optimizer=keras.optimizers.Adam(), epochs=100)"
   ]
  },
  {
   "cell_type": "code",
   "execution_count": null,
   "metadata": {},
   "outputs": [],
   "source": [
    "# Tentamos aumentar ela, já que pareceu ser treinável por mais tempo.\n",
    "def create_larger_sigmoid():\n",
    "    input = keras.Input(shape=(n_features), name=\"input\")\n",
    "    \n",
    "    x = keras.layers.Dense(1000, activation=\"sigmoid\")(input)\n",
    "    x = keras.layers.Dense(1000, activation=\"sigmoid\")(x)\n",
    "\n",
    "    out = keras.layers.Dense(1, activation=\"sigmoid\")(x)\n",
    "\n",
    "    model = keras.Model(inputs=[input], outputs=[out])\n",
    "\n",
    "    return model\n",
    "\n",
    "model = create_larger_sigmoid()\n",
    "manager.register_model(model, \"larger_sigmoid\", \"larger_sigmoid\")\n",
    "manager.compile_fit_save(optimizer=keras.optimizers.Adam(), epochs=100, patience=20)"
   ]
  },
  {
   "cell_type": "code",
   "execution_count": null,
   "metadata": {},
   "outputs": [],
   "source": [
    "# LSTM com a sigmoide.\n",
    "def create_lstm_sigmoid():\n",
    "    input = keras.Input(shape=(n_features,1), name=\"input\")\n",
    "    \n",
    "    x = keras.layers.LSTM(32)(input)\n",
    "\n",
    "    out = keras.layers.Dense(1, activation=\"sigmoid\")(x)\n",
    "\n",
    "    model = keras.Model(inputs=[input], outputs=[out])\n",
    "\n",
    "    return model\n",
    "\n",
    "model = create_lstm_sigmoid()\n",
    "manager.register_model(model, \"lstm_sigmoid\", \"lstm_sigmoid\")\n",
    "manager.compile_fit_save(optimizer=keras.optimizers.Adam(), epochs=100, patience=20)"
   ]
  },
  {
   "cell_type": "code",
   "execution_count": null,
   "metadata": {},
   "outputs": [],
   "source": [
    "# 2 camadas de LSTM com a sigmoide.\n",
    "def create_lstm_sigmoid2():\n",
    "    input = keras.Input(shape=(n_features,1), name=\"input\")\n",
    "    \n",
    "    x = keras.layers.LSTM(32, return_sequences=True)(input)\n",
    "    x = keras.layers.LSTM(32)(x)\n",
    "\n",
    "    out = keras.layers.Dense(1, activation=\"sigmoid\")(x)\n",
    "\n",
    "    model = keras.Model(inputs=[input], outputs=[out])\n",
    "\n",
    "    return model\n",
    "\n",
    "model = create_lstm_sigmoid2()\n",
    "manager.register_model(model, \"lstm_sigmoid2\", \"lstm_sigmoid2\")\n",
    "manager.compile_fit_save(optimizer=keras.optimizers.Adam(), epochs=100, patience=20)"
   ]
  },
  {
   "cell_type": "code",
   "execution_count": null,
   "metadata": {},
   "outputs": [],
   "source": [
    "# O primeiro modelo, dessa vez utilizando a perda MSLE\n",
    "model = create_first()\n",
    "manager.register_model(model, \"first_log\", \"first\")\n",
    "manager.compile_fit_save(optimizer=keras.optimizers.Adam(), epochs=100, patience=20, loss=\"mean_squared_logarithmic_error\")"
   ]
  },
  {
   "cell_type": "markdown",
   "metadata": {},
   "source": [
    "Tentamos remover os dados nulos, já que os gráficos gerados pelos modelos eram sempre nulos."
   ]
  },
  {
   "cell_type": "code",
   "execution_count": null,
   "metadata": {},
   "outputs": [],
   "source": [
    "train_features_zeroless = train_features.to_numpy()\n",
    "train_target_zeroless = train_target.to_numpy()\n",
    "val_features_zeroless = val_features.to_numpy()\n",
    "val_target_zeroless = val_target.to_numpy()\n",
    "\n",
    "mask = train_target_zeroless != 0\n",
    "val_mask = val_target_zeroless != 0\n",
    "\n",
    "train_target_zeroless = train_target_zeroless[mask]\n",
    "train_features_zeroless = train_features_zeroless[mask]\n",
    "val_features_zeroless = val_features_zeroless[val_mask]\n",
    "val_target_zeroless = val_target_zeroless[val_mask]"
   ]
  },
  {
   "cell_type": "code",
   "execution_count": null,
   "metadata": {},
   "outputs": [
    {
     "data": {
      "text/html": [
       "<div>\n",
       "<style scoped>\n",
       "    .dataframe tbody tr th:only-of-type {\n",
       "        vertical-align: middle;\n",
       "    }\n",
       "\n",
       "    .dataframe tbody tr th {\n",
       "        vertical-align: top;\n",
       "    }\n",
       "\n",
       "    .dataframe thead th {\n",
       "        text-align: right;\n",
       "    }\n",
       "</style>\n",
       "<table border=\"1\" class=\"dataframe\">\n",
       "  <thead>\n",
       "    <tr style=\"text-align: right;\">\n",
       "      <th></th>\n",
       "      <th>Precipitacao</th>\n",
       "      <th>Pressao_at_max</th>\n",
       "      <th>Pressao_at_min</th>\n",
       "      <th>Radiacao</th>\n",
       "      <th>Temp_max</th>\n",
       "      <th>Temp_min</th>\n",
       "      <th>Umidade</th>\n",
       "      <th>Max_vent</th>\n",
       "      <th>Velocidade_vent</th>\n",
       "      <th>Pop_estimada</th>\n",
       "    </tr>\n",
       "  </thead>\n",
       "  <tbody>\n",
       "    <tr>\n",
       "      <th>count</th>\n",
       "      <td>1.784139e+06</td>\n",
       "      <td>1.784139e+06</td>\n",
       "      <td>1.784139e+06</td>\n",
       "      <td>1.784139e+06</td>\n",
       "      <td>1.784139e+06</td>\n",
       "      <td>1.784139e+06</td>\n",
       "      <td>1.784139e+06</td>\n",
       "      <td>1.784139e+06</td>\n",
       "      <td>1.784139e+06</td>\n",
       "      <td>1.784139e+06</td>\n",
       "    </tr>\n",
       "    <tr>\n",
       "      <th>mean</th>\n",
       "      <td>-2.245522e-16</td>\n",
       "      <td>-1.432445e-15</td>\n",
       "      <td>2.329507e-14</td>\n",
       "      <td>-1.473959e-15</td>\n",
       "      <td>-1.436714e-15</td>\n",
       "      <td>1.905683e-15</td>\n",
       "      <td>5.725955e-16</td>\n",
       "      <td>-1.154622e-16</td>\n",
       "      <td>-9.053457e-16</td>\n",
       "      <td>-1.784184e-18</td>\n",
       "    </tr>\n",
       "    <tr>\n",
       "      <th>std</th>\n",
       "      <td>1.000000e+00</td>\n",
       "      <td>1.000000e+00</td>\n",
       "      <td>1.000000e+00</td>\n",
       "      <td>1.000000e+00</td>\n",
       "      <td>1.000000e+00</td>\n",
       "      <td>1.000000e+00</td>\n",
       "      <td>1.000000e+00</td>\n",
       "      <td>1.000000e+00</td>\n",
       "      <td>1.000000e+00</td>\n",
       "      <td>1.000000e+00</td>\n",
       "    </tr>\n",
       "    <tr>\n",
       "      <th>min</th>\n",
       "      <td>-3.060475e-01</td>\n",
       "      <td>-3.754402e+00</td>\n",
       "      <td>-3.763698e+00</td>\n",
       "      <td>-2.740855e+00</td>\n",
       "      <td>-5.989725e+00</td>\n",
       "      <td>-6.060539e+00</td>\n",
       "      <td>-3.623111e+00</td>\n",
       "      <td>-2.937551e+00</td>\n",
       "      <td>-1.826297e+00</td>\n",
       "      <td>-3.112124e-01</td>\n",
       "    </tr>\n",
       "    <tr>\n",
       "      <th>25%</th>\n",
       "      <td>-3.060475e-01</td>\n",
       "      <td>-7.682675e-01</td>\n",
       "      <td>-7.684687e-01</td>\n",
       "      <td>-6.173573e-01</td>\n",
       "      <td>-5.796011e-01</td>\n",
       "      <td>-5.648660e-01</td>\n",
       "      <td>-6.524339e-01</td>\n",
       "      <td>-6.598478e-01</td>\n",
       "      <td>-6.869443e-01</td>\n",
       "      <td>-2.882414e-01</td>\n",
       "    </tr>\n",
       "    <tr>\n",
       "      <th>50%</th>\n",
       "      <td>-3.060475e-01</td>\n",
       "      <td>2.465197e-02</td>\n",
       "      <td>2.413291e-02</td>\n",
       "      <td>1.036241e-01</td>\n",
       "      <td>1.490688e-01</td>\n",
       "      <td>1.825455e-01</td>\n",
       "      <td>6.375657e-02</td>\n",
       "      <td>-7.367400e-02</td>\n",
       "      <td>-1.347116e-01</td>\n",
       "      <td>-2.394346e-01</td>\n",
       "    </tr>\n",
       "    <tr>\n",
       "      <th>75%</th>\n",
       "      <td>-2.515670e-01</td>\n",
       "      <td>9.055588e-01</td>\n",
       "      <td>9.042712e-01</td>\n",
       "      <td>7.030119e-01</td>\n",
       "      <td>6.980666e-01</td>\n",
       "      <td>7.321128e-01</td>\n",
       "      <td>7.206848e-01</td>\n",
       "      <td>5.459954e-01</td>\n",
       "      <td>5.740864e-01</td>\n",
       "      <td>-1.117164e-01</td>\n",
       "    </tr>\n",
       "    <tr>\n",
       "      <th>max</th>\n",
       "      <td>2.892274e+01</td>\n",
       "      <td>2.317003e+00</td>\n",
       "      <td>2.323264e+00</td>\n",
       "      <td>7.149043e+00</td>\n",
       "      <td>3.233438e+00</td>\n",
       "      <td>4.557101e+00</td>\n",
       "      <td>2.277895e+00</td>\n",
       "      <td>2.342352e+01</td>\n",
       "      <td>1.335032e+01</td>\n",
       "      <td>1.216895e+01</td>\n",
       "    </tr>\n",
       "  </tbody>\n",
       "</table>\n",
       "</div>"
      ],
      "text/plain": [
       "       Precipitacao  Pressao_at_max  Pressao_at_min      Radiacao  \\\n",
       "count  1.784139e+06    1.784139e+06    1.784139e+06  1.784139e+06   \n",
       "mean  -2.245522e-16   -1.432445e-15    2.329507e-14 -1.473959e-15   \n",
       "std    1.000000e+00    1.000000e+00    1.000000e+00  1.000000e+00   \n",
       "min   -3.060475e-01   -3.754402e+00   -3.763698e+00 -2.740855e+00   \n",
       "25%   -3.060475e-01   -7.682675e-01   -7.684687e-01 -6.173573e-01   \n",
       "50%   -3.060475e-01    2.465197e-02    2.413291e-02  1.036241e-01   \n",
       "75%   -2.515670e-01    9.055588e-01    9.042712e-01  7.030119e-01   \n",
       "max    2.892274e+01    2.317003e+00    2.323264e+00  7.149043e+00   \n",
       "\n",
       "           Temp_max      Temp_min       Umidade      Max_vent  \\\n",
       "count  1.784139e+06  1.784139e+06  1.784139e+06  1.784139e+06   \n",
       "mean  -1.436714e-15  1.905683e-15  5.725955e-16 -1.154622e-16   \n",
       "std    1.000000e+00  1.000000e+00  1.000000e+00  1.000000e+00   \n",
       "min   -5.989725e+00 -6.060539e+00 -3.623111e+00 -2.937551e+00   \n",
       "25%   -5.796011e-01 -5.648660e-01 -6.524339e-01 -6.598478e-01   \n",
       "50%    1.490688e-01  1.825455e-01  6.375657e-02 -7.367400e-02   \n",
       "75%    6.980666e-01  7.321128e-01  7.206848e-01  5.459954e-01   \n",
       "max    3.233438e+00  4.557101e+00  2.277895e+00  2.342352e+01   \n",
       "\n",
       "       Velocidade_vent  Pop_estimada  \n",
       "count     1.784139e+06  1.784139e+06  \n",
       "mean     -9.053457e-16 -1.784184e-18  \n",
       "std       1.000000e+00  1.000000e+00  \n",
       "min      -1.826297e+00 -3.112124e-01  \n",
       "25%      -6.869443e-01 -2.882414e-01  \n",
       "50%      -1.347116e-01 -2.394346e-01  \n",
       "75%       5.740864e-01 -1.117164e-01  \n",
       "max       1.335032e+01  1.216895e+01  "
      ]
     },
     "execution_count": 47,
     "metadata": {},
     "output_type": "execute_result"
    }
   ],
   "source": [
    "train_features.describe()"
   ]
  },
  {
   "cell_type": "code",
   "execution_count": null,
   "metadata": {},
   "outputs": [],
   "source": [
    "manager._data[\"train_features\"] = train_features_zeroless\n",
    "manager._data[\"train_target\"] = train_target_zeroless\n",
    "manager._data[\"val_features\"] = val_features_zeroless\n",
    "manager._data[\"val_target\"] = val_target_zeroless"
   ]
  },
  {
   "cell_type": "code",
   "execution_count": null,
   "metadata": {},
   "outputs": [
    {
     "data": {
      "text/plain": [
       "(28849, 10)"
      ]
     },
     "execution_count": 52,
     "metadata": {},
     "output_type": "execute_result"
    }
   ],
   "source": [
    "train_features_zeroless.shape"
   ]
  },
  {
   "cell_type": "code",
   "execution_count": null,
   "metadata": {},
   "outputs": [],
   "source": [
    "model = create_first()\n",
    "manager.register_model(model, \"first_zeroless\", \"first_zeroless\")\n",
    "manager.compile_fit_save(optimizer=keras.optimizers.Adam(), epochs=100, patience=20)"
   ]
  },
  {
   "cell_type": "code",
   "execution_count": null,
   "metadata": {},
   "outputs": [],
   "source": [
    "first_model = create_first()\n",
    "\n",
    "manager.register_model(first_model, \"first\", \"first\")\n",
    "manager.compile_fit_save(optimizer=keras.optimizers.Adam(), epochs=200)"
   ]
  },
  {
   "cell_type": "markdown",
   "metadata": {},
   "source": [
    "### Conclusões\n",
    "\n",
    "Todos os modelos treinados até aqui, embora as métricas diminuam, não parecem gerar saídas úteis. Plotando a saída em um conjunto reduzido de dados, os modelos predizeram 0 ou apenas ruído. Concluímos que a alta quantidade de dias com nenhum caso acabou por atrapalhar o modelo. Tentamos então, nos próximos passos, agrupar os dados por semana, aumentando a densidade de casos."
   ]
  },
  {
   "cell_type": "markdown",
   "metadata": {},
   "source": [
    "## Semanas\n",
    "\n",
    "Aqui, agrupamos os dados por semana para aumentar a densidade de casos em cada entrada.\n",
    "\n",
    "Como já tínhamos trabalhado com agrupamento dos dados por dia utilizando SQL, achamos mais simples reconverter os conjuntos para BDs SQL, realizar o agrupamento e converter de volta para DataFrames do Pandas."
   ]
  },
  {
   "cell_type": "markdown",
   "metadata": {},
   "source": [
    "### Conversão"
   ]
  },
  {
   "cell_type": "code",
   "execution_count": 29,
   "metadata": {},
   "outputs": [],
   "source": [
    "# Preparamos o banco de dados\n",
    "\n",
    "from sqlalchemy import create_engine\n",
    "engine = create_engine(\"sqlite://\", echo=False)"
   ]
  },
  {
   "cell_type": "code",
   "execution_count": 30,
   "metadata": {},
   "outputs": [],
   "source": [
    "engine.execute(\"DROP TABLE IF EXISTS Clima_Casos\")\n",
    "\n",
    "#Convertemos os dados para SQL\n",
    "train_df.to_sql(\"Clima_Casos\", con=engine)\n",
    "\n",
    "# Realizamos a query para agrupar os dados\n",
    "query = \"SELECT Nome_municipio, Sum(Precipitacao) as Precipitacao, Avg(Pressao_at_max) as Pressao_at_max, \"\n",
    "query += \"Avg(Pressao_at_min) as Pressao_at_min, Avg(Radiacao) as Radiacao, Avg(Temp_max) as Temp_max, Avg(Temp_min) as Temp_min, \"\n",
    "query += \"Avg(Umidade) as Umidade, Avg(Max_vent) as Max_vent, Avg(Velocidade_vent) as Velocidade_vent, Pop_estimada, \"\n",
    "query += \" DIA/7 AS Semana, Sum(Casos) as Casos FROM Clima_Casos GROUP BY Nome_municipio, Semana\"\n",
    "\n",
    "train_df_week = pd.read_sql_query(query, engine)"
   ]
  },
  {
   "cell_type": "markdown",
   "metadata": {},
   "source": [
    "Vamos plotar o histograma de casos, comprovando a hipótese de que agrupar os dados por semana ajudaria a eliminar entradas nulas."
   ]
  },
  {
   "cell_type": "code",
   "execution_count": null,
   "metadata": {},
   "outputs": [
    {
     "data": {
      "image/png": "[encoded data removed]",
      "text/plain": [
       "<Figure size 432x288 with 1 Axes>"
      ]
     },
     "metadata": {
      "needs_background": "light"
     },
     "output_type": "display_data"
    }
   ],
   "source": [
    "plt.hist(train_df_week[\"Casos\"])\n",
    "plt.hist(train_df[\"Casos\"])\n",
    "plt.yscale(\"log\")\n",
    "\n",
    "plt.xlabel(\"Quantidade de casos\")\n",
    "plt.ylabel(\"Contagem\")\n",
    "\n",
    "plt.legend([\"Casos por semana\", \"Casos por dia\"])\n",
    "\n",
    "plt.title(\"Histograma - Casos\")\n",
    "\n",
    "plt.show()"
   ]
  },
  {
   "cell_type": "markdown",
   "metadata": {},
   "source": [
    "Realizamos o mesmo processo com o conjunto de validação"
   ]
  },
  {
   "cell_type": "code",
   "execution_count": 31,
   "metadata": {},
   "outputs": [],
   "source": [
    "engine.execute(\"DROP TABLE IF EXISTS Clima_Casos\")\n",
    "\n",
    "val_df.to_sql(\"Clima_Casos\", con=engine)\n",
    "query = \"SELECT Nome_municipio, Sum(Precipitacao) as Precipitacao, Avg(Pressao_at_max) as Pressao_at_max, \"\n",
    "query += \"Avg(Pressao_at_min) as Pressao_at_min, Avg(Radiacao) as Radiacao, Avg(Temp_max) as Temp_max, Avg(Temp_min) as Temp_min, \"\n",
    "query += \"Avg(Umidade) as Umidade, Avg(Max_vent) as Max_vent, Avg(Velocidade_vent) as Velocidade_vent, Pop_estimada, \"\n",
    "query += \" DIA/7 AS Semana, Sum(Casos) as Casos FROM Clima_Casos GROUP BY Nome_municipio, Semana\"\n",
    "\n",
    "val_df_week = pd.read_sql_query(query, engine)"
   ]
  },
  {
   "cell_type": "markdown",
   "metadata": {},
   "source": [
    "### Separação\n",
    "\n",
    "Separamos novamente os conjuntos"
   ]
  },
  {
   "cell_type": "code",
   "execution_count": 32,
   "metadata": {},
   "outputs": [
    {
     "name": "stderr",
     "output_type": "stream",
     "text": [
      "C:\\Python38\\lib\\site-packages\\pandas\\core\\frame.py:4167: SettingWithCopyWarning: \n",
      "A value is trying to be set on a copy of a slice from a DataFrame\n",
      "\n",
      "See the caveats in the documentation: https://pandas.pydata.org/pandas-docs/stable/user_guide/indexing.html#returning-a-view-versus-a-copy\n",
      "  return super().drop(\n"
     ]
    }
   ],
   "source": [
    "features_names.remove(\"Dia\")\n",
    "\n",
    "train_features = train_df_week[features_names]\n",
    "val_features = val_df_week[features_names]\n",
    "\n",
    "drop_columns = [\"Nome_municipio\"]\n",
    "\n",
    "for column in drop_columns:\n",
    "    train_features.drop(column, axis=\"columns\", inplace=True)\n",
    "    val_features.drop(column, axis=\"columns\", inplace=True)\n",
    "\n",
    "train_target = train_df_week[\"Casos\"]\n",
    "val_target = val_df_week[\"Casos\"]"
   ]
  },
  {
   "cell_type": "code",
   "execution_count": 33,
   "metadata": {},
   "outputs": [],
   "source": [
    "n_features = train_features.shape[1]\n",
    "n_target = 1"
   ]
  },
  {
   "cell_type": "markdown",
   "metadata": {},
   "source": [
    "### Normalização\n",
    "\n",
    "E normalizamos eles, salvando as novas distribuições."
   ]
  },
  {
   "cell_type": "code",
   "execution_count": 34,
   "metadata": {},
   "outputs": [],
   "source": [
    "description = train_features.describe()"
   ]
  },
  {
   "cell_type": "code",
   "execution_count": 35,
   "metadata": {},
   "outputs": [],
   "source": [
    "train_dist = {}\n",
    "\n",
    "for column in train_features.columns:\n",
    "    train_dist[column] = {}\n",
    "    train_dist[column][\"mean\"] = description[column][\"mean\"]\n",
    "    train_dist[column][\"std\"] = description[column][\"std\"]"
   ]
  },
  {
   "cell_type": "code",
   "execution_count": null,
   "metadata": {},
   "outputs": [],
   "source": [
    "file = open(\"train_dist_week.json\", \"w\")\n",
    "json.dump(train_dist, file)\n",
    "file.close()"
   ]
  },
  {
   "cell_type": "code",
   "execution_count": 36,
   "metadata": {},
   "outputs": [
    {
     "name": "stderr",
     "output_type": "stream",
     "text": [
      "C:\\Python38\\lib\\site-packages\\pandas\\core\\indexing.py:1781: SettingWithCopyWarning: \n",
      "A value is trying to be set on a copy of a slice from a DataFrame.\n",
      "Try using .loc[row_indexer,col_indexer] = value instead\n",
      "\n",
      "See the caveats in the documentation: https://pandas.pydata.org/pandas-docs/stable/user_guide/indexing.html#returning-a-view-versus-a-copy\n",
      "  self.obj[item_labels[indexer[info_axis]]] = value\n"
     ]
    }
   ],
   "source": [
    "for df in [train_features, val_features]:\n",
    "    for column in train_features:\n",
    "        df.loc[:, column] = (df[column]-train_dist[column][\"mean\"])/train_dist[column][\"std\"]"
   ]
  },
  {
   "cell_type": "code",
   "execution_count": null,
   "metadata": {},
   "outputs": [
    {
     "data": {
      "text/html": [
       "<div>\n",
       "<style scoped>\n",
       "    .dataframe tbody tr th:only-of-type {\n",
       "        vertical-align: middle;\n",
       "    }\n",
       "\n",
       "    .dataframe tbody tr th {\n",
       "        vertical-align: top;\n",
       "    }\n",
       "\n",
       "    .dataframe thead th {\n",
       "        text-align: right;\n",
       "    }\n",
       "</style>\n",
       "<table border=\"1\" class=\"dataframe\">\n",
       "  <thead>\n",
       "    <tr style=\"text-align: right;\">\n",
       "      <th></th>\n",
       "      <th>Precipitacao</th>\n",
       "      <th>Pressao_at_max</th>\n",
       "      <th>Pressao_at_min</th>\n",
       "      <th>Radiacao</th>\n",
       "      <th>Temp_max</th>\n",
       "      <th>Temp_min</th>\n",
       "      <th>Umidade</th>\n",
       "      <th>Max_vent</th>\n",
       "      <th>Velocidade_vent</th>\n",
       "      <th>Pop_estimada</th>\n",
       "    </tr>\n",
       "  </thead>\n",
       "  <tbody>\n",
       "    <tr>\n",
       "      <th>count</th>\n",
       "      <td>2.611090e+05</td>\n",
       "      <td>2.611090e+05</td>\n",
       "      <td>2.611090e+05</td>\n",
       "      <td>2.611090e+05</td>\n",
       "      <td>2.611090e+05</td>\n",
       "      <td>2.611090e+05</td>\n",
       "      <td>2.611090e+05</td>\n",
       "      <td>2.611090e+05</td>\n",
       "      <td>2.611090e+05</td>\n",
       "      <td>2.611090e+05</td>\n",
       "    </tr>\n",
       "    <tr>\n",
       "      <th>mean</th>\n",
       "      <td>-7.750119e-17</td>\n",
       "      <td>-2.420824e-16</td>\n",
       "      <td>4.843389e-15</td>\n",
       "      <td>-1.110596e-15</td>\n",
       "      <td>1.462944e-16</td>\n",
       "      <td>2.586276e-16</td>\n",
       "      <td>5.024515e-16</td>\n",
       "      <td>2.473072e-16</td>\n",
       "      <td>-3.082631e-16</td>\n",
       "      <td>3.047799e-17</td>\n",
       "    </tr>\n",
       "    <tr>\n",
       "      <th>std</th>\n",
       "      <td>1.000000e+00</td>\n",
       "      <td>1.000000e+00</td>\n",
       "      <td>1.000000e+00</td>\n",
       "      <td>1.000000e+00</td>\n",
       "      <td>1.000000e+00</td>\n",
       "      <td>1.000000e+00</td>\n",
       "      <td>1.000000e+00</td>\n",
       "      <td>1.000000e+00</td>\n",
       "      <td>1.000000e+00</td>\n",
       "      <td>1.000000e+00</td>\n",
       "    </tr>\n",
       "    <tr>\n",
       "      <th>min</th>\n",
       "      <td>-6.299823e-01</td>\n",
       "      <td>-3.614769e+00</td>\n",
       "      <td>-3.610927e+00</td>\n",
       "      <td>-3.585174e+00</td>\n",
       "      <td>-5.137426e+00</td>\n",
       "      <td>-5.304860e+00</td>\n",
       "      <td>-4.092521e+00</td>\n",
       "      <td>-4.211235e+00</td>\n",
       "      <td>-2.141092e+00</td>\n",
       "      <td>-3.111794e-01</td>\n",
       "    </tr>\n",
       "    <tr>\n",
       "      <th>25%</th>\n",
       "      <td>-6.299823e-01</td>\n",
       "      <td>-7.667900e-01</td>\n",
       "      <td>-7.658991e-01</td>\n",
       "      <td>-6.134432e-01</td>\n",
       "      <td>-5.791706e-01</td>\n",
       "      <td>-6.178027e-01</td>\n",
       "      <td>-5.919074e-01</td>\n",
       "      <td>-6.064536e-01</td>\n",
       "      <td>-6.777965e-01</td>\n",
       "      <td>-2.880590e-01</td>\n",
       "    </tr>\n",
       "    <tr>\n",
       "      <th>50%</th>\n",
       "      <td>-4.576515e-01</td>\n",
       "      <td>2.255351e-02</td>\n",
       "      <td>2.214004e-02</td>\n",
       "      <td>2.849036e-02</td>\n",
       "      <td>1.310423e-01</td>\n",
       "      <td>1.588711e-01</td>\n",
       "      <td>1.473996e-01</td>\n",
       "      <td>1.788824e-03</td>\n",
       "      <td>-8.908246e-02</td>\n",
       "      <td>-2.389350e-01</td>\n",
       "    </tr>\n",
       "    <tr>\n",
       "      <th>75%</th>\n",
       "      <td>2.316720e-01</td>\n",
       "      <td>9.144444e-01</td>\n",
       "      <td>9.132943e-01</td>\n",
       "      <td>6.453361e-01</td>\n",
       "      <td>6.985784e-01</td>\n",
       "      <td>7.464417e-01</td>\n",
       "      <td>7.238939e-01</td>\n",
       "      <td>6.340860e-01</td>\n",
       "      <td>5.953007e-01</td>\n",
       "      <td>-1.114829e-01</td>\n",
       "    </tr>\n",
       "    <tr>\n",
       "      <th>max</th>\n",
       "      <td>1.408379e+01</td>\n",
       "      <td>2.314561e+00</td>\n",
       "      <td>2.321065e+00</td>\n",
       "      <td>7.770369e+00</td>\n",
       "      <td>3.304806e+00</td>\n",
       "      <td>4.004419e+00</td>\n",
       "      <td>2.653008e+00</td>\n",
       "      <td>7.335062e+00</td>\n",
       "      <td>1.178436e+01</td>\n",
       "      <td>1.225012e+01</td>\n",
       "    </tr>\n",
       "  </tbody>\n",
       "</table>\n",
       "</div>"
      ],
      "text/plain": [
       "       Precipitacao  Pressao_at_max  Pressao_at_min      Radiacao  \\\n",
       "count  2.611090e+05    2.611090e+05    2.611090e+05  2.611090e+05   \n",
       "mean  -7.750119e-17   -2.420824e-16    4.843389e-15 -1.110596e-15   \n",
       "std    1.000000e+00    1.000000e+00    1.000000e+00  1.000000e+00   \n",
       "min   -6.299823e-01   -3.614769e+00   -3.610927e+00 -3.585174e+00   \n",
       "25%   -6.299823e-01   -7.667900e-01   -7.658991e-01 -6.134432e-01   \n",
       "50%   -4.576515e-01    2.255351e-02    2.214004e-02  2.849036e-02   \n",
       "75%    2.316720e-01    9.144444e-01    9.132943e-01  6.453361e-01   \n",
       "max    1.408379e+01    2.314561e+00    2.321065e+00  7.770369e+00   \n",
       "\n",
       "           Temp_max      Temp_min       Umidade      Max_vent  \\\n",
       "count  2.611090e+05  2.611090e+05  2.611090e+05  2.611090e+05   \n",
       "mean   1.462944e-16  2.586276e-16  5.024515e-16  2.473072e-16   \n",
       "std    1.000000e+00  1.000000e+00  1.000000e+00  1.000000e+00   \n",
       "min   -5.137426e+00 -5.304860e+00 -4.092521e+00 -4.211235e+00   \n",
       "25%   -5.791706e-01 -6.178027e-01 -5.919074e-01 -6.064536e-01   \n",
       "50%    1.310423e-01  1.588711e-01  1.473996e-01  1.788824e-03   \n",
       "75%    6.985784e-01  7.464417e-01  7.238939e-01  6.340860e-01   \n",
       "max    3.304806e+00  4.004419e+00  2.653008e+00  7.335062e+00   \n",
       "\n",
       "       Velocidade_vent  Pop_estimada  \n",
       "count     2.611090e+05  2.611090e+05  \n",
       "mean     -3.082631e-16  3.047799e-17  \n",
       "std       1.000000e+00  1.000000e+00  \n",
       "min      -2.141092e+00 -3.111794e-01  \n",
       "25%      -6.777965e-01 -2.880590e-01  \n",
       "50%      -8.908246e-02 -2.389350e-01  \n",
       "75%       5.953007e-01 -1.114829e-01  \n",
       "max       1.178436e+01  1.225012e+01  "
      ]
     },
     "execution_count": 33,
     "metadata": {},
     "output_type": "execute_result"
    }
   ],
   "source": [
    "train_features.describe()"
   ]
  },
  {
   "cell_type": "code",
   "execution_count": 37,
   "metadata": {},
   "outputs": [],
   "source": [
    "target_dist = {}\n",
    "target_dist[\"mean\"] = train_target.mean()\n",
    "target_dist[\"std\"] = train_target.std()"
   ]
  },
  {
   "cell_type": "code",
   "execution_count": null,
   "metadata": {},
   "outputs": [],
   "source": [
    "file = open(\"target_dist_week.json\", \"w\")\n",
    "json.dump(target_dist, file)\n",
    "file.close()"
   ]
  },
  {
   "cell_type": "markdown",
   "metadata": {},
   "source": [
    "OBS: Mais uma vez, avisamos que a normalização do target não é realizada corretamente (a célula não salva o resultado), os targets utilizados não são normalizados."
   ]
  },
  {
   "cell_type": "code",
   "execution_count": 38,
   "metadata": {},
   "outputs": [],
   "source": [
    "for df in [train_target, val_target]:\n",
    "    df = (df-target_dist[\"mean\"])/target_dist[\"std\"]"
   ]
  },
  {
   "cell_type": "markdown",
   "metadata": {},
   "source": [
    "## Modelos parte 2\n",
    "\n",
    "Começamos a treinar modelos utilizando os dados semanais."
   ]
  },
  {
   "cell_type": "markdown",
   "metadata": {},
   "source": [
    "### Modelos"
   ]
  },
  {
   "cell_type": "code",
   "execution_count": null,
   "metadata": {},
   "outputs": [],
   "source": [
    "# Iniciamos um novo manager utilizando os dados semanais.\n",
    "manager = ModelManager(\"BReATH\", train_features.to_numpy(), train_target.to_numpy(), val_features.to_numpy(), val_target.to_numpy(), save_dir=\".\\\\save\")"
   ]
  },
  {
   "cell_type": "markdown",
   "metadata": {},
   "source": [
    "Aqui, retreinamos duas vezes o primeiro modelo. A ideia era verificar se era melhor continuar usando vários batchs, ou utilizar apenas um. No final, o treino com vários batchs se mostrou melhor."
   ]
  },
  {
   "cell_type": "code",
   "execution_count": null,
   "metadata": {},
   "outputs": [],
   "source": [
    "first_model = create_first()\n",
    "\n",
    "manager.register_model(first_model, \"first_week\", \"first\")\n",
    "manager.compile_fit_save(optimizer=keras.optimizers.Adam(), epochs=100)"
   ]
  },
  {
   "cell_type": "code",
   "execution_count": null,
   "metadata": {},
   "outputs": [],
   "source": [
    "first_model = create_first()\n",
    "\n",
    "manager.register_model(first_model, \"first_week\", \"first\")\n",
    "manager.compile_fit_save(optimizer=keras.optimizers.Adam(), epochs=100, batch_size=train_features.shape[0])"
   ]
  },
  {
   "cell_type": "markdown",
   "metadata": {},
   "source": [
    "E continuamos a treinar os outros modelos"
   ]
  },
  {
   "cell_type": "code",
   "execution_count": null,
   "metadata": {},
   "outputs": [],
   "source": [
    "larger_model = create_larger()\n",
    "manager.register_model(larger_model, \"larger_week\", \"larger\")\n",
    "manager.compile_fit_save(optimizer=keras.optimizers.Adam(), epochs=100)"
   ]
  },
  {
   "cell_type": "code",
   "execution_count": null,
   "metadata": {},
   "outputs": [],
   "source": [
    "model = create_first_lstm()\n",
    "manager.register_model(model, \"first_lstm_week\", \"first_lstm\")\n",
    "manager.compile_fit_save(optimizer=keras.optimizers.Adam(), epochs=100)"
   ]
  },
  {
   "cell_type": "code",
   "execution_count": null,
   "metadata": {},
   "outputs": [],
   "source": [
    "def create_larger2():\n",
    "    input = keras.Input(shape=(n_features), name=\"input\")\n",
    "    \n",
    "    x = keras.layers.Dense(1000, activation=\"relu\")(input)\n",
    "    x = keras.layers.Dense(1000, activation=\"relu\")(x)\n",
    "    x = keras.layers.Dense(1000, activation=\"relu\")(x)\n",
    "\n",
    "    out = keras.layers.Dense(1, activation=\"relu\")(x)\n",
    "\n",
    "    model = keras.Model(inputs=[input], outputs=[out])\n",
    "\n",
    "    return model"
   ]
  },
  {
   "cell_type": "code",
   "execution_count": null,
   "metadata": {},
   "outputs": [],
   "source": [
    "model = create_larger2()\n",
    "manager.register_model(model, \"larger2_week\", \"larger2\")\n",
    "manager.compile_fit_save(optimizer=keras.optimizers.Adam(), epochs=100)"
   ]
  },
  {
   "cell_type": "markdown",
   "metadata": {},
   "source": [
    "### Conclusões\n",
    "\n",
    "Os modelos estão ficando melhores, e a saída parece fazer algum sentido. Mas, a visualização não estava muito adequada, já que plotávamos junto muitas cidades que não tinham muitos dados."
   ]
  },
  {
   "cell_type": "markdown",
   "metadata": {},
   "source": [
    "## Alterando forma de plotar amostra\n",
    "\n",
    "Para melhorar o problema de visualização, decidimos alterar a forma de mostrar um exemplo das predições. Decidimos por sempre plotar as predições para a cidade com maior quantidade de casos no conjunto de validação."
   ]
  },
  {
   "cell_type": "markdown",
   "metadata": {},
   "source": [
    "Testes com o novo método"
   ]
  },
  {
   "cell_type": "code",
   "execution_count": null,
   "metadata": {},
   "outputs": [],
   "source": [
    "prediction = model.predict(train_features)\n",
    "\n",
    "index = np.argmax(train_df_week[\"Casos\"])\n",
    "municipio = train_df_week[\"Nome_municipio\"].iloc[index]\n",
    "\n",
    "mask = train_df_week[\"Nome_municipio\"] == municipio\n",
    "mask = mask.to_numpy()\n",
    "\n",
    "plt.plot(train_df_week[\"Semana\"][mask], train_target[mask])\n",
    "plt.plot(train_df_week[\"Semana\"][mask], prediction[mask])\n",
    "\n",
    "plt.suptitle(\"Predição do modelo\")\n",
    "plt.title(municipio)\n",
    "plt.legend([\"GT\", \"Predito\"])\n",
    "plt.xlabel(\"Semana\")\n",
    "plt.ylabel(\"Casos\")\n",
    "plt.show()"
   ]
  },
  {
   "cell_type": "code",
   "execution_count": null,
   "metadata": {},
   "outputs": [],
   "source": [
    "index = np.argmax(val_df_week[\"Casos\"])\n",
    "municipio = val_df_week[\"Nome_municipio\"].iloc[index]\n",
    "\n",
    "mask = val_df_week[\"Nome_municipio\"] == municipio\n",
    "mask = mask.to_numpy()\n",
    "\n",
    "features = val_features[mask]\n",
    "\n",
    "prediction = model.predict(features)\n",
    "\n",
    "plt.plot(val_df_week[\"Semana\"][mask], val_target[mask])\n",
    "plt.plot(val_df_week[\"Semana\"][mask], prediction)\n",
    "\n",
    "plt.suptitle(\"Predição do modelo\")\n",
    "plt.title(municipio)\n",
    "plt.legend([\"GT\", \"Predito\"])\n",
    "plt.xlabel(\"Semana\")\n",
    "plt.ylabel(\"Casos\")\n",
    "plt.show()"
   ]
  },
  {
   "cell_type": "markdown",
   "metadata": {},
   "source": [
    "Atualizamos o manager para utilizar esse método de sample."
   ]
  },
  {
   "cell_type": "code",
   "execution_count": null,
   "metadata": {},
   "outputs": [],
   "source": [
    "index = np.argmax(val_df_week[\"Casos\"])\n",
    "municipio = val_df_week[\"Nome_municipio\"].iloc[index]\n",
    "\n",
    "mask = val_df_week[\"Nome_municipio\"] == municipio\n",
    "mask = mask.to_numpy()\n",
    "\n",
    "features = val_features[mask]\n",
    "\n",
    "manager = ModelManager(\"BReATH\", train_features.to_numpy(), train_target.to_numpy(), val_features.to_numpy(), val_target.to_numpy(), save_dir=\".\\\\save\")\n",
    "manager.set_sample(features, val_target[mask], val_df_week[\"Semana\"][mask])"
   ]
  },
  {
   "cell_type": "markdown",
   "metadata": {},
   "source": [
    "## Mais modelos\n",
    "\n",
    "E continuamos a testar arquiteturas e otimizadores. Mais especificamente, começamos a aumentar o tamanho da LSTM enquanto tivemos melhoras no conjunto de treino, sem um overfitting muito grande (mas, como todos os modelos, com overfitting), com esperança de conseguir melhorar depois utilizando regularização"
   ]
  },
  {
   "cell_type": "markdown",
   "metadata": {},
   "source": [
    "### Modelos"
   ]
  },
  {
   "cell_type": "code",
   "execution_count": null,
   "metadata": {},
   "outputs": [],
   "source": [
    "model = create_lstm3()\n",
    "manager.register_model(model, \"lstm3_week\", \"lstm3\")\n",
    "manager.compile_fit_save(optimizer=keras.optimizers.Adam(), epochs=100)"
   ]
  },
  {
   "cell_type": "code",
   "execution_count": null,
   "metadata": {},
   "outputs": [],
   "source": [
    "model = create_lstm3()\n",
    "manager.register_model(model, \"lstm3_week_sgd\", \"lstm3\")\n",
    "manager.compile_fit_save(optimizer=keras.optimizers.SGD(), epochs=100)"
   ]
  },
  {
   "cell_type": "code",
   "execution_count": null,
   "metadata": {},
   "outputs": [],
   "source": [
    "model = create_lstm3()\n",
    "manager.register_model(model, \"lstm3_week_sgd2\", \"lstm3\")\n",
    "manager.compile_fit_save(optimizer=keras.optimizers.SGD(learning_rate=0.01/2.0), epochs=100)"
   ]
  },
  {
   "cell_type": "code",
   "execution_count": null,
   "metadata": {},
   "outputs": [],
   "source": [
    "def create_lstm4():\n",
    "    input = keras.Input(shape=(n_features,1), name=\"input\")\n",
    "    \n",
    "    x = keras.layers.LSTM(64, return_sequences=True)(input)\n",
    "    x = keras.layers.LSTM(64)(x)\n",
    "\n",
    "    out = keras.layers.Dense(1, activation=\"relu\")(x)\n",
    "\n",
    "    model = keras.Model(inputs=[input], outputs=[out])\n",
    "\n",
    "    return model\n"
   ]
  },
  {
   "cell_type": "code",
   "execution_count": null,
   "metadata": {},
   "outputs": [],
   "source": [
    "model = create_lstm4()\n",
    "manager.register_model(model, \"lstm4_week\", \"lstm4\")\n",
    "manager.compile_fit_save(optimizer=keras.optimizers.Adam(), epochs=100, batch_size=int(BATCH_SIZE/5))"
   ]
  },
  {
   "cell_type": "code",
   "execution_count": null,
   "metadata": {},
   "outputs": [],
   "source": [
    "def create_lstm5():\n",
    "    input = keras.Input(shape=(n_features,1), name=\"input\")\n",
    "    \n",
    "    x = keras.layers.LSTM(64, return_sequences=True)(input)\n",
    "    x = keras.layers.LSTM(48, return_sequences=True)(x)\n",
    "    x = keras.layers.LSTM(32)(x)\n",
    "\n",
    "    out = keras.layers.Dense(1, activation=\"relu\")(x)\n",
    "\n",
    "    model = keras.Model(inputs=[input], outputs=[out])\n",
    "\n",
    "    return model\n"
   ]
  },
  {
   "cell_type": "code",
   "execution_count": null,
   "metadata": {},
   "outputs": [],
   "source": [
    "model = create_lstm5()\n",
    "manager.register_model(model, \"lstm5_week\", \"lstm5\")\n",
    "manager.compile_fit_save(optimizer=keras.optimizers.Adam(), epochs=100, batch_size=int(BATCH_SIZE/7))"
   ]
  },
  {
   "cell_type": "code",
   "execution_count": null,
   "metadata": {},
   "outputs": [],
   "source": [
    "def create_lstm6():\n",
    "    input = keras.Input(shape=(n_features,1), name=\"input\")\n",
    "    \n",
    "    x = keras.layers.LSTM(64, return_sequences=True)(input)\n",
    "    x = keras.layers.LSTM(48)(x)\n",
    "\n",
    "    x = keras.layers.Dense(500, activation=\"relu\")(x)\n",
    "\n",
    "    out = keras.layers.Dense(1, activation=\"relu\")(x)\n",
    "\n",
    "    model = keras.Model(inputs=[input], outputs=[out])\n",
    "\n",
    "    return model\n"
   ]
  },
  {
   "cell_type": "code",
   "execution_count": null,
   "metadata": {},
   "outputs": [],
   "source": [
    "model = create_lstm6()\n",
    "manager.register_model(model, \"lstm6_week\", \"lstm6\")\n",
    "manager.compile_fit_save(optimizer=keras.optimizers.Adam(), epochs=100, batch_size=int(BATCH_SIZE/7))"
   ]
  },
  {
   "cell_type": "code",
   "execution_count": null,
   "metadata": {},
   "outputs": [],
   "source": [
    "def create_lstm7():\n",
    "    input = keras.Input(shape=(n_features,1), name=\"input\")\n",
    "    \n",
    "    x = keras.layers.Dense(500, activation=\"relu\")(input)\n",
    "\n",
    "    x = keras.layers.LSTM(64, return_sequences=True)(x)\n",
    "    x = keras.layers.LSTM(48)(x)\n",
    "\n",
    "    x = keras.layers.Dense(500, activation=\"relu\")(x)\n",
    "\n",
    "    out = keras.layers.Dense(1, activation=\"relu\")(x)\n",
    "\n",
    "    model = keras.Model(inputs=[input], outputs=[out])\n",
    "\n",
    "    return model\n"
   ]
  },
  {
   "cell_type": "code",
   "execution_count": null,
   "metadata": {},
   "outputs": [],
   "source": [
    "model = create_lstm7()\n",
    "manager.register_model(model, \"lstm7_week\", \"lstm7\")\n",
    "manager.compile_fit_save(optimizer=keras.optimizers.Adam(), epochs=100, batch_size=int(BATCH_SIZE/7))"
   ]
  },
  {
   "cell_type": "markdown",
   "metadata": {},
   "source": [
    "Testamos uma LSTM com skip. Como o modelo totalmente conectado e a LSTM tiveram resultados interessantes, talvez utilizar um modelo que guardasse a relação temporal e a relação instantânea fosse interessante.\n",
    "\n",
    "Foi o modelo com maior overfitting de todos, então abandonamos a ideia."
   ]
  },
  {
   "cell_type": "code",
   "execution_count": null,
   "metadata": {},
   "outputs": [],
   "source": [
    "def create_lstm8():\n",
    "    input = keras.Input(shape=(n_features,1), name=\"input\")\n",
    "    \n",
    "    x1 = keras.layers.Dense(500, activation=\"relu\")(input)\n",
    "\n",
    "    x2 = keras.layers.LSTM(64, return_sequences=True)(x1)\n",
    "    x2 = keras.layers.LSTM(48)(x2)\n",
    "\n",
    "    x1 = keras.layers.Flatten()(x1)\n",
    "\n",
    "    x = keras.layers.Concatenate()([x1, x2])\n",
    "\n",
    "    x = keras.layers.Dense(500, activation=\"relu\")(x)\n",
    "\n",
    "    out = keras.layers.Dense(1, activation=\"relu\")(x)\n",
    "\n",
    "    model = keras.Model(inputs=[input], outputs=[out])\n",
    "\n",
    "    return model\n"
   ]
  },
  {
   "cell_type": "code",
   "execution_count": null,
   "metadata": {},
   "outputs": [
    {
     "data": {
      "image/png": "[encoded data removed]",
      "text/plain": [
       "<IPython.core.display.Image object>"
      ]
     },
     "execution_count": 59,
     "metadata": {},
     "output_type": "execute_result"
    }
   ],
   "source": [
    "keras.utils.plot_model(create_lstm8())"
   ]
  },
  {
   "cell_type": "code",
   "execution_count": null,
   "metadata": {},
   "outputs": [],
   "source": [
    "model = create_lstm8()\n",
    "manager.register_model(model, \"lstm8_week\", \"lstm8\")\n",
    "manager.compile_fit_save(optimizer=keras.optimizers.Adam(), epochs=100, batch_size=int(BATCH_SIZE/7))"
   ]
  },
  {
   "cell_type": "code",
   "execution_count": null,
   "metadata": {},
   "outputs": [],
   "source": [
    "def create_lstm9():\n",
    "    input = keras.Input(shape=(n_features,1), name=\"input\")\n",
    "    \n",
    "    x = keras.layers.Dense(1000, activation=\"relu\")(input)\n",
    "\n",
    "    x = keras.layers.LSTM(64, return_sequences=True)(x)\n",
    "    x = keras.layers.LSTM(48)(x)\n",
    "\n",
    "    x = keras.layers.Dense(1000, activation=\"relu\")(x)\n",
    "\n",
    "    out = keras.layers.Dense(1, activation=\"relu\")(x)\n",
    "\n",
    "    model = keras.Model(inputs=[input], outputs=[out])\n",
    "\n",
    "    return model\n"
   ]
  },
  {
   "cell_type": "code",
   "execution_count": null,
   "metadata": {},
   "outputs": [],
   "source": [
    "model = create_lstm9()\n",
    "manager.register_model(model, \"lstm9_week\", \"lstm9\")\n",
    "manager.compile_fit_save(optimizer=keras.optimizers.Adam(), epochs=100, batch_size=int(BATCH_SIZE/7))"
   ]
  },
  {
   "cell_type": "markdown",
   "metadata": {},
   "source": [
    "### Regularização\n",
    "\n",
    "Até agora, tivemos bons resultados, reduzindo principalmente as métricas de treino. Porém, ainda tínhamos um overfitting muito alto. Tentamos acrescentar regularização L2 e dropout nos modelos treinados anteriormente."
   ]
  },
  {
   "cell_type": "markdown",
   "metadata": {},
   "source": [
    "#### Regularização - LSTM9"
   ]
  },
  {
   "cell_type": "code",
   "execution_count": null,
   "metadata": {},
   "outputs": [],
   "source": [
    "def create_lstm9_reg():\n",
    "    input = keras.Input(shape=(n_features,1), name=\"input\")\n",
    "    \n",
    "    #FULL\n",
    "    x = keras.layers.Dense(1000, activation=\"relu\", kernel_regularizer=keras.regularizers.l2(0.0005))(input)\n",
    "    x = tf.keras.layers.Dropout(0.7)(x)\n",
    "\n",
    "    #LSTM\n",
    "    x = keras.layers.LSTM(64, return_sequences=True, kernel_regularizer=keras.regularizers.l2(0.0005))(x)\n",
    "    x = tf.keras.layers.Dropout(0.7)(x)\n",
    "\n",
    "    x = keras.layers.LSTM(48, kernel_regularizer=keras.regularizers.l2(0.0005))(x)\n",
    "    x = tf.keras.layers.Dropout(0.7)(x)\n",
    "\n",
    "    #FULL\n",
    "    x = keras.layers.Dense(1000, activation=\"relu\", kernel_regularizer=keras.regularizers.l2(0.0005))(x)\n",
    "    x = tf.keras.layers.Dropout(0.7)(x)\n",
    "\n",
    "    #OUT\n",
    "    out = keras.layers.Dense(1, activation=\"relu\")(x)\n",
    "\n",
    "    model = keras.Model(inputs=[input], outputs=[out])\n",
    "\n",
    "    return model\n"
   ]
  },
  {
   "cell_type": "code",
   "execution_count": null,
   "metadata": {},
   "outputs": [],
   "source": [
    "model = create_lstm9_reg()\n",
    "manager.register_model(model, \"lstm9_reg_week\", \"lstm9_reg\")\n",
    "manager.compile_fit_save(optimizer=keras.optimizers.Adam(), epochs=100, batch_size=int(BATCH_SIZE/7))"
   ]
  },
  {
   "cell_type": "code",
   "execution_count": null,
   "metadata": {},
   "outputs": [],
   "source": [
    "def create_lstm9_reg2():\n",
    "    input = keras.Input(shape=(n_features,1), name=\"input\")\n",
    "    \n",
    "    #FULL\n",
    "    x = keras.layers.Dense(1000, activation=\"relu\", kernel_regularizer=keras.regularizers.l2(0.001))(input)\n",
    "    x = tf.keras.layers.Dropout(0.7)(x)\n",
    "\n",
    "    #LSTM\n",
    "    x = keras.layers.LSTM(64, return_sequences=True, kernel_regularizer=keras.regularizers.l2(0.001))(x)\n",
    "    x = tf.keras.layers.Dropout(0.7)(x)\n",
    "\n",
    "    x = keras.layers.LSTM(48, kernel_regularizer=keras.regularizers.l2(0.001))(x)\n",
    "    x = tf.keras.layers.Dropout(0.7)(x)\n",
    "\n",
    "    #FULL\n",
    "    x = keras.layers.Dense(1000, activation=\"relu\", kernel_regularizer=keras.regularizers.l2(0.001))(x)\n",
    "    x = tf.keras.layers.Dropout(0.7)(x)\n",
    "\n",
    "    #OUT\n",
    "    out = keras.layers.Dense(1, activation=\"relu\")(x)\n",
    "\n",
    "    model = keras.Model(inputs=[input], outputs=[out])\n",
    "\n",
    "    return model\n"
   ]
  },
  {
   "cell_type": "code",
   "execution_count": null,
   "metadata": {},
   "outputs": [],
   "source": [
    "model = create_lstm9_reg2()\n",
    "manager.register_model(model, \"lstm9_reg2_week\", \"lstm9_reg2\")\n",
    "manager.compile_fit_save(optimizer=keras.optimizers.Adam(), epochs=100, batch_size=int(BATCH_SIZE/7))"
   ]
  },
  {
   "cell_type": "markdown",
   "metadata": {},
   "source": [
    "#### Regularização - Larger"
   ]
  },
  {
   "cell_type": "code",
   "execution_count": null,
   "metadata": {},
   "outputs": [],
   "source": [
    "def create_larger_reg():\n",
    "    input = keras.Input(shape=(n_features), name=\"input\")\n",
    "    \n",
    "    x = keras.layers.Dense(1000, activation=\"relu\",  kernel_regularizer=keras.regularizers.l2(0.0005))(input)\n",
    "    x = tf.keras.layers.Dropout(0.7)(x)\n",
    "\n",
    "    x = keras.layers.Dense(1000, activation=\"relu\",  kernel_regularizer=keras.regularizers.l2(0.0005))(x)\n",
    "    x = tf.keras.layers.Dropout(0.7)(x)\n",
    "    \n",
    "    out = keras.layers.Dense(1, activation=\"relu\")(x)\n",
    "\n",
    "    model = keras.Model(inputs=[input], outputs=[out])\n",
    "\n",
    "    return model"
   ]
  },
  {
   "cell_type": "code",
   "execution_count": null,
   "metadata": {},
   "outputs": [],
   "source": [
    "model = create_larger_reg()\n",
    "manager.register_model(model, \"larger_reg_week\", \"larger_reg\")\n",
    "manager.compile_fit_save(optimizer=keras.optimizers.Adam(), epochs=100, batch_size=int(BATCH_SIZE/7))"
   ]
  },
  {
   "cell_type": "code",
   "execution_count": null,
   "metadata": {},
   "outputs": [],
   "source": [
    "def create_larger_reg2():\n",
    "    input = keras.Input(shape=(n_features), name=\"input\")\n",
    "    \n",
    "    x = keras.layers.Dense(1000, activation=\"relu\",  kernel_regularizer=keras.regularizers.l2(0.005))(input)\n",
    "    x = tf.keras.layers.Dropout(0.7)(x)\n",
    "\n",
    "    x = keras.layers.Dense(1000, activation=\"relu\",  kernel_regularizer=keras.regularizers.l2(0.005))(x)\n",
    "    x = tf.keras.layers.Dropout(0.7)(x)\n",
    "    \n",
    "    out = keras.layers.Dense(1, activation=\"relu\")(x)\n",
    "\n",
    "    model = keras.Model(inputs=[input], outputs=[out])\n",
    "\n",
    "    return model"
   ]
  },
  {
   "cell_type": "code",
   "execution_count": null,
   "metadata": {},
   "outputs": [],
   "source": [
    "model = create_larger_reg2()\n",
    "manager.register_model(model, \"larger_reg2_week\", \"larger_reg2\")\n",
    "manager.compile_fit_save(optimizer=keras.optimizers.Adam(), epochs=100, batch_size=int(BATCH_SIZE/7))"
   ]
  },
  {
   "cell_type": "code",
   "execution_count": null,
   "metadata": {},
   "outputs": [],
   "source": [
    "def create_larger_reg3():\n",
    "    input = keras.Input(shape=(n_features), name=\"input\")\n",
    "    \n",
    "    x = keras.layers.Dense(1000, activation=\"relu\",  kernel_regularizer=keras.regularizers.l2(0.05))(input)\n",
    "    x = tf.keras.layers.Dropout(0.7)(x)\n",
    "\n",
    "    x = keras.layers.Dense(1000, activation=\"relu\",  kernel_regularizer=keras.regularizers.l2(0.05))(x)\n",
    "    x = tf.keras.layers.Dropout(0.7)(x)\n",
    "    \n",
    "    out = keras.layers.Dense(1, activation=\"relu\")(x)\n",
    "\n",
    "    model = keras.Model(inputs=[input], outputs=[out])\n",
    "\n",
    "    return model"
   ]
  },
  {
   "cell_type": "code",
   "execution_count": null,
   "metadata": {},
   "outputs": [],
   "source": [
    "model = create_larger_reg3()\n",
    "manager.register_model(model, \"larger_reg3_week\", \"larger_reg3\")\n",
    "manager.compile_fit_save(optimizer=keras.optimizers.Adam(), epochs=100, batch_size=int(BATCH_SIZE/7))"
   ]
  },
  {
   "cell_type": "code",
   "execution_count": null,
   "metadata": {},
   "outputs": [],
   "source": [
    "def create_larger_reg4():\n",
    "    input = keras.Input(shape=(n_features), name=\"input\")\n",
    "    \n",
    "    x = keras.layers.Dense(1000, activation=\"relu\",  kernel_regularizer=keras.regularizers.l2(0.1))(input)\n",
    "    x = tf.keras.layers.Dropout(0.7)(x)\n",
    "\n",
    "    x = keras.layers.Dense(1000, activation=\"relu\",  kernel_regularizer=keras.regularizers.l2(0.1))(x)\n",
    "    x = tf.keras.layers.Dropout(0.7)(x)\n",
    "    \n",
    "    out = keras.layers.Dense(1, activation=\"relu\")(x)\n",
    "\n",
    "    model = keras.Model(inputs=[input], outputs=[out])\n",
    "\n",
    "    return model"
   ]
  },
  {
   "cell_type": "code",
   "execution_count": null,
   "metadata": {},
   "outputs": [],
   "source": [
    "model = create_larger_reg4()\n",
    "manager.register_model(model, \"larger_reg4_week\", \"larger_reg4\")\n",
    "manager.compile_fit_save(optimizer=keras.optimizers.Adam(), epochs=100, batch_size=int(BATCH_SIZE/7))"
   ]
  },
  {
   "cell_type": "code",
   "execution_count": null,
   "metadata": {},
   "outputs": [],
   "source": [
    "model = create_larger_reg4()\n",
    "manager.register_model(model, \"larger_reg4_week_200\", \"larger_reg4\")\n",
    "manager.compile_fit_save(optimizer=keras.optimizers.Adam(), epochs=200, batch_size=int(BATCH_SIZE/7))"
   ]
  },
  {
   "cell_type": "code",
   "execution_count": null,
   "metadata": {},
   "outputs": [],
   "source": [
    "def create_larger_reg5():\n",
    "    input = keras.Input(shape=(n_features), name=\"input\")\n",
    "    \n",
    "    x = keras.layers.Dense(1000, activation=\"relu\",  kernel_regularizer=keras.regularizers.l2(0.5))(input)\n",
    "    x = tf.keras.layers.Dropout(0.7)(x)\n",
    "\n",
    "    x = keras.layers.Dense(1000, activation=\"relu\",  kernel_regularizer=keras.regularizers.l2(0.5))(x)\n",
    "    x = tf.keras.layers.Dropout(0.7)(x)\n",
    "    \n",
    "    out = keras.layers.Dense(1, activation=\"relu\")(x)\n",
    "\n",
    "    model = keras.Model(inputs=[input], outputs=[out])\n",
    "\n",
    "    return model"
   ]
  },
  {
   "cell_type": "code",
   "execution_count": null,
   "metadata": {},
   "outputs": [],
   "source": [
    "model = create_larger_reg5()\n",
    "manager.register_model(model, \"larger_reg5_week_200\", \"larger_reg5\")\n",
    "manager.compile_fit_save(optimizer=keras.optimizers.Adam(), epochs=200, batch_size=int(BATCH_SIZE/7))"
   ]
  },
  {
   "cell_type": "markdown",
   "metadata": {},
   "source": [
    "#### Regularização - LSTM7"
   ]
  },
  {
   "cell_type": "code",
   "execution_count": null,
   "metadata": {},
   "outputs": [],
   "source": [
    "def create_lstm7_reg():\n",
    "    input = keras.Input(shape=(n_features,1), name=\"input\")\n",
    "    \n",
    "    x = keras.layers.Dense(500, activation=\"relu\", kernel_regularizer=keras.regularizers.l2(0.05))(input)\n",
    "    x = tf.keras.layers.Dropout(0.7)(x)\n",
    "\n",
    "    x = keras.layers.LSTM(64, return_sequences=True, kernel_regularizer=keras.regularizers.l2(0.05))(x)\n",
    "    x = tf.keras.layers.Dropout(0.7)(x)\n",
    "\n",
    "    x = keras.layers.LSTM(48, kernel_regularizer=keras.regularizers.l2(0.05))(x)\n",
    "    x = tf.keras.layers.Dropout(0.7)(x)\n",
    "\n",
    "    x = keras.layers.Dense(500, activation=\"relu\", kernel_regularizer=keras.regularizers.l2(0.05))(x)\n",
    "    x = tf.keras.layers.Dropout(0.7)(x)\n",
    "\n",
    "    out = keras.layers.Dense(1, activation=\"relu\")(x)\n",
    "\n",
    "    model = keras.Model(inputs=[input], outputs=[out])\n",
    "\n",
    "    return model\n"
   ]
  },
  {
   "cell_type": "code",
   "execution_count": null,
   "metadata": {},
   "outputs": [],
   "source": [
    "model = create_lstm7_reg()\n",
    "manager.register_model(model, \"lstm7_reg_week\", \"lstm7_reg\")\n",
    "manager.compile_fit_save(optimizer=keras.optimizers.Adam(), epochs=100, batch_size=int(BATCH_SIZE/7))"
   ]
  },
  {
   "cell_type": "code",
   "execution_count": null,
   "metadata": {},
   "outputs": [],
   "source": [
    "def create_lstm7_reg2():\n",
    "    input = keras.Input(shape=(n_features,1), name=\"input\")\n",
    "    \n",
    "    x = keras.layers.Dense(500, activation=\"relu\", kernel_regularizer=keras.regularizers.l2(0.005))(input)\n",
    "    x = tf.keras.layers.Dropout(0.7)(x)\n",
    "\n",
    "    x = keras.layers.LSTM(64, return_sequences=True, kernel_regularizer=keras.regularizers.l2(0.005))(x)\n",
    "    x = tf.keras.layers.Dropout(0.7)(x)\n",
    "\n",
    "    x = keras.layers.LSTM(48, kernel_regularizer=keras.regularizers.l2(0.005))(x)\n",
    "    x = tf.keras.layers.Dropout(0.7)(x)\n",
    "\n",
    "    x = keras.layers.Dense(500, activation=\"relu\", kernel_regularizer=keras.regularizers.l2(0.005))(x)\n",
    "    x = tf.keras.layers.Dropout(0.7)(x)\n",
    "\n",
    "    out = keras.layers.Dense(1, activation=\"relu\")(x)\n",
    "\n",
    "    model = keras.Model(inputs=[input], outputs=[out])\n",
    "\n",
    "    return model\n"
   ]
  },
  {
   "cell_type": "code",
   "execution_count": null,
   "metadata": {},
   "outputs": [],
   "source": [
    "model = create_lstm7_reg2()\n",
    "manager.register_model(model, \"lstm7_reg2_week\", \"lstm7_reg2\")\n",
    "manager.compile_fit_save(optimizer=keras.optimizers.Adam(), epochs=100, batch_size=int(BATCH_SIZE/7))"
   ]
  },
  {
   "cell_type": "markdown",
   "metadata": {},
   "source": [
    "## Algoritmo genético\n",
    "\n",
    "Já tivemos vários modelos promissores, porém estávamos até agora realizando mudanças de forma errática nos modelos. Tentamos então automatizar o processo.\n",
    "\n",
    "Como a arquitetura com treino mais rápido e com melhor métricas até então foi utilizar duas camadas densas, decidimos utilizar essa arquitetura para otimizar os hiperparâmetros."
   ]
  },
  {
   "cell_type": "markdown",
   "metadata": {},
   "source": [
    "### AG"
   ]
  },
  {
   "cell_type": "markdown",
   "metadata": {},
   "source": [
    "Iniciamos por importar de uma outra disciplina o primeiro AG simples que tínhamos criado. Ele suporta mudança dinâmica na taxa de mutação, porém os testes foram executados em poucas gerações, o que inviabiliza utilizar esse recurso."
   ]
  },
  {
   "cell_type": "code",
   "execution_count": null,
   "metadata": {},
   "outputs": [],
   "source": [
    "import numba\n",
    "\n",
    "# Criamos funções para crossover utilizando média e one point.\n",
    "\n",
    "@numba.njit\n",
    "def mean(individual1, individual2):\n",
    "    return (individual1+individual2)/2.0\n",
    "    \n",
    "@numba.njit\n",
    "def one_point(individual1, individual2):\n",
    "    index = np.random.randint(individual1.shape[0])\n",
    "\n",
    "    new_individual = np.empty_like(individual1)\n",
    "    new_individual[:index] = individual1[:index]\n",
    "    new_individual[index:] = individual2[index:]\n",
    "\n",
    "    return new_individual\n",
    "\n",
    "# Mutação\n",
    "\n",
    "@numba.njit\n",
    "def mutation(individual, chromosome_size, mutation_rate, mutation_range):\n",
    "    #Alterar para poder mutacionar apenas um gene\n",
    "    if np.random.rand() < mutation_rate:\n",
    "        individual += (2.0*(np.random.rand(chromosome_size)-0.5))*mutation_range\n",
    "    \n",
    "    return individual\n",
    "\n",
    "\n",
    "# Classe principal para o AG\n",
    "class AG:\n",
    "\n",
    "        \n",
    "    def __init__(self, population_size, mutation_rate, mutation_range, \n",
    "                cross_over = mean, dtype=np.float32, mutation_patience=5, exploration_patience=2, refinement_patience=2, dynamic_rate=True, dynamic_range=True):\n",
    "        '''\n",
    "            Parameters:\n",
    "                mutation_patience: gerações que espera antes de determinar que está parado\n",
    "                refinement_patience: ciclos de refinamento (diminuir taxa/range) que irá esperar antes de iniciar uma exploração para outro mínimo \n",
    "        '''\n",
    "        \n",
    "        \n",
    "        #Colocar opção default que mutation_rate=1\n",
    "        self.population_size = population_size\n",
    "        self.mutation_rate = mutation_rate\n",
    "        self.mutation_range = mutation_range\n",
    "        self.mutation_patience = mutation_patience\n",
    "        self.refinement_patience = refinement_patience\n",
    "        self.exploration_patience = exploration_patience\n",
    "        self.dtype = dtype\n",
    "        self.cross_over = cross_over\n",
    "        self.dynamic_rate = dynamic_rate\n",
    "        self.dynamic_range = dynamic_range\n",
    "        \n",
    "        self.mutation = mutation\n",
    "\n",
    "        self.initial_mutation_rate =  mutation_rate\n",
    "        self.initial_mutation_range = mutation_range\n",
    "    \n",
    "    # Seleção por torneio\n",
    "    def selection(self): #tournament\n",
    "        index1 = np.random.randint(self.population_size)\n",
    "        index2 = np.random.randint(self.population_size)\n",
    "\n",
    "        if self.fitness_scores[index1] > self.fitness_scores[index2]:\n",
    "            return self.population[index1]\n",
    "        return self.population[index2]\n",
    "\n",
    "    # Cria uma nova população\n",
    "    def new_population(self):\n",
    "        new_population = np.zeros_like(self.population)\n",
    "        \n",
    "        best_fitness = np.argmax(self.fitness_scores)\n",
    "        best_individual = self.population[best_fitness]\n",
    "\n",
    "        self.individual_best_hist[self.current_generation] = best_individual\n",
    "        self.fitness_best_hist[self.current_generation] = self.fitness_scores[best_fitness]\n",
    "        self.fitness_mean_hist[self.current_generation] = np.mean(self.fitness_scores)\n",
    "        self.fitness_std_hist[self.current_generation] = np.std(self.fitness_scores)\n",
    "\n",
    "\n",
    "        new_population[0] = best_individual\n",
    "\n",
    "        for i in range(1, self.population_size):\n",
    "            father1 = self.selection()\n",
    "            father2 = self.selection()\n",
    "\n",
    "            new_individual = self.cross_over(father1, father2)\n",
    "            new_individual = self.mutation(new_individual, self.chromosome_size, self.mutation_rate, self.mutation_range)\n",
    "\n",
    "            new_population[i] = new_individual\n",
    "        \n",
    "        return new_population\n",
    "        \n",
    "    # Realiza a otimização\n",
    "    def optimize(self, fitness_function, chromosome_size, max_cromossome_value, min_cromossome_value, n_generation):\n",
    "        self.chromosome_size = chromosome_size\n",
    "\n",
    "        self.stopped_count = 0\n",
    "        self.refinement_count = 0\n",
    "        self.exploration_count = 0\n",
    "\n",
    "        self.population = np.random.rand(self.population_size, self.chromosome_size).astype(self.dtype)\n",
    "        self.population *= max_cromossome_value-min_cromossome_value\n",
    "        self.population += min_cromossome_value\n",
    "\n",
    "        self.fitness_scores = np.zeros(self.population_size)\n",
    "\n",
    "        self.individual_best_hist = np.zeros((n_generation, chromosome_size))\n",
    "        self.fitness_best_hist = np.zeros(n_generation)\n",
    "        self.fitness_mean_hist = np.zeros(n_generation)\n",
    "        self.fitness_std_hist = np.zeros(n_generation)\n",
    "        self.mutation_range_hist = np.zeros(n_generation)\n",
    "        self.mutation_rate_hist = np.zeros(n_generation)\n",
    "        self.generation_type = np.zeros(n_generation+1)\n",
    "\n",
    "        self.current_generation = 0\n",
    "\n",
    "        for i in range(n_generation):\n",
    "            print(\"Iniciando geração\", i)\n",
    "            for j in range(self.population_size):\n",
    "                self.fitness_scores[j] = fitness_function(self.population[j])\n",
    "\n",
    "            self.population = self.new_population()\n",
    "\n",
    "            self.mutation_range_hist[self.current_generation] = self.mutation_range\n",
    "            self.mutation_rate_hist[self.current_generation] = self.mutation_rate\n",
    "\n",
    "            if i > 0:\n",
    "                if(abs(self.fitness_best_hist[i] - self.fitness_best_hist[i-1]) < 1E-4):\n",
    "                    self.stopped_count += 1\n",
    "                else:\n",
    "                    self.stopped_count = 0\n",
    "            \n",
    "            self.current_generation += 1\n",
    "\n",
    "            if self.stopped_count > self.mutation_patience:\n",
    "                # Para -> Refina -> Para -> Explora -> Reset\n",
    "                if (self.exploration_count > self.exploration_patience and \n",
    "                    self.refinement_count > self.refinement_patience):\n",
    "                    #Reset\n",
    "                        self.mutation_rate = self.initial_mutation_rate\n",
    "                        self.mutation_range = self.initial_mutation_range\n",
    "\n",
    "                        self.refinement_count = 0\n",
    "                        self.exploration_count = 0\n",
    "                        \n",
    "                elif self.refinement_count > self.refinement_patience:\n",
    "                    if self.exploration_count == 0:\n",
    "                        # 1ª iteração de exploração\n",
    "                        self.mutation_rate = self.initial_mutation_rate\n",
    "                        self.mutation_range = self.initial_mutation_range\n",
    "                    \n",
    "                    #Exploração \n",
    "                    if self.dynamic_rate:\n",
    "                        self.mutation_rate *= 2.0\n",
    "                    if self.dynamic_range:\n",
    "                        self.mutation_range *= 2.0\n",
    "    \n",
    "                    self.exploration_count += 1\n",
    "                    self.generation_type[self.current_generation] = 1\n",
    "                \n",
    "                else:\n",
    "                    #Refinamento\n",
    "                    if self.dynamic_rate:\n",
    "                        self.mutation_rate /= 2.0\n",
    "                    if self.dynamic_range:\n",
    "                        self.mutation_range /= 2.0\n",
    "                    \n",
    "                    self.refinement_count += 1\n",
    "\n",
    "                    self.generation_type[self.current_generation] = -1\n",
    "\n",
    "                self.stopped_count = 0\n",
    "            \n",
    "\n",
    "            \n",
    "    # Plota o histórico de fitness\n",
    "    def plot_fitness(self, max_value = None, min_value = None, min_generation=0, log=False):\n",
    "        plt.plot(np.arange(self.current_generation)[min_generation:], self.fitness_best_hist[min_generation:])\n",
    "        plt.plot(np.arange(self.current_generation)[min_generation:], self.fitness_mean_hist[min_generation:])\n",
    "        \n",
    "        plt.legend([\"Best individual\", \"Mean\"])\n",
    "        plt.xlabel(\"Generation\")\n",
    "        plt.ylabel(\"Fitness\")\n",
    "\n",
    "        if max_value is None:\n",
    "            max_value = self.fitness_best_hist[-1] + (self.fitness_best_hist[-1]/2.0)\n",
    "\n",
    "        plt.ylim(bottom = min_value, top=max_value)\n",
    "\n",
    "        if log:\n",
    "            plt.yscale(\"log\")\n",
    "        \n",
    "        plt.show()\n",
    "\n",
    "    # Plota os indivíduos    \n",
    "    def plot_individual(self):\n",
    "        plt.title(\"Best individuals\")\n",
    "\n",
    "        for i in range(self.chromosome_size):\n",
    "            plt.plot(np.arange(self.current_generation), self.individual_best_hist[: , i], label=\"x\"+str(i))\n",
    "\n",
    "        plt.legend()\n",
    "        plt.xlabel(\"Generation\")\n",
    "        plt.ylabel(\"Gene\")\n",
    "\n",
    "        plt.show()\n",
    "    \n",
    "    # Plota os genes\n",
    "    def plot_gene(self):\n",
    "        fig, ax = plt.subplots(self.chromosome_size, 2, figsize=(10,10))\n",
    "\n",
    "        for i in range(self.chromosome_size):\n",
    "            ax[i][0].set_title(\"x\"+str(i))\n",
    "            ax[i][0].plot(np.arange(self.current_generation), self.individual_best_hist[: , i])\n",
    "            ax[i][0].legend([\"x\"+str(i)])\n",
    "            #ax[i][0].set_xlabel(\"Generation\")\n",
    "\n",
    "            ax[i][1].set_title(\"x\"+str(i)+\" - last generations\")\n",
    "            ax[i][1].plot(np.arange(self.current_generation)[50:], self.individual_best_hist[self.current_generation//2: , i])\n",
    "            ax[i][1].legend([\"x\"+str(i)])\n",
    "\n",
    "        plt.show()\n",
    "\n",
    "    #As próximas funções de plot são apenas úteis para os verificar a taxa de mutação dinâmica\n",
    "    def plot_generation_type(self):\n",
    "        plt.title(\"Generation Type\")\n",
    "        plt.plot(self.generation_type)\n",
    "        plt.xlabel(\"Geração\")\n",
    "        plt.ylabel(\"Tipo\")\n",
    "        plt.show()\n",
    "\n",
    "    def plot_mutation_range(self):\n",
    "        plt.title(\"Mutation range\")\n",
    "        plt.xlabel(\"Generation\")\n",
    "        plt.ylabel(\"Mutation Range\")\n",
    "\n",
    "        plt.plot(np.arange(self.current_generation), self.mutation_range_hist)\n",
    "\n",
    "        plt.yscale(\"log\")\n",
    "\n",
    "        plt.show()\n",
    "    \n",
    "    def plot_mutation_rate(self):\n",
    "        plt.title(\"Mutation rate\")\n",
    "        plt.xlabel(\"Generation\")\n",
    "        plt.ylabel(\"Mutation Rate\")\n",
    "\n",
    "        plt.plot(np.arange(self.current_generation), self.mutation_rate_hist)\n",
    "\n",
    "        plt.yscale(\"log\")\n",
    "\n",
    "        plt.show()\n"
   ]
  },
  {
   "cell_type": "markdown",
   "metadata": {},
   "source": [
    "Recriamos as funções de plot, dessa vez sem mostrar o gráfico, para conseguir realizar logging"
   ]
  },
  {
   "cell_type": "code",
   "execution_count": null,
   "metadata": {},
   "outputs": [],
   "source": [
    "def plot_fitness(self, max_value = None, min_value = None, min_generation=0, log=False):\n",
    "    plt.plot(np.arange(self.current_generation)[min_generation:], self.fitness_best_hist[min_generation:])\n",
    "    plt.plot(np.arange(self.current_generation)[min_generation:], self.fitness_mean_hist[min_generation:])\n",
    "    \n",
    "    plt.legend([\"Best individual\", \"Mean\"])\n",
    "    plt.xlabel(\"Generation\")\n",
    "    plt.ylabel(\"Fitness\")\n",
    "\n",
    "    if max_value is None:\n",
    "        max_value = self.fitness_best_hist[-1] + (self.fitness_best_hist[-1]/2.0)\n",
    "\n",
    "    plt.ylim(bottom = min_value, top=max_value)\n",
    "\n",
    "    if log:\n",
    "        plt.yscale(\"log\")\n",
    "\n",
    "def plot_individual(self):\n",
    "    plt.title(\"Best individuals\")\n",
    "\n",
    "    for i in range(self.chromosome_size):\n",
    "        plt.plot(np.arange(self.current_generation), self.individual_best_hist[: , i], label=\"x\"+str(i))\n",
    "\n",
    "    plt.legend()\n",
    "    plt.xlabel(\"Generation\")\n",
    "    plt.ylabel(\"Gene\")\n",
    "\n",
    "        "
   ]
  },
  {
   "cell_type": "code",
   "execution_count": null,
   "metadata": {},
   "outputs": [],
   "source": [
    "# Loga os dados do AG no wandb\n",
    "def log_ag(name, ag, chromosome_size, max_cromossome_value, min_cromossome_value, n_generation):\n",
    "\n",
    "    config = {}\n",
    "    config[\"population_size\"] = ag.population_size\n",
    "    config[\"mutation_rate\"] = ag.mutation_rate\n",
    "    config[\"mutation_range\"] = ag.mutation_range\n",
    "    config[\"mutation_patience\"] = ag.mutation_patience\n",
    "    config[\"refinement_patience\"] = ag.refinement_patience\n",
    "    config[\"exploration_patience\"] = ag.exploration_patience\n",
    "    config[\"dynamic_rate\"] = ag.dynamic_rate\n",
    "    config[\"chromosome_size\"] = chromosome_size\n",
    "    config[\"max_cromossome_value\"] = max_cromossome_value\n",
    "    config[\"min_cromossome_value\"] = min_cromossome_value\n",
    "    config[\"n_generation\"] = n_generation\n",
    "    config[\"cross_over\"] = ag.cross_over.__name__\n",
    "\n",
    "    run = wandb.init(project=\"BReATH_AG\", entity=\"breath\",\n",
    "                        config = config)\n",
    "\n",
    "    run.name = name\n",
    "\n",
    "    for i in range(ag.fitness_best_hist.shape[0]):\n",
    "        log_dict = {\"fitness_best\": ag.fitness_best_hist[i],\n",
    "                    \"fitness_mean\": ag.fitness_mean_hist[i],\n",
    "                    \"fitness_std\": ag.fitness_std_hist[i],\n",
    "                    \"mutation_range\": ag.mutation_range_hist[i],\n",
    "                    \"mutation_rate\": ag.mutation_rate_hist[i],\n",
    "                    }\n",
    "\n",
    "        for j in range(chromosome_size):\n",
    "            log_dict[\"individual_best_\"+str(j)] =  ag.individual_best_hist[i][j]\n",
    "\n",
    "        \n",
    "        wandb.log(log_dict)\n",
    "\n",
    "    #plot_fitness(ag)\n",
    "    #wandb.log({\"fitness_plot\":plt})\n",
    "    #plt.show()\n",
    "\n",
    "    #plot_individual(ag)\n",
    "    #wandb.log({\"individual_plot\":plt})\n",
    "    #plt.show()\n",
    "\n",
    "    wandb.log({\"fitness_best\": ag.fitness_best_hist})\n",
    "\n",
    "    wandb.finish()"
   ]
  },
  {
   "cell_type": "markdown",
   "metadata": {},
   "source": [
    "Nosso primeiro teste. Tentamos otimizar apenas a quantidade de neurônios do modelo. A função para calcular o fitness utilizada foi treinar o modelo por 60 ou 100 gerações (dependendo do experimento), e calcular a média o MSE de validação das últimas gerações, para evitar ruído."
   ]
  },
  {
   "cell_type": "code",
   "execution_count": null,
   "metadata": {},
   "outputs": [],
   "source": [
    "fitness_hist = {}\n",
    "\n",
    "def optimize_larger(individual:np.ndarray):\n",
    "    ind = individual.astype(int)\n",
    "    name = str(ind[0])+\"_\"+str(ind[1])\n",
    "    arch_name = \"larger_ag_\"+name\n",
    "    model_name = arch_name+\"_week\"\n",
    "\n",
    "    if name in fitness_hist:\n",
    "        return fitness_hist[name]\n",
    "\n",
    "\n",
    "    input = keras.Input(shape=(n_features), name=\"input\")\n",
    "    \n",
    "    x = keras.layers.Dense(ind[0], activation=\"relu\",  kernel_regularizer=keras.regularizers.l2(0.05))(input)\n",
    "    x = tf.keras.layers.Dropout(0.7)(x)\n",
    "\n",
    "    x = keras.layers.Dense(ind[1], activation=\"relu\",  kernel_regularizer=keras.regularizers.l2(0.05))(x)\n",
    "    x = tf.keras.layers.Dropout(0.7)(x)\n",
    "    \n",
    "    out = keras.layers.Dense(1, activation=\"relu\")(x)\n",
    "\n",
    "    model = keras.Model(inputs=[input], outputs=[out])\n",
    "\n",
    "    manager.register_model(model, model_name,  arch_name)\n",
    "    manager.compile_fit_save(optimizer=keras.optimizers.Adam(), epochs=60, batch_size=int(BATCH_SIZE/7))\n",
    "\n",
    "    fitness = np.mean(manager._hist[model_name].history[\"val_mean_squared_error\"][-10:])\n",
    "\n",
    "    fitness_hist[name] = fitnessa\n",
    "\n",
    "    return fitness\n"
   ]
  },
  {
   "cell_type": "code",
   "execution_count": null,
   "metadata": {},
   "outputs": [],
   "source": [
    "ag = AG(10, 1, 10)\n",
    "ag.optimize(optimize_larger, 2, 1500, 100, 6)"
   ]
  },
  {
   "cell_type": "code",
   "execution_count": null,
   "metadata": {},
   "outputs": [
    {
     "data": {
      "image/png": "[encoded data removed]",
      "text/plain": [
       "<Figure size 432x288 with 1 Axes>"
      ]
     },
     "metadata": {
      "needs_background": "light"
     },
     "output_type": "display_data"
    },
    {
     "data": {
      "image/png": "[encoded data removed]",
      "text/plain": [
       "<Figure size 432x288 with 1 Axes>"
      ]
     },
     "metadata": {
      "needs_background": "light"
     },
     "output_type": "display_data"
    }
   ],
   "source": [
    "ag.plot_fitness()\n",
    "ag.plot_individual()"
   ]
  },
  {
   "cell_type": "code",
   "execution_count": null,
   "metadata": {},
   "outputs": [],
   "source": [
    "log_ag(\"ag_larger_architecture\",  ag, 2, 1500, 100, 6)"
   ]
  },
  {
   "cell_type": "markdown",
   "metadata": {},
   "source": [
    "Ele demorou 29 min e 46,2 s para otimizar. Curiosamente, todos os modelos pareceram extremamente iguais. Acreditamos que isso se deve a alta taxa de dropout. Tentamos então otimizar apenas a regularização L2 e o droput."
   ]
  },
  {
   "cell_type": "code",
   "execution_count": null,
   "metadata": {},
   "outputs": [],
   "source": [
    "fitness_hist = {}\n",
    "\n",
    "def optimize_larger_reg(individual:np.ndarray):\n",
    "    individual = np.round(individual, 5)\n",
    "    name = str(individual[0])+\"_\"+str(individual[1])+\"_\"+str(individual[2])+\"_\"+str(individual[3])\n",
    "    arch_name = \"larger_ag_reg_\"+name\n",
    "    model_name = arch_name+\"_week\"\n",
    "\n",
    "    if name in fitness_hist:\n",
    "        return fitness_hist[name]\n",
    "\n",
    "\n",
    "    input = keras.Input(shape=(n_features), name=\"input\")\n",
    "    \n",
    "    x = keras.layers.Dense(853, activation=\"relu\",  kernel_regularizer=keras.regularizers.l2(individual[0]))(input)\n",
    "    x = tf.keras.layers.Dropout(individual[2])(x)\n",
    "\n",
    "    x = keras.layers.Dense(121, activation=\"relu\",  kernel_regularizer=keras.regularizers.l2(individual[1]))(x)\n",
    "    x = tf.keras.layers.Dropout(individual[3])(x)\n",
    "    \n",
    "    out = keras.layers.Dense(1, activation=\"relu\")(x)\n",
    "\n",
    "    model = keras.Model(inputs=[input], outputs=[out])\n",
    "\n",
    "    manager.register_model(model, model_name,  arch_name)\n",
    "    manager.compile_fit_save(optimizer=keras.optimizers.Adam(), epochs=100, batch_size=int(BATCH_SIZE/7))\n",
    "\n",
    "    fitness = np.mean(manager._hist[model_name].history[\"val_mean_squared_error\"][-10:])\n",
    "\n",
    "    fitness_hist[name] = fitness\n",
    "\n",
    "    return fitness\n"
   ]
  },
  {
   "cell_type": "code",
   "execution_count": null,
   "metadata": {},
   "outputs": [],
   "source": [
    "ag = AG(10, 1, 0.01, cross_over=one_point, dtype=np.float64)\n",
    "ag.optimize(optimize_larger_reg, 4, 1, 0, 6)"
   ]
  },
  {
   "cell_type": "code",
   "execution_count": null,
   "metadata": {},
   "outputs": [],
   "source": [
    "log_ag(\"ag_larger_reg\",  ag, 4, 1, 0, 6)"
   ]
  },
  {
   "cell_type": "markdown",
   "metadata": {},
   "source": [
    "Essa nova execução demorou 32 min e 5,6s. Tivemos mudanças mais significativas nas métricas."
   ]
  },
  {
   "cell_type": "markdown",
   "metadata": {},
   "source": [
    "Percebemos então que, até o momento, estávamos utilizando como valor para o fitness a média da loss de validação. Porém, o AG está implementado de forma a maximizar o fitness, o que implica em maximizar a loss. Todos os testes até então tentaram des-otimizar a arquitetura.\n",
    "\n",
    "Alteramos o fitness para ser o recíproco da média da loss."
   ]
  },
  {
   "cell_type": "code",
   "execution_count": null,
   "metadata": {},
   "outputs": [],
   "source": [
    "fitness_hist = {}\n",
    "\n",
    "def optimize_larger2(individual:np.ndarray):\n",
    "    ind = individual.astype(int)\n",
    "    name = str(ind[0])+\"_\"+str(ind[1])\n",
    "    arch_name = \"larger_ag_\"+name\n",
    "    model_name = arch_name+\"_week\"\n",
    "\n",
    "    if name in fitness_hist:\n",
    "        return fitness_hist[name]\n",
    "\n",
    "\n",
    "    input = keras.Input(shape=(n_features), name=\"input\")\n",
    "    \n",
    "    x = keras.layers.Dense(ind[0], activation=\"relu\")(input)\n",
    "    x = keras.layers.Dense(ind[1], activation=\"relu\")(x)\n",
    "\n",
    "    out = keras.layers.Dense(1, activation=\"relu\")(x)\n",
    "\n",
    "    model = keras.Model(inputs=[input], outputs=[out])\n",
    "\n",
    "    manager.register_model(model, model_name,  arch_name)\n",
    "    manager.compile_fit_save(optimizer=keras.optimizers.Adam(), epochs=60, batch_size=int(BATCH_SIZE/7))\n",
    "\n",
    "    fitness = np.mean(manager._hist[model_name].history[\"val_mean_squared_error\"][-10:])\n",
    "    fitness = 1.0/fitness\n",
    "\n",
    "    fitness_hist[name] = fitness\n",
    "\n",
    "    return fitness\n"
   ]
  },
  {
   "cell_type": "code",
   "execution_count": null,
   "metadata": {},
   "outputs": [],
   "source": [
    "ag = AG(10, 1, 10, cross_over=one_point)\n",
    "ag.optimize(optimize_larger2, 2, 1500, 100, 6)\n",
    "log_ag(\"ag_larger_architecture_minimize\",  ag, 2, 1500, 100, 6)"
   ]
  },
  {
   "cell_type": "markdown",
   "metadata": {},
   "source": [
    "Como tivemos \"melhorias\" ao alterar a regularização, tentamos então otimizar tanto ela quanto a arquitetura. Também executamos esse experimento com gerações maiores (20 indivíduos, o dobro), e por mais gerações (12, o dobro)."
   ]
  },
  {
   "cell_type": "code",
   "execution_count": null,
   "metadata": {},
   "outputs": [],
   "source": [
    "fitness_hist = {}\n",
    "\n",
    "def optimize_both(individual:np.ndarray):\n",
    "    individual = np.round(individual, decimals=5)\n",
    "    individual = np.clip(individual, 0.0, 1.0)\n",
    "\n",
    "    units = individual[:2]\n",
    "    reg = individual[2:]\n",
    "\n",
    "    reg = np.clip(reg, 0.0, 0.99999)\n",
    "\n",
    "    units *= 1900\n",
    "    units += 100\n",
    "    units = units.astype(int)\n",
    "\n",
    "    name = \"\"\n",
    "    for i in range(2):\n",
    "        name += str(units[i])+\"_\"\n",
    "    for i in range(4):\n",
    "        name += str(reg[i])+\"_\"\n",
    "    \n",
    "    arch_name = \"larger_ag_both_\"+name\n",
    "    model_name = arch_name+\"week\"\n",
    "\n",
    "    if name in fitness_hist:\n",
    "        return fitness_hist[name]\n",
    "\n",
    "\n",
    "    input = keras.Input(shape=(n_features), name=\"input\")\n",
    "    \n",
    "    x = keras.layers.Dense(units[0], activation=\"relu\", kernel_regularizer=keras.regularizers.l2(reg[0]))(input)\n",
    "    x = tf.keras.layers.Dropout(reg[2])(x)\n",
    "    \n",
    "    x = keras.layers.Dense(units[1], activation=\"relu\", kernel_regularizer=keras.regularizers.l2(reg[1]))(x)\n",
    "    x = tf.keras.layers.Dropout(reg[3])(x)\n",
    "\n",
    "    out = keras.layers.Dense(1, activation=\"relu\")(x)\n",
    "\n",
    "    model = keras.Model(inputs=[input], outputs=[out])\n",
    "\n",
    "    manager.register_model(model, model_name,  arch_name)\n",
    "    manager.compile_fit_save(optimizer=keras.optimizers.Adam(), epochs=60, batch_size=int(BATCH_SIZE/7), group=\"ag_optimize_both2\", verbose=0)\n",
    "\n",
    "    fitness = np.mean(manager._hist[model_name].history[\"val_mean_squared_error\"][-10:])\n",
    "    fitness = 1.0/fitness\n",
    "\n",
    "    fitness_hist[name] = fitness\n",
    "\n",
    "    return fitness\n"
   ]
  },
  {
   "cell_type": "code",
   "execution_count": null,
   "metadata": {},
   "outputs": [],
   "source": [
    "ag = AG(20, 1, 0.1, cross_over=one_point, dtype=np.float64)\n",
    "ag.optimize(optimize_both, 6, 1, 0, 12)\n",
    "log_ag(\"ag_larger_both2\",  ag, 6, 1, 0, 12)"
   ]
  },
  {
   "cell_type": "code",
   "execution_count": null,
   "metadata": {},
   "outputs": [],
   "source": [
    "log_ag(\"ag_larger_both2\",  ag, 6, 1, 0, 12)"
   ]
  },
  {
   "cell_type": "markdown",
   "metadata": {},
   "source": [
    "Como tivemos que parar a otimização no meio do processo, por risco de danificar o computador durante uma tempestade, serializamos e salvamos o AG."
   ]
  },
  {
   "cell_type": "code",
   "execution_count": null,
   "metadata": {},
   "outputs": [],
   "source": [
    "file = open(\"ag_backup\", 'wb')\n",
    "pickle.dump(ag, file)\n",
    "file.close()"
   ]
  },
  {
   "cell_type": "code",
   "execution_count": null,
   "metadata": {},
   "outputs": [],
   "source": [
    "file = open(\"ag_backup\", 'rb')\n",
    "ag = pickle.load(file)\n",
    "file.close()"
   ]
  },
  {
   "cell_type": "markdown",
   "metadata": {},
   "source": [
    "Criamos uma função para continuar o processo de evolução"
   ]
  },
  {
   "cell_type": "code",
   "execution_count": null,
   "metadata": {},
   "outputs": [],
   "source": [
    "def continue_optimize(self, fitness_function, n_generation):\n",
    "    stopped_generation = self.current_generation\n",
    "\n",
    "    for i in range(stopped_generation, n_generation):\n",
    "        print(\"Iniciando geração\", i)\n",
    "        for j in range(self.population_size):\n",
    "            self.fitness_scores[j] = fitness_function(self.population[j])\n",
    "\n",
    "        self.population = self.new_population()\n",
    "\n",
    "        self.mutation_range_hist[self.current_generation] = self.mutation_range\n",
    "        self.mutation_rate_hist[self.current_generation] = self.mutation_rate\n",
    "\n",
    "        if i > 0:\n",
    "            if(abs(self.fitness_best_hist[i] - self.fitness_best_hist[i-1]) < 1E-4):\n",
    "                self.stopped_count += 1\n",
    "            else:\n",
    "                self.stopped_count = 0\n",
    "        \n",
    "        self.current_generation += 1\n",
    "\n",
    "        if self.stopped_count > self.mutation_patience:\n",
    "            # Para -> Refina -> Para -> Explora -> Reset\n",
    "            if (self.exploration_count > self.exploration_patience and \n",
    "                self.refinement_count > self.refinement_patience):\n",
    "                #Reset\n",
    "                    self.mutation_rate = self.initial_mutation_rate\n",
    "                    self.mutation_range = self.initial_mutation_range\n",
    "\n",
    "                    self.refinement_count = 0\n",
    "                    self.exploration_count = 0\n",
    "                    \n",
    "            elif self.refinement_count > self.refinement_patience:\n",
    "                if self.exploration_count == 0:\n",
    "                    # 1ª iteração de exploração\n",
    "                    self.mutation_rate = self.initial_mutation_rate\n",
    "                    self.mutation_range = self.initial_mutation_range\n",
    "                \n",
    "                #Exploração \n",
    "                if self.dynamic_rate:\n",
    "                    self.mutation_rate *= 2.0\n",
    "                if self.dynamic_range:\n",
    "                    self.mutation_range *= 2.0\n",
    "\n",
    "                self.exploration_count += 1\n",
    "                self.generation_type[self.current_generation] = 1\n",
    "            \n",
    "            else:\n",
    "                #Refinamento\n",
    "                if self.dynamic_rate:\n",
    "                    self.mutation_rate /= 2.0\n",
    "                if self.dynamic_range:\n",
    "                    self.mutation_range /= 2.0\n",
    "                \n",
    "                self.refinement_count += 1\n",
    "\n",
    "                self.generation_type[self.current_generation] = -1\n",
    "\n",
    "            self.stopped_count = 0"
   ]
  },
  {
   "cell_type": "code",
   "execution_count": null,
   "metadata": {},
   "outputs": [],
   "source": [
    "import types\n",
    "\n",
    "ag.continue_optimize = types.MethodType(continue_optimize, ag)"
   ]
  },
  {
   "cell_type": "markdown",
   "metadata": {},
   "source": [
    "E terminamos a otimização"
   ]
  },
  {
   "cell_type": "code",
   "execution_count": null,
   "metadata": {},
   "outputs": [],
   "source": [
    "ag.continue_optimize(optimize_both, 12)"
   ]
  },
  {
   "cell_type": "code",
   "execution_count": null,
   "metadata": {},
   "outputs": [],
   "source": [
    "log_ag(\"ag_larger_both3\",  ag, 6, 1, 0, 12)"
   ]
  },
  {
   "cell_type": "markdown",
   "metadata": {},
   "source": [
    "### Conclusão\n",
    "\n",
    "O AG conseguiu gerar resultados interessantes, porém não chegou ao melhor resultado que tínhamos conseguido alterando manualmente os parâmetros. Talvez utilizar outros parâmetros para o AG, ou treinar por mais gerações, poderia resolver o problema.\n",
    "\n",
    "Como não tínhamos tempo para isso, e não é o objetivo desse trabalho gerar o modelo mais otimizado de todos, decidimos parar a hiperotimização com os resultados que já tivemos."
   ]
  },
  {
   "cell_type": "markdown",
   "metadata": {},
   "source": [
    "## Treino dos melhores\n",
    "\n",
    "Por fim, treinamos os melhores algoritmos por mais epochs, com parada antecipada. Os modelos não treinaram muito mais que já haviam sido treinados anteriormente."
   ]
  },
  {
   "cell_type": "markdown",
   "metadata": {},
   "source": [
    "### ag_best\n",
    "\n",
    "Melhor modelo selecionado pelo AG."
   ]
  },
  {
   "cell_type": "code",
   "execution_count": null,
   "metadata": {},
   "outputs": [
    {
     "data": {
      "text/plain": [
       "array([0.08171292, 0.83180579, 0.33090176, 0.00938583, 0.51035982,\n",
       "       0.63681597])"
      ]
     },
     "execution_count": 59,
     "metadata": {},
     "output_type": "execute_result"
    }
   ],
   "source": [
    "ag.individual_best_hist[-1]"
   ]
  },
  {
   "cell_type": "code",
   "execution_count": null,
   "metadata": {},
   "outputs": [
    {
     "name": "stdout",
     "output_type": "stream",
     "text": [
      "Unidades: 255 1680\n",
      "Regularização L2: 0.3309 0.00939\n",
      "Dropout: 0.51036 0.63682\n"
     ]
    }
   ],
   "source": [
    "def print_best(individual:np.ndarray):\n",
    "    individual = np.round(individual, decimals=5)\n",
    "    individual = np.clip(individual, 0.0, 1.0)\n",
    "\n",
    "    units = individual[:2]\n",
    "    reg = individual[2:]\n",
    "\n",
    "    reg = np.clip(reg, 0.0, 0.99999)\n",
    "\n",
    "    units *= 1900\n",
    "    units += 100\n",
    "    units = units.astype(int)\n",
    "\n",
    "    print(\"Unidades:\",units[0], units[1])\n",
    "    print(\"Regularização L2:\", reg[0], reg[1])\n",
    "    print(\"Dropout:\", reg[2], reg[3])\n",
    "\n",
    "print_best(ag.individual_best_hist[-1]) "
   ]
  },
  {
   "cell_type": "code",
   "execution_count": null,
   "metadata": {},
   "outputs": [],
   "source": [
    "def create_ag_best():\n",
    "    input = keras.Input(shape=(n_features), name=\"input\")\n",
    "    \n",
    "    x = keras.layers.Dense(255, activation=\"relu\", kernel_regularizer=keras.regularizers.l2(0.3309))(input)\n",
    "    x = tf.keras.layers.Dropout(0.51036)(x)\n",
    "    \n",
    "    x = keras.layers.Dense(1680, activation=\"relu\", kernel_regularizer=keras.regularizers.l2(0.00939))(x)\n",
    "    x = tf.keras.layers.Dropout(0.63682)(x)\n",
    "\n",
    "    out = keras.layers.Dense(1, activation=\"relu\")(x)\n",
    "\n",
    "    model = keras.Model(inputs=[input], outputs=[out])\n",
    "\n",
    "    return model"
   ]
  },
  {
   "cell_type": "code",
   "execution_count": null,
   "metadata": {},
   "outputs": [
    {
     "data": {
      "text/html": [
       "\n",
       "                    Syncing run <strong><a href=\"https://wandb.ai/breath/BReATH/runs/233999x1\" target=\"_blank\">sandy-capybara-505</a></strong> to <a href=\"https://wandb.ai/breath/BReATH\" target=\"_blank\">Weights & Biases</a> (<a href=\"https://docs.wandb.com/integrations/jupyter.html\" target=\"_blank\">docs</a>).<br/>\n",
       "\n",
       "                "
      ],
      "text/plain": [
       "<IPython.core.display.HTML object>"
      ]
     },
     "metadata": {},
     "output_type": "display_data"
    },
    {
     "name": "stdout",
     "output_type": "stream",
     "text": [
      "Epoch 1/1000\n",
      "22/22 [==============================] - 3s 33ms/step - loss: 13.8653 - mean_absolute_error: 0.3459 - mean_squared_error: 5.4861 - val_loss: 21.1583 - val_mean_absolute_error: 0.4982 - val_mean_squared_error: 15.0168\n",
      "Epoch 2/1000\n",
      "22/22 [==============================] - 0s 21ms/step - loss: 9.7514 - mean_absolute_error: 0.2927 - mean_squared_error: 4.9348 - val_loss: 20.0301 - val_mean_absolute_error: 0.5187 - val_mean_squared_error: 16.4139\n",
      "Epoch 3/1000\n",
      "22/22 [==============================] - 0s 21ms/step - loss: 7.8064 - mean_absolute_error: 0.2745 - mean_squared_error: 4.8766 - val_loss: 16.4926 - val_mean_absolute_error: 0.4623 - val_mean_squared_error: 14.2075\n",
      "Epoch 4/1000\n",
      "22/22 [==============================] - 0s 21ms/step - loss: 6.7065 - mean_absolute_error: 0.2732 - mean_squared_error: 4.8158 - val_loss: 17.8614 - val_mean_absolute_error: 0.5267 - val_mean_squared_error: 16.3386\n",
      "Epoch 5/1000\n",
      "22/22 [==============================] - 0s 21ms/step - loss: 6.0625 - mean_absolute_error: 0.2703 - mean_squared_error: 4.7664 - val_loss: 15.9549 - val_mean_absolute_error: 0.4897 - val_mean_squared_error: 14.8767\n",
      "Epoch 6/1000\n",
      "22/22 [==============================] - 0s 20ms/step - loss: 5.7065 - mean_absolute_error: 0.2713 - mean_squared_error: 4.7658 - val_loss: 16.1855 - val_mean_absolute_error: 0.5011 - val_mean_squared_error: 15.3716\n",
      "Epoch 7/1000\n",
      "22/22 [==============================] - 0s 21ms/step - loss: 5.5187 - mean_absolute_error: 0.2654 - mean_squared_error: 4.7812 - val_loss: 15.2057 - val_mean_absolute_error: 0.4773 - val_mean_squared_error: 14.5592\n",
      "Epoch 8/1000\n",
      "22/22 [==============================] - 0s 22ms/step - loss: 5.3091 - mean_absolute_error: 0.2654 - mean_squared_error: 4.7275 - val_loss: 15.9688 - val_mean_absolute_error: 0.5062 - val_mean_squared_error: 15.4311\n",
      "Epoch 9/1000\n",
      "22/22 [==============================] - 0s 22ms/step - loss: 5.2727 - mean_absolute_error: 0.2707 - mean_squared_error: 4.7573 - val_loss: 15.3260 - val_mean_absolute_error: 0.4885 - val_mean_squared_error: 14.8348\n",
      "Epoch 10/1000\n",
      "22/22 [==============================] - 0s 21ms/step - loss: 5.1591 - mean_absolute_error: 0.2682 - mean_squared_error: 4.6914 - val_loss: 14.1550 - val_mean_absolute_error: 0.4752 - val_mean_squared_error: 13.7181\n",
      "Epoch 11/1000\n",
      "22/22 [==============================] - 0s 22ms/step - loss: 5.1583 - mean_absolute_error: 0.2775 - mean_squared_error: 4.7268 - val_loss: 15.2859 - val_mean_absolute_error: 0.4948 - val_mean_squared_error: 14.8662\n",
      "Epoch 12/1000\n",
      "22/22 [==============================] - 0s 22ms/step - loss: 5.1076 - mean_absolute_error: 0.2705 - mean_squared_error: 4.6915 - val_loss: 14.1441 - val_mean_absolute_error: 0.4600 - val_mean_squared_error: 13.7413\n",
      "Epoch 13/1000\n",
      "22/22 [==============================] - 0s 22ms/step - loss: 5.0909 - mean_absolute_error: 0.2801 - mean_squared_error: 4.7092 - val_loss: 14.8508 - val_mean_absolute_error: 0.4818 - val_mean_squared_error: 14.4672\n",
      "Epoch 14/1000\n",
      "22/22 [==============================] - 0s 22ms/step - loss: 5.0507 - mean_absolute_error: 0.2761 - mean_squared_error: 4.6745 - val_loss: 14.1084 - val_mean_absolute_error: 0.4684 - val_mean_squared_error: 13.7317\n",
      "Epoch 15/1000\n",
      "22/22 [==============================] - 0s 21ms/step - loss: 5.0122 - mean_absolute_error: 0.2803 - mean_squared_error: 4.6391 - val_loss: 14.2588 - val_mean_absolute_error: 0.4751 - val_mean_squared_error: 13.8890\n",
      "Epoch 16/1000\n",
      "22/22 [==============================] - 0s 21ms/step - loss: 4.9882 - mean_absolute_error: 0.2793 - mean_squared_error: 4.6206 - val_loss: 15.0596 - val_mean_absolute_error: 0.4896 - val_mean_squared_error: 14.6921\n",
      "Epoch 17/1000\n",
      "22/22 [==============================] - 0s 21ms/step - loss: 5.0066 - mean_absolute_error: 0.2790 - mean_squared_error: 4.6401 - val_loss: 14.6628 - val_mean_absolute_error: 0.4736 - val_mean_squared_error: 14.2899\n",
      "Epoch 18/1000\n",
      "22/22 [==============================] - 0s 21ms/step - loss: 4.9793 - mean_absolute_error: 0.2787 - mean_squared_error: 4.6162 - val_loss: 15.0108 - val_mean_absolute_error: 0.4845 - val_mean_squared_error: 14.6454\n",
      "Epoch 19/1000\n",
      "22/22 [==============================] - 0s 21ms/step - loss: 4.9508 - mean_absolute_error: 0.2779 - mean_squared_error: 4.5897 - val_loss: 14.7365 - val_mean_absolute_error: 0.4851 - val_mean_squared_error: 14.3781\n",
      "Epoch 20/1000\n",
      "22/22 [==============================] - 0s 20ms/step - loss: 4.9899 - mean_absolute_error: 0.2777 - mean_squared_error: 4.6225 - val_loss: 14.9415 - val_mean_absolute_error: 0.4922 - val_mean_squared_error: 14.5873\n",
      "Epoch 21/1000\n",
      "22/22 [==============================] - 0s 21ms/step - loss: 4.9027 - mean_absolute_error: 0.2776 - mean_squared_error: 4.5438 - val_loss: 14.4485 - val_mean_absolute_error: 0.4692 - val_mean_squared_error: 14.0914\n",
      "Epoch 22/1000\n",
      "22/22 [==============================] - 0s 22ms/step - loss: 4.9294 - mean_absolute_error: 0.2771 - mean_squared_error: 4.5757 - val_loss: 14.6336 - val_mean_absolute_error: 0.4805 - val_mean_squared_error: 14.2818\n",
      "Epoch 23/1000\n",
      "22/22 [==============================] - 0s 23ms/step - loss: 4.9261 - mean_absolute_error: 0.2786 - mean_squared_error: 4.5697 - val_loss: 15.3389 - val_mean_absolute_error: 0.4947 - val_mean_squared_error: 14.9834\n",
      "Epoch 24/1000\n",
      "22/22 [==============================] - 0s 22ms/step - loss: 4.9038 - mean_absolute_error: 0.2774 - mean_squared_error: 4.5510 - val_loss: 14.6160 - val_mean_absolute_error: 0.4830 - val_mean_squared_error: 14.2657\n",
      "Epoch 25/1000\n",
      "22/22 [==============================] - 0s 21ms/step - loss: 4.8869 - mean_absolute_error: 0.2783 - mean_squared_error: 4.5248 - val_loss: 14.0886 - val_mean_absolute_error: 0.4634 - val_mean_squared_error: 13.7152\n",
      "Epoch 26/1000\n",
      "22/22 [==============================] - 0s 21ms/step - loss: 4.9124 - mean_absolute_error: 0.2774 - mean_squared_error: 4.5466 - val_loss: 14.0564 - val_mean_absolute_error: 0.4798 - val_mean_squared_error: 13.7030\n",
      "Epoch 27/1000\n",
      "22/22 [==============================] - 0s 22ms/step - loss: 4.8988 - mean_absolute_error: 0.2769 - mean_squared_error: 4.5435 - val_loss: 14.1772 - val_mean_absolute_error: 0.4690 - val_mean_squared_error: 13.8222\n",
      "Epoch 28/1000\n",
      "22/22 [==============================] - 0s 21ms/step - loss: 4.8361 - mean_absolute_error: 0.2786 - mean_squared_error: 4.4773 - val_loss: 14.5432 - val_mean_absolute_error: 0.4753 - val_mean_squared_error: 14.1781\n",
      "Epoch 29/1000\n",
      "22/22 [==============================] - 0s 21ms/step - loss: 4.8633 - mean_absolute_error: 0.2785 - mean_squared_error: 4.5141 - val_loss: 14.5039 - val_mean_absolute_error: 0.4924 - val_mean_squared_error: 14.1557\n",
      "Epoch 30/1000\n",
      "22/22 [==============================] - 0s 21ms/step - loss: 4.8431 - mean_absolute_error: 0.2752 - mean_squared_error: 4.4719 - val_loss: 13.4316 - val_mean_absolute_error: 0.4527 - val_mean_squared_error: 13.0473\n",
      "Epoch 31/1000\n",
      "22/22 [==============================] - 0s 21ms/step - loss: 4.8444 - mean_absolute_error: 0.2780 - mean_squared_error: 4.4676 - val_loss: 13.4536 - val_mean_absolute_error: 0.4625 - val_mean_squared_error: 13.0828\n",
      "Epoch 32/1000\n",
      "22/22 [==============================] - 0s 21ms/step - loss: 4.8331 - mean_absolute_error: 0.2780 - mean_squared_error: 4.4641 - val_loss: 15.2466 - val_mean_absolute_error: 0.5134 - val_mean_squared_error: 14.8705\n",
      "Epoch 33/1000\n",
      "22/22 [==============================] - 0s 22ms/step - loss: 4.8251 - mean_absolute_error: 0.2810 - mean_squared_error: 4.4541 - val_loss: 13.1350 - val_mean_absolute_error: 0.4548 - val_mean_squared_error: 12.7751\n",
      "Epoch 34/1000\n",
      "22/22 [==============================] - 0s 22ms/step - loss: 4.8055 - mean_absolute_error: 0.2764 - mean_squared_error: 4.4372 - val_loss: 13.3811 - val_mean_absolute_error: 0.4491 - val_mean_squared_error: 13.0027\n",
      "Epoch 35/1000\n",
      "22/22 [==============================] - 0s 21ms/step - loss: 4.8155 - mean_absolute_error: 0.2791 - mean_squared_error: 4.4461 - val_loss: 14.6058 - val_mean_absolute_error: 0.4790 - val_mean_squared_error: 14.2375\n",
      "Epoch 36/1000\n",
      "22/22 [==============================] - 0s 21ms/step - loss: 4.8259 - mean_absolute_error: 0.2798 - mean_squared_error: 4.4498 - val_loss: 12.6577 - val_mean_absolute_error: 0.4328 - val_mean_squared_error: 12.2907\n",
      "Epoch 37/1000\n",
      "22/22 [==============================] - 0s 21ms/step - loss: 4.7962 - mean_absolute_error: 0.2794 - mean_squared_error: 4.4253 - val_loss: 12.2335 - val_mean_absolute_error: 0.4209 - val_mean_squared_error: 11.8689\n",
      "Epoch 38/1000\n",
      "22/22 [==============================] - 0s 20ms/step - loss: 4.7855 - mean_absolute_error: 0.2780 - mean_squared_error: 4.4183 - val_loss: 12.5133 - val_mean_absolute_error: 0.4305 - val_mean_squared_error: 12.1405\n",
      "Epoch 39/1000\n",
      "22/22 [==============================] - 0s 22ms/step - loss: 4.7636 - mean_absolute_error: 0.2761 - mean_squared_error: 4.3832 - val_loss: 12.7462 - val_mean_absolute_error: 0.4403 - val_mean_squared_error: 12.3626\n",
      "Epoch 40/1000\n",
      "22/22 [==============================] - 0s 22ms/step - loss: 4.7171 - mean_absolute_error: 0.2780 - mean_squared_error: 4.3384 - val_loss: 12.8178 - val_mean_absolute_error: 0.4400 - val_mean_squared_error: 12.4342\n",
      "Epoch 41/1000\n",
      "22/22 [==============================] - 0s 22ms/step - loss: 4.7352 - mean_absolute_error: 0.2791 - mean_squared_error: 4.3549 - val_loss: 12.3344 - val_mean_absolute_error: 0.4194 - val_mean_squared_error: 11.9515\n",
      "Epoch 42/1000\n",
      "22/22 [==============================] - 0s 22ms/step - loss: 4.7858 - mean_absolute_error: 0.2738 - mean_squared_error: 4.4055 - val_loss: 12.0916 - val_mean_absolute_error: 0.4419 - val_mean_squared_error: 11.7087\n",
      "Epoch 43/1000\n",
      "22/22 [==============================] - 0s 21ms/step - loss: 4.7136 - mean_absolute_error: 0.2746 - mean_squared_error: 4.3282 - val_loss: 12.6497 - val_mean_absolute_error: 0.4560 - val_mean_squared_error: 12.2664\n",
      "Epoch 44/1000\n",
      "22/22 [==============================] - 0s 21ms/step - loss: 4.6837 - mean_absolute_error: 0.2768 - mean_squared_error: 4.2989 - val_loss: 13.4489 - val_mean_absolute_error: 0.4837 - val_mean_squared_error: 13.0526\n",
      "Epoch 45/1000\n",
      "22/22 [==============================] - 0s 21ms/step - loss: 4.7126 - mean_absolute_error: 0.2772 - mean_squared_error: 4.3083 - val_loss: 11.7140 - val_mean_absolute_error: 0.4117 - val_mean_squared_error: 11.3189\n",
      "Epoch 46/1000\n",
      "22/22 [==============================] - 0s 21ms/step - loss: 4.6828 - mean_absolute_error: 0.2769 - mean_squared_error: 4.2999 - val_loss: 11.8364 - val_mean_absolute_error: 0.4053 - val_mean_squared_error: 11.4430\n",
      "Epoch 47/1000\n",
      "22/22 [==============================] - 0s 22ms/step - loss: 4.7371 - mean_absolute_error: 0.2757 - mean_squared_error: 4.3391 - val_loss: 12.6864 - val_mean_absolute_error: 0.4625 - val_mean_squared_error: 12.2952\n",
      "Epoch 48/1000\n",
      "22/22 [==============================] - 0s 21ms/step - loss: 4.7226 - mean_absolute_error: 0.2730 - mean_squared_error: 4.3259 - val_loss: 11.4873 - val_mean_absolute_error: 0.3950 - val_mean_squared_error: 11.0911\n",
      "Epoch 49/1000\n",
      "22/22 [==============================] - 0s 22ms/step - loss: 4.6986 - mean_absolute_error: 0.2756 - mean_squared_error: 4.2984 - val_loss: 11.3968 - val_mean_absolute_error: 0.4053 - val_mean_squared_error: 10.9892\n",
      "Epoch 50/1000\n",
      "22/22 [==============================] - 0s 21ms/step - loss: 4.6962 - mean_absolute_error: 0.2779 - mean_squared_error: 4.2970 - val_loss: 11.3748 - val_mean_absolute_error: 0.3870 - val_mean_squared_error: 10.9872\n",
      "Epoch 51/1000\n",
      "22/22 [==============================] - 0s 20ms/step - loss: 4.6486 - mean_absolute_error: 0.2733 - mean_squared_error: 4.2548 - val_loss: 11.2311 - val_mean_absolute_error: 0.4064 - val_mean_squared_error: 10.8303\n",
      "Epoch 52/1000\n",
      "22/22 [==============================] - 0s 20ms/step - loss: 4.6693 - mean_absolute_error: 0.2772 - mean_squared_error: 4.2701 - val_loss: 11.5159 - val_mean_absolute_error: 0.3799 - val_mean_squared_error: 11.1149\n",
      "Epoch 53/1000\n",
      "22/22 [==============================] - 0s 20ms/step - loss: 4.7348 - mean_absolute_error: 0.2760 - mean_squared_error: 4.3264 - val_loss: 11.2866 - val_mean_absolute_error: 0.3782 - val_mean_squared_error: 10.9018\n",
      "Epoch 54/1000\n",
      "22/22 [==============================] - 0s 21ms/step - loss: 4.6405 - mean_absolute_error: 0.2741 - mean_squared_error: 4.2427 - val_loss: 11.0784 - val_mean_absolute_error: 0.3926 - val_mean_squared_error: 10.6860\n",
      "Epoch 55/1000\n",
      "22/22 [==============================] - 0s 20ms/step - loss: 4.6023 - mean_absolute_error: 0.2742 - mean_squared_error: 4.2140 - val_loss: 11.1160 - val_mean_absolute_error: 0.3879 - val_mean_squared_error: 10.7256\n",
      "Epoch 56/1000\n",
      "22/22 [==============================] - 0s 20ms/step - loss: 4.6017 - mean_absolute_error: 0.2754 - mean_squared_error: 4.1978 - val_loss: 10.8268 - val_mean_absolute_error: 0.3831 - val_mean_squared_error: 10.4317\n",
      "Epoch 57/1000\n",
      "22/22 [==============================] - 0s 20ms/step - loss: 4.6249 - mean_absolute_error: 0.2739 - mean_squared_error: 4.2209 - val_loss: 10.9720 - val_mean_absolute_error: 0.3846 - val_mean_squared_error: 10.5729\n",
      "Epoch 58/1000\n",
      "22/22 [==============================] - 0s 20ms/step - loss: 4.5785 - mean_absolute_error: 0.2760 - mean_squared_error: 4.1781 - val_loss: 10.8599 - val_mean_absolute_error: 0.3884 - val_mean_squared_error: 10.4759\n",
      "Epoch 59/1000\n",
      "22/22 [==============================] - 0s 21ms/step - loss: 4.5659 - mean_absolute_error: 0.2734 - mean_squared_error: 4.1671 - val_loss: 10.7524 - val_mean_absolute_error: 0.3799 - val_mean_squared_error: 10.3524\n",
      "Epoch 60/1000\n",
      "22/22 [==============================] - 0s 21ms/step - loss: 4.5965 - mean_absolute_error: 0.2768 - mean_squared_error: 4.2120 - val_loss: 11.5010 - val_mean_absolute_error: 0.3911 - val_mean_squared_error: 11.1078\n",
      "Epoch 61/1000\n",
      "22/22 [==============================] - 0s 21ms/step - loss: 4.5116 - mean_absolute_error: 0.2755 - mean_squared_error: 4.1149 - val_loss: 11.3839 - val_mean_absolute_error: 0.3664 - val_mean_squared_error: 10.9811\n",
      "Epoch 62/1000\n",
      "22/22 [==============================] - 0s 20ms/step - loss: 4.6217 - mean_absolute_error: 0.2710 - mean_squared_error: 4.2071 - val_loss: 11.1084 - val_mean_absolute_error: 0.3650 - val_mean_squared_error: 10.7090\n",
      "Epoch 63/1000\n",
      "22/22 [==============================] - 0s 21ms/step - loss: 4.5168 - mean_absolute_error: 0.2740 - mean_squared_error: 4.1219 - val_loss: 11.8075 - val_mean_absolute_error: 0.3809 - val_mean_squared_error: 11.4102\n",
      "Epoch 64/1000\n",
      "22/22 [==============================] - 0s 21ms/step - loss: 4.4869 - mean_absolute_error: 0.2706 - mean_squared_error: 4.0906 - val_loss: 11.8587 - val_mean_absolute_error: 0.4180 - val_mean_squared_error: 11.4458\n",
      "Epoch 65/1000\n",
      "22/22 [==============================] - 0s 21ms/step - loss: 4.5382 - mean_absolute_error: 0.2743 - mean_squared_error: 4.1275 - val_loss: 11.0235 - val_mean_absolute_error: 0.3684 - val_mean_squared_error: 10.6178\n",
      "Epoch 66/1000\n",
      "22/22 [==============================] - 0s 20ms/step - loss: 4.4909 - mean_absolute_error: 0.2719 - mean_squared_error: 4.0900 - val_loss: 11.5511 - val_mean_absolute_error: 0.3751 - val_mean_squared_error: 11.1547\n",
      "Epoch 67/1000\n",
      "22/22 [==============================] - 0s 22ms/step - loss: 4.4747 - mean_absolute_error: 0.2726 - mean_squared_error: 4.0724 - val_loss: 11.6613 - val_mean_absolute_error: 0.3809 - val_mean_squared_error: 11.2561\n",
      "Epoch 68/1000\n",
      "22/22 [==============================] - 0s 22ms/step - loss: 4.4766 - mean_absolute_error: 0.2691 - mean_squared_error: 4.0607 - val_loss: 12.2580 - val_mean_absolute_error: 0.3989 - val_mean_squared_error: 11.8450\n",
      "Epoch 69/1000\n",
      "22/22 [==============================] - 0s 22ms/step - loss: 4.4130 - mean_absolute_error: 0.2723 - mean_squared_error: 4.0073 - val_loss: 12.2356 - val_mean_absolute_error: 0.3902 - val_mean_squared_error: 11.8214\n",
      "Epoch 70/1000\n",
      "22/22 [==============================] - 0s 22ms/step - loss: 4.4494 - mean_absolute_error: 0.2715 - mean_squared_error: 4.0516 - val_loss: 12.1143 - val_mean_absolute_error: 0.3765 - val_mean_squared_error: 11.7187\n",
      "Epoch 71/1000\n",
      "22/22 [==============================] - 0s 21ms/step - loss: 4.4585 - mean_absolute_error: 0.2697 - mean_squared_error: 4.0621 - val_loss: 11.5244 - val_mean_absolute_error: 0.3754 - val_mean_squared_error: 11.1383\n",
      "Epoch 72/1000\n",
      "22/22 [==============================] - 0s 21ms/step - loss: 4.4269 - mean_absolute_error: 0.2695 - mean_squared_error: 4.0274 - val_loss: 12.6081 - val_mean_absolute_error: 0.3900 - val_mean_squared_error: 12.2088\n",
      "Epoch 73/1000\n",
      "22/22 [==============================] - 0s 21ms/step - loss: 4.4265 - mean_absolute_error: 0.2702 - mean_squared_error: 4.0390 - val_loss: 11.7506 - val_mean_absolute_error: 0.3743 - val_mean_squared_error: 11.3567\n",
      "Epoch 74/1000\n",
      "22/22 [==============================] - 0s 20ms/step - loss: 4.3896 - mean_absolute_error: 0.2680 - mean_squared_error: 3.9808 - val_loss: 12.3645 - val_mean_absolute_error: 0.3911 - val_mean_squared_error: 11.9542\n",
      "Epoch 75/1000\n",
      "22/22 [==============================] - 0s 21ms/step - loss: 4.4686 - mean_absolute_error: 0.2684 - mean_squared_error: 4.0637 - val_loss: 11.8411 - val_mean_absolute_error: 0.4019 - val_mean_squared_error: 11.4523\n",
      "Epoch 76/1000\n",
      "22/22 [==============================] - 0s 21ms/step - loss: 4.3908 - mean_absolute_error: 0.2661 - mean_squared_error: 3.9911 - val_loss: 11.7868 - val_mean_absolute_error: 0.3887 - val_mean_squared_error: 11.3817\n",
      "Epoch 77/1000\n",
      "22/22 [==============================] - 0s 21ms/step - loss: 4.3999 - mean_absolute_error: 0.2682 - mean_squared_error: 4.0023 - val_loss: 12.4469 - val_mean_absolute_error: 0.4131 - val_mean_squared_error: 12.0567\n",
      "Epoch 78/1000\n",
      "22/22 [==============================] - 0s 22ms/step - loss: 4.3298 - mean_absolute_error: 0.2674 - mean_squared_error: 3.9337 - val_loss: 12.0390 - val_mean_absolute_error: 0.3933 - val_mean_squared_error: 11.6450\n",
      "Epoch 79/1000\n",
      "22/22 [==============================] - 0s 21ms/step - loss: 4.3671 - mean_absolute_error: 0.2685 - mean_squared_error: 3.9656 - val_loss: 12.1919 - val_mean_absolute_error: 0.4088 - val_mean_squared_error: 11.7943\n",
      "Epoch 80/1000\n",
      "22/22 [==============================] - 0s 21ms/step - loss: 4.3440 - mean_absolute_error: 0.2705 - mean_squared_error: 3.9515 - val_loss: 11.8754 - val_mean_absolute_error: 0.3882 - val_mean_squared_error: 11.4888\n",
      "Epoch 81/1000\n",
      "22/22 [==============================] - 0s 21ms/step - loss: 4.3834 - mean_absolute_error: 0.2697 - mean_squared_error: 3.9788 - val_loss: 12.4824 - val_mean_absolute_error: 0.3968 - val_mean_squared_error: 12.0791\n",
      "Epoch 82/1000\n",
      "22/22 [==============================] - 0s 21ms/step - loss: 4.3206 - mean_absolute_error: 0.2681 - mean_squared_error: 3.9263 - val_loss: 12.4961 - val_mean_absolute_error: 0.3984 - val_mean_squared_error: 12.1108\n",
      "Epoch 83/1000\n",
      "22/22 [==============================] - 0s 21ms/step - loss: 4.3346 - mean_absolute_error: 0.2681 - mean_squared_error: 3.9422 - val_loss: 12.8114 - val_mean_absolute_error: 0.4040 - val_mean_squared_error: 12.4062\n",
      "Epoch 84/1000\n",
      "22/22 [==============================] - 0s 21ms/step - loss: 4.3641 - mean_absolute_error: 0.2696 - mean_squared_error: 3.9680 - val_loss: 12.3093 - val_mean_absolute_error: 0.3946 - val_mean_squared_error: 11.9161\n",
      "Epoch 85/1000\n",
      "22/22 [==============================] - 0s 21ms/step - loss: 4.3439 - mean_absolute_error: 0.2658 - mean_squared_error: 3.9481 - val_loss: 12.3426 - val_mean_absolute_error: 0.3978 - val_mean_squared_error: 11.9546\n",
      "Epoch 86/1000\n",
      "22/22 [==============================] - 0s 21ms/step - loss: 4.3440 - mean_absolute_error: 0.2701 - mean_squared_error: 3.9711 - val_loss: 12.4897 - val_mean_absolute_error: 0.4017 - val_mean_squared_error: 12.1154\n",
      "Epoch 87/1000\n",
      "22/22 [==============================] - 0s 21ms/step - loss: 4.3339 - mean_absolute_error: 0.2639 - mean_squared_error: 3.9432 - val_loss: 12.9296 - val_mean_absolute_error: 0.4257 - val_mean_squared_error: 12.5298\n",
      "Epoch 88/1000\n",
      "22/22 [==============================] - 0s 21ms/step - loss: 4.2914 - mean_absolute_error: 0.2670 - mean_squared_error: 3.9089 - val_loss: 12.2364 - val_mean_absolute_error: 0.4003 - val_mean_squared_error: 11.8568\n",
      "Epoch 89/1000\n",
      "22/22 [==============================] - 0s 21ms/step - loss: 4.3386 - mean_absolute_error: 0.2665 - mean_squared_error: 3.9316 - val_loss: 12.9008 - val_mean_absolute_error: 0.4004 - val_mean_squared_error: 12.4921\n",
      "Epoch 90/1000\n",
      "22/22 [==============================] - 0s 21ms/step - loss: 4.2781 - mean_absolute_error: 0.2650 - mean_squared_error: 3.8844 - val_loss: 13.0845 - val_mean_absolute_error: 0.4120 - val_mean_squared_error: 12.6934\n",
      "Epoch 91/1000\n",
      "22/22 [==============================] - 0s 21ms/step - loss: 4.2596 - mean_absolute_error: 0.2656 - mean_squared_error: 3.8736 - val_loss: 13.0288 - val_mean_absolute_error: 0.4085 - val_mean_squared_error: 12.6415\n",
      "Epoch 92/1000\n",
      "22/22 [==============================] - 0s 21ms/step - loss: 4.2653 - mean_absolute_error: 0.2640 - mean_squared_error: 3.8738 - val_loss: 12.9624 - val_mean_absolute_error: 0.4025 - val_mean_squared_error: 12.5658\n",
      "Epoch 93/1000\n",
      "22/22 [==============================] - 0s 21ms/step - loss: 4.2889 - mean_absolute_error: 0.2648 - mean_squared_error: 3.9009 - val_loss: 13.0929 - val_mean_absolute_error: 0.4249 - val_mean_squared_error: 12.7139\n",
      "Epoch 94/1000\n",
      "22/22 [==============================] - 0s 21ms/step - loss: 4.2712 - mean_absolute_error: 0.2654 - mean_squared_error: 3.8868 - val_loss: 12.3502 - val_mean_absolute_error: 0.4032 - val_mean_squared_error: 11.9702\n",
      "Epoch 95/1000\n",
      "22/22 [==============================] - 0s 22ms/step - loss: 4.2633 - mean_absolute_error: 0.2668 - mean_squared_error: 3.8744 - val_loss: 13.0294 - val_mean_absolute_error: 0.4070 - val_mean_squared_error: 12.6435\n",
      "Epoch 96/1000\n",
      "22/22 [==============================] - 0s 21ms/step - loss: 4.2154 - mean_absolute_error: 0.2623 - mean_squared_error: 3.8247 - val_loss: 12.9693 - val_mean_absolute_error: 0.4081 - val_mean_squared_error: 12.5799\n",
      "Epoch 97/1000\n",
      "22/22 [==============================] - 0s 21ms/step - loss: 4.2804 - mean_absolute_error: 0.2624 - mean_squared_error: 3.8844 - val_loss: 13.1042 - val_mean_absolute_error: 0.4234 - val_mean_squared_error: 12.7111\n",
      "Epoch 98/1000\n",
      "22/22 [==============================] - 0s 21ms/step - loss: 4.2497 - mean_absolute_error: 0.2626 - mean_squared_error: 3.8559 - val_loss: 12.8946 - val_mean_absolute_error: 0.4150 - val_mean_squared_error: 12.5045\n",
      "Epoch 99/1000\n",
      "22/22 [==============================] - 0s 21ms/step - loss: 4.2426 - mean_absolute_error: 0.2640 - mean_squared_error: 3.8593 - val_loss: 13.2525 - val_mean_absolute_error: 0.4219 - val_mean_squared_error: 12.8753\n",
      "Epoch 100/1000\n",
      "22/22 [==============================] - 0s 22ms/step - loss: 4.1884 - mean_absolute_error: 0.2664 - mean_squared_error: 3.8142 - val_loss: 13.1850 - val_mean_absolute_error: 0.4154 - val_mean_squared_error: 12.8022\n",
      "Epoch 101/1000\n",
      "22/22 [==============================] - 1s 23ms/step - loss: 4.2568 - mean_absolute_error: 0.2619 - mean_squared_error: 3.8725 - val_loss: 13.2399 - val_mean_absolute_error: 0.4190 - val_mean_squared_error: 12.8566\n",
      "Epoch 102/1000\n",
      "22/22 [==============================] - 0s 22ms/step - loss: 4.2014 - mean_absolute_error: 0.2620 - mean_squared_error: 3.8269 - val_loss: 12.7635 - val_mean_absolute_error: 0.4203 - val_mean_squared_error: 12.3953\n",
      "Epoch 103/1000\n",
      "22/22 [==============================] - 0s 22ms/step - loss: 4.2021 - mean_absolute_error: 0.2630 - mean_squared_error: 3.8269 - val_loss: 13.3148 - val_mean_absolute_error: 0.4300 - val_mean_squared_error: 12.9316\n",
      "Epoch 104/1000\n",
      "22/22 [==============================] - 0s 21ms/step - loss: 4.1607 - mean_absolute_error: 0.2603 - mean_squared_error: 3.7791 - val_loss: 13.1004 - val_mean_absolute_error: 0.4253 - val_mean_squared_error: 12.7201\n",
      "Epoch 105/1000\n",
      "22/22 [==============================] - 0s 22ms/step - loss: 4.2109 - mean_absolute_error: 0.2660 - mean_squared_error: 3.8199 - val_loss: 13.5372 - val_mean_absolute_error: 0.4173 - val_mean_squared_error: 13.1517\n",
      "Epoch 106/1000\n",
      "22/22 [==============================] - 0s 22ms/step - loss: 4.2002 - mean_absolute_error: 0.2626 - mean_squared_error: 3.8156 - val_loss: 13.0916 - val_mean_absolute_error: 0.4195 - val_mean_squared_error: 12.7186\n",
      "Epoch 107/1000\n",
      "22/22 [==============================] - 0s 21ms/step - loss: 4.1864 - mean_absolute_error: 0.2636 - mean_squared_error: 3.8152 - val_loss: 13.1614 - val_mean_absolute_error: 0.4100 - val_mean_squared_error: 12.7822\n",
      "Epoch 108/1000\n",
      "22/22 [==============================] - 0s 21ms/step - loss: 4.1817 - mean_absolute_error: 0.2619 - mean_squared_error: 3.7972 - val_loss: 13.3607 - val_mean_absolute_error: 0.4204 - val_mean_squared_error: 12.9887\n",
      "Epoch 109/1000\n",
      "22/22 [==============================] - 0s 20ms/step - loss: 4.1561 - mean_absolute_error: 0.2611 - mean_squared_error: 3.7859 - val_loss: 13.3505 - val_mean_absolute_error: 0.4180 - val_mean_squared_error: 12.9767\n"
     ]
    },
    {
     "name": "stderr",
     "output_type": "stream",
     "text": [
      "C:\\Python38\\lib\\site-packages\\plotly\\matplotlylib\\renderer.py:612: UserWarning:\n",
      "\n",
      "I found a path object that I don't think is part of a bar chart. Ignoring.\n",
      "\n"
     ]
    },
    {
     "data": {
      "text/html": [
       "<br/>Waiting for W&B process to finish, PID 6388... <strong style=\"color:green\">(success).</strong>"
      ],
      "text/plain": [
       "<IPython.core.display.HTML object>"
      ]
     },
     "metadata": {},
     "output_type": "display_data"
    },
    {
     "data": {
      "application/vnd.jupyter.widget-view+json": {
       "model_id": "476b8e6a89cf40d487c0f3079cff37c1",
       "version_major": 2,
       "version_minor": 0
      },
      "text/plain": [
       "VBox(children=(Label(value=' 5.03MB of 5.03MB uploaded (0.00MB deduped)\\r'), FloatProgress(value=1.0, max=1.0)…"
      ]
     },
     "metadata": {},
     "output_type": "display_data"
    },
    {
     "data": {
      "text/html": [
       "<style>\n",
       "    table.wandb td:nth-child(1) { padding: 0 10px; text-align: right }\n",
       "    .wandb-row { display: flex; flex-direction: row; flex-wrap: wrap; width: 100% }\n",
       "    .wandb-col { display: flex; flex-direction: column; flex-basis: 100%; flex: 1; padding: 10px; }\n",
       "    </style>\n",
       "<div class=\"wandb-row\"><div class=\"wandb-col\">\n",
       "<h3>Run history:</h3><br/><table class=\"wandb\"><tr><td>epoch</td><td>▁▁▁▂▂▂▂▂▂▃▃▃▃▃▃▄▄▄▄▄▅▅▅▅▅▅▆▆▆▆▆▇▇▇▇▇▇███</td></tr><tr><td>loss</td><td>█▄▂▂▂▂▂▂▂▂▁▁▁▁▁▁▁▁▁▁▁▁▁▁▁▁▁▁▁▁▁▁▁▁▁▁▁▁▁▁</td></tr><tr><td>mean_absolute_error</td><td>█▂▂▂▂▂▂▂▂▂▂▂▂▃▂▂▂▂▂▂▂▂▂▂▂▂▂▂▂▂▂▂▁▁▁▁▁▁▁▁</td></tr><tr><td>mean_squared_error</td><td>█▅▅▅▅▅▅▄▄▄▄▄▄▄▃▄▃▃▃▃▃▃▂▂▂▂▂▂▂▂▂▂▂▁▁▁▁▁▁▁</td></tr><tr><td>val_loss</td><td>█▅▅▄▃▃▄▄▄▃▄▃▃▂▂▂▂▁▁▁▁▁▁▂▂▂▂▂▂▂▂▂▂▂▃▃▃▃▃▃</td></tr><tr><td>val_mean_absolute_error</td><td>█▆█▇▆▆▇██▆▇▆▅▄▅▅▃▂▂▂▂▂▁▄▂▂▁▃▂▃▂▃▃▃▃▄▄▄▄▄</td></tr><tr><td>val_mean_squared_error</td><td>█▆█▇▆▆▆▇▇▆▆▅▅▃▄▃▂▂▂▂▁▁▂▃▂▃▂▃▃▃▃▃▄▄▄▄▄▅▄▅</td></tr></table><br/></div><div class=\"wandb-col\">\n",
       "<h3>Run summary:</h3><br/><table class=\"wandb\"><tr><td>best_epoch</td><td>58</td></tr><tr><td>best_val_mean_squared_error</td><td>10.35238</td></tr><tr><td>epoch</td><td>108</td></tr><tr><td>loss</td><td>4.15608</td></tr><tr><td>mean_absolute_error</td><td>0.26107</td></tr><tr><td>mean_squared_error</td><td>3.78593</td></tr><tr><td>val_loss</td><td>13.35047</td></tr><tr><td>val_mean_absolute_error</td><td>0.41795</td></tr><tr><td>val_mean_squared_error</td><td>12.97665</td></tr></table>\n",
       "</div></div>\n",
       "Synced 5 W&B file(s), 2 media file(s), 0 artifact file(s) and 1 other file(s)\n",
       "<br/>Synced <strong style=\"color:#cdcd00\">sandy-capybara-505</strong>: <a href=\"https://wandb.ai/breath/BReATH/runs/233999x1\" target=\"_blank\">https://wandb.ai/breath/BReATH/runs/233999x1</a><br/>\n",
       "Find logs at: <code>.\\wandb\\run-20211213_151455-233999x1\\logs</code><br/>\n"
      ],
      "text/plain": [
       "<IPython.core.display.HTML object>"
      ]
     },
     "metadata": {},
     "output_type": "display_data"
    }
   ],
   "source": [
    "model = create_ag_best()\n",
    "manager.register_model(model, \"ag_best\", \"ag_best\")\n",
    "manager.compile_fit_save(optimizer=keras.optimizers.Adam(), epochs=1000, batch_size=int(BATCH_SIZE/7), patience=50)\n",
    "manager.save(\"ag_best\")"
   ]
  },
  {
   "cell_type": "markdown",
   "metadata": {},
   "source": [
    "### larger_reg3\n",
    "\n",
    "Melhor de todos  (possuia a melhor MSE de validação na última epoch)."
   ]
  },
  {
   "cell_type": "code",
   "execution_count": null,
   "metadata": {},
   "outputs": [],
   "source": [
    "model = create_larger_reg3()\n",
    "manager.register_model(model, \"larger_reg3_longer\", \"larger_reg3\")\n",
    "manager.compile_fit_save(optimizer=keras.optimizers.Adam(), epochs=1000, batch_size=int(BATCH_SIZE/7), patience=50)\n",
    "manager.save(\"larger_reg3_longer\")"
   ]
  },
  {
   "cell_type": "markdown",
   "metadata": {},
   "source": [
    "###  lstm3_longer\n",
    "\n",
    "Melhor LSTM (possuia a melhor MSE de validação na última epoch)."
   ]
  },
  {
   "cell_type": "code",
   "execution_count": null,
   "metadata": {},
   "outputs": [],
   "source": [
    "model = create_lstm3()\n",
    "manager.register_model(model, \"lstm3_longer\", \"lstm3\")\n",
    "manager.compile_fit_save(optimizer=keras.optimizers.Adam(), epochs=1000, batch_size=int(BATCH_SIZE/7), patience=50)\n",
    "manager.save(\"lstm3_longer\")"
   ]
  }
 ],
 "metadata": {
  "interpreter": {
   "hash": "2db524e06e9f5f4ffedc911c917cb75e12dbc923643829bf417064a77eb14d37"
  },
  "kernelspec": {
   "display_name": "Python 3.8.5 64-bit",
   "language": "python",
   "name": "python3"
  },
  "language_info": {
   "codemirror_mode": {
    "name": "ipython",
    "version": 3
   },
   "file_extension": ".py",
   "mimetype": "text/x-python",
   "name": "python",
   "nbconvert_exporter": "python",
   "pygments_lexer": "ipython3",
   "version": "3.8.5"
  },
  "orig_nbformat": 4
 },
 "nbformat": 4,
 "nbformat_minor": 2
}
